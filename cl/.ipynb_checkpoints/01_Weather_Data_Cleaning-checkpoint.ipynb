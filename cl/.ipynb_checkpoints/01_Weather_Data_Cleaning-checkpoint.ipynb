{
 "cells": [
  {
   "cell_type": "markdown",
   "metadata": {},
   "source": [
    "# Data Cleaning: Cleaning the weather data provided by Kaggle"
   ]
  },
  {
   "cell_type": "markdown",
   "metadata": {},
   "source": [
    "In this notebook, I will clean my weather data, which consists mostly of filling in the missing and trace values. I will also split my dataframe into two on the variable Station, and then create a new set of weather features by taking averages of the two stations. "
   ]
  },
  {
   "cell_type": "code",
   "execution_count": 288,
   "metadata": {},
   "outputs": [],
   "source": [
    "import pandas as pd\n",
    "import numpy as np"
   ]
  },
  {
   "cell_type": "markdown",
   "metadata": {},
   "source": [
    "### Investigating my data"
   ]
  },
  {
   "cell_type": "code",
   "execution_count": 289,
   "metadata": {},
   "outputs": [],
   "source": [
    "data = pd.read_csv('../data/weather.csv', parse_dates = ['Date'])"
   ]
  },
  {
   "cell_type": "code",
   "execution_count": 290,
   "metadata": {
    "scrolled": true
   },
   "outputs": [
    {
     "name": "stdout",
     "output_type": "stream",
     "text": [
      "<class 'pandas.core.frame.DataFrame'>\n",
      "RangeIndex: 2944 entries, 0 to 2943\n",
      "Data columns (total 22 columns):\n",
      "Station        2944 non-null int64\n",
      "Date           2944 non-null datetime64[ns]\n",
      "Tmax           2944 non-null int64\n",
      "Tmin           2944 non-null int64\n",
      "Tavg           2944 non-null object\n",
      "Depart         2944 non-null object\n",
      "DewPoint       2944 non-null int64\n",
      "WetBulb        2944 non-null object\n",
      "Heat           2944 non-null object\n",
      "Cool           2944 non-null object\n",
      "Sunrise        2944 non-null object\n",
      "Sunset         2944 non-null object\n",
      "CodeSum        2944 non-null object\n",
      "Depth          2944 non-null object\n",
      "Water1         2944 non-null object\n",
      "SnowFall       2944 non-null object\n",
      "PrecipTotal    2944 non-null object\n",
      "StnPressure    2944 non-null object\n",
      "SeaLevel       2944 non-null object\n",
      "ResultSpeed    2944 non-null float64\n",
      "ResultDir      2944 non-null int64\n",
      "AvgSpeed       2944 non-null object\n",
      "dtypes: datetime64[ns](1), float64(1), int64(5), object(15)\n",
      "memory usage: 506.1+ KB\n"
     ]
    }
   ],
   "source": [
    "data.info()"
   ]
  },
  {
   "cell_type": "markdown",
   "metadata": {},
   "source": [
    "All of the columns that are objects will eventually have to be integers or floats"
   ]
  },
  {
   "cell_type": "code",
   "execution_count": 291,
   "metadata": {
    "scrolled": true
   },
   "outputs": [
    {
     "data": {
      "text/html": [
       "<div>\n",
       "<style scoped>\n",
       "    .dataframe tbody tr th:only-of-type {\n",
       "        vertical-align: middle;\n",
       "    }\n",
       "\n",
       "    .dataframe tbody tr th {\n",
       "        vertical-align: top;\n",
       "    }\n",
       "\n",
       "    .dataframe thead th {\n",
       "        text-align: right;\n",
       "    }\n",
       "</style>\n",
       "<table border=\"1\" class=\"dataframe\">\n",
       "  <thead>\n",
       "    <tr style=\"text-align: right;\">\n",
       "      <th></th>\n",
       "      <th>Station</th>\n",
       "      <th>Tmax</th>\n",
       "      <th>Tmin</th>\n",
       "      <th>DewPoint</th>\n",
       "      <th>ResultSpeed</th>\n",
       "      <th>ResultDir</th>\n",
       "    </tr>\n",
       "  </thead>\n",
       "  <tbody>\n",
       "    <tr>\n",
       "      <th>count</th>\n",
       "      <td>2944.000000</td>\n",
       "      <td>2944.000000</td>\n",
       "      <td>2944.000000</td>\n",
       "      <td>2944.000000</td>\n",
       "      <td>2944.000000</td>\n",
       "      <td>2944.000000</td>\n",
       "    </tr>\n",
       "    <tr>\n",
       "      <th>mean</th>\n",
       "      <td>1.500000</td>\n",
       "      <td>76.166101</td>\n",
       "      <td>57.810462</td>\n",
       "      <td>53.457880</td>\n",
       "      <td>6.960666</td>\n",
       "      <td>17.494905</td>\n",
       "    </tr>\n",
       "    <tr>\n",
       "      <th>std</th>\n",
       "      <td>0.500085</td>\n",
       "      <td>11.461970</td>\n",
       "      <td>10.381939</td>\n",
       "      <td>10.675181</td>\n",
       "      <td>3.587527</td>\n",
       "      <td>10.063609</td>\n",
       "    </tr>\n",
       "    <tr>\n",
       "      <th>min</th>\n",
       "      <td>1.000000</td>\n",
       "      <td>41.000000</td>\n",
       "      <td>29.000000</td>\n",
       "      <td>22.000000</td>\n",
       "      <td>0.100000</td>\n",
       "      <td>1.000000</td>\n",
       "    </tr>\n",
       "    <tr>\n",
       "      <th>25%</th>\n",
       "      <td>1.000000</td>\n",
       "      <td>69.000000</td>\n",
       "      <td>50.000000</td>\n",
       "      <td>46.000000</td>\n",
       "      <td>4.300000</td>\n",
       "      <td>7.000000</td>\n",
       "    </tr>\n",
       "    <tr>\n",
       "      <th>50%</th>\n",
       "      <td>1.500000</td>\n",
       "      <td>78.000000</td>\n",
       "      <td>59.000000</td>\n",
       "      <td>54.000000</td>\n",
       "      <td>6.400000</td>\n",
       "      <td>19.000000</td>\n",
       "    </tr>\n",
       "    <tr>\n",
       "      <th>75%</th>\n",
       "      <td>2.000000</td>\n",
       "      <td>85.000000</td>\n",
       "      <td>66.000000</td>\n",
       "      <td>62.000000</td>\n",
       "      <td>9.200000</td>\n",
       "      <td>25.000000</td>\n",
       "    </tr>\n",
       "    <tr>\n",
       "      <th>max</th>\n",
       "      <td>2.000000</td>\n",
       "      <td>104.000000</td>\n",
       "      <td>83.000000</td>\n",
       "      <td>75.000000</td>\n",
       "      <td>24.100000</td>\n",
       "      <td>36.000000</td>\n",
       "    </tr>\n",
       "  </tbody>\n",
       "</table>\n",
       "</div>"
      ],
      "text/plain": [
       "           Station         Tmax         Tmin     DewPoint  ResultSpeed  \\\n",
       "count  2944.000000  2944.000000  2944.000000  2944.000000  2944.000000   \n",
       "mean      1.500000    76.166101    57.810462    53.457880     6.960666   \n",
       "std       0.500085    11.461970    10.381939    10.675181     3.587527   \n",
       "min       1.000000    41.000000    29.000000    22.000000     0.100000   \n",
       "25%       1.000000    69.000000    50.000000    46.000000     4.300000   \n",
       "50%       1.500000    78.000000    59.000000    54.000000     6.400000   \n",
       "75%       2.000000    85.000000    66.000000    62.000000     9.200000   \n",
       "max       2.000000   104.000000    83.000000    75.000000    24.100000   \n",
       "\n",
       "         ResultDir  \n",
       "count  2944.000000  \n",
       "mean     17.494905  \n",
       "std      10.063609  \n",
       "min       1.000000  \n",
       "25%       7.000000  \n",
       "50%      19.000000  \n",
       "75%      25.000000  \n",
       "max      36.000000  "
      ]
     },
     "execution_count": 291,
     "metadata": {},
     "output_type": "execute_result"
    }
   ],
   "source": [
    "data.describe()"
   ]
  },
  {
   "cell_type": "markdown",
   "metadata": {},
   "source": [
    "### Looking at the data"
   ]
  },
  {
   "cell_type": "code",
   "execution_count": 292,
   "metadata": {
    "scrolled": false
   },
   "outputs": [
    {
     "data": {
      "text/html": [
       "<div>\n",
       "<style scoped>\n",
       "    .dataframe tbody tr th:only-of-type {\n",
       "        vertical-align: middle;\n",
       "    }\n",
       "\n",
       "    .dataframe tbody tr th {\n",
       "        vertical-align: top;\n",
       "    }\n",
       "\n",
       "    .dataframe thead th {\n",
       "        text-align: right;\n",
       "    }\n",
       "</style>\n",
       "<table border=\"1\" class=\"dataframe\">\n",
       "  <thead>\n",
       "    <tr style=\"text-align: right;\">\n",
       "      <th></th>\n",
       "      <th>Station</th>\n",
       "      <th>Date</th>\n",
       "      <th>Tmax</th>\n",
       "      <th>Tmin</th>\n",
       "      <th>Tavg</th>\n",
       "      <th>Depart</th>\n",
       "      <th>DewPoint</th>\n",
       "      <th>WetBulb</th>\n",
       "      <th>Heat</th>\n",
       "      <th>Cool</th>\n",
       "      <th>...</th>\n",
       "      <th>CodeSum</th>\n",
       "      <th>Depth</th>\n",
       "      <th>Water1</th>\n",
       "      <th>SnowFall</th>\n",
       "      <th>PrecipTotal</th>\n",
       "      <th>StnPressure</th>\n",
       "      <th>SeaLevel</th>\n",
       "      <th>ResultSpeed</th>\n",
       "      <th>ResultDir</th>\n",
       "      <th>AvgSpeed</th>\n",
       "    </tr>\n",
       "  </thead>\n",
       "  <tbody>\n",
       "    <tr>\n",
       "      <th>0</th>\n",
       "      <td>1</td>\n",
       "      <td>2007-05-01</td>\n",
       "      <td>83</td>\n",
       "      <td>50</td>\n",
       "      <td>67</td>\n",
       "      <td>14</td>\n",
       "      <td>51</td>\n",
       "      <td>56</td>\n",
       "      <td>0</td>\n",
       "      <td>2</td>\n",
       "      <td>...</td>\n",
       "      <td></td>\n",
       "      <td>0</td>\n",
       "      <td>M</td>\n",
       "      <td>0.0</td>\n",
       "      <td>0.00</td>\n",
       "      <td>29.10</td>\n",
       "      <td>29.82</td>\n",
       "      <td>1.7</td>\n",
       "      <td>27</td>\n",
       "      <td>9.2</td>\n",
       "    </tr>\n",
       "    <tr>\n",
       "      <th>1</th>\n",
       "      <td>2</td>\n",
       "      <td>2007-05-01</td>\n",
       "      <td>84</td>\n",
       "      <td>52</td>\n",
       "      <td>68</td>\n",
       "      <td>M</td>\n",
       "      <td>51</td>\n",
       "      <td>57</td>\n",
       "      <td>0</td>\n",
       "      <td>3</td>\n",
       "      <td>...</td>\n",
       "      <td></td>\n",
       "      <td>M</td>\n",
       "      <td>M</td>\n",
       "      <td>M</td>\n",
       "      <td>0.00</td>\n",
       "      <td>29.18</td>\n",
       "      <td>29.82</td>\n",
       "      <td>2.7</td>\n",
       "      <td>25</td>\n",
       "      <td>9.6</td>\n",
       "    </tr>\n",
       "    <tr>\n",
       "      <th>2</th>\n",
       "      <td>1</td>\n",
       "      <td>2007-05-02</td>\n",
       "      <td>59</td>\n",
       "      <td>42</td>\n",
       "      <td>51</td>\n",
       "      <td>-3</td>\n",
       "      <td>42</td>\n",
       "      <td>47</td>\n",
       "      <td>14</td>\n",
       "      <td>0</td>\n",
       "      <td>...</td>\n",
       "      <td>BR</td>\n",
       "      <td>0</td>\n",
       "      <td>M</td>\n",
       "      <td>0.0</td>\n",
       "      <td>0.00</td>\n",
       "      <td>29.38</td>\n",
       "      <td>30.09</td>\n",
       "      <td>13.0</td>\n",
       "      <td>4</td>\n",
       "      <td>13.4</td>\n",
       "    </tr>\n",
       "    <tr>\n",
       "      <th>3</th>\n",
       "      <td>2</td>\n",
       "      <td>2007-05-02</td>\n",
       "      <td>60</td>\n",
       "      <td>43</td>\n",
       "      <td>52</td>\n",
       "      <td>M</td>\n",
       "      <td>42</td>\n",
       "      <td>47</td>\n",
       "      <td>13</td>\n",
       "      <td>0</td>\n",
       "      <td>...</td>\n",
       "      <td>BR HZ</td>\n",
       "      <td>M</td>\n",
       "      <td>M</td>\n",
       "      <td>M</td>\n",
       "      <td>0.00</td>\n",
       "      <td>29.44</td>\n",
       "      <td>30.08</td>\n",
       "      <td>13.3</td>\n",
       "      <td>2</td>\n",
       "      <td>13.4</td>\n",
       "    </tr>\n",
       "    <tr>\n",
       "      <th>4</th>\n",
       "      <td>1</td>\n",
       "      <td>2007-05-03</td>\n",
       "      <td>66</td>\n",
       "      <td>46</td>\n",
       "      <td>56</td>\n",
       "      <td>2</td>\n",
       "      <td>40</td>\n",
       "      <td>48</td>\n",
       "      <td>9</td>\n",
       "      <td>0</td>\n",
       "      <td>...</td>\n",
       "      <td></td>\n",
       "      <td>0</td>\n",
       "      <td>M</td>\n",
       "      <td>0.0</td>\n",
       "      <td>0.00</td>\n",
       "      <td>29.39</td>\n",
       "      <td>30.12</td>\n",
       "      <td>11.7</td>\n",
       "      <td>7</td>\n",
       "      <td>11.9</td>\n",
       "    </tr>\n",
       "  </tbody>\n",
       "</table>\n",
       "<p>5 rows × 22 columns</p>\n",
       "</div>"
      ],
      "text/plain": [
       "   Station       Date  Tmax  Tmin Tavg Depart  DewPoint WetBulb Heat Cool  \\\n",
       "0        1 2007-05-01    83    50   67     14        51      56    0    2   \n",
       "1        2 2007-05-01    84    52   68      M        51      57    0    3   \n",
       "2        1 2007-05-02    59    42   51     -3        42      47   14    0   \n",
       "3        2 2007-05-02    60    43   52      M        42      47   13    0   \n",
       "4        1 2007-05-03    66    46   56      2        40      48    9    0   \n",
       "\n",
       "     ...    CodeSum Depth Water1 SnowFall PrecipTotal StnPressure SeaLevel  \\\n",
       "0    ...                0      M      0.0        0.00       29.10    29.82   \n",
       "1    ...                M      M        M        0.00       29.18    29.82   \n",
       "2    ...         BR     0      M      0.0        0.00       29.38    30.09   \n",
       "3    ...      BR HZ     M      M        M        0.00       29.44    30.08   \n",
       "4    ...                0      M      0.0        0.00       29.39    30.12   \n",
       "\n",
       "  ResultSpeed ResultDir  AvgSpeed  \n",
       "0         1.7        27       9.2  \n",
       "1         2.7        25       9.6  \n",
       "2        13.0         4      13.4  \n",
       "3        13.3         2      13.4  \n",
       "4        11.7         7      11.9  \n",
       "\n",
       "[5 rows x 22 columns]"
      ]
     },
     "execution_count": 292,
     "metadata": {},
     "output_type": "execute_result"
    }
   ],
   "source": [
    "data.head()"
   ]
  },
  {
   "cell_type": "code",
   "execution_count": 293,
   "metadata": {},
   "outputs": [
    {
     "data": {
      "text/plain": [
       "Index(['Station', 'Date', 'Tmax', 'Tmin', 'Tavg', 'Depart', 'DewPoint',\n",
       "       'WetBulb', 'Heat', 'Cool', 'Sunrise', 'Sunset', 'CodeSum', 'Depth',\n",
       "       'Water1', 'SnowFall', 'PrecipTotal', 'StnPressure', 'SeaLevel',\n",
       "       'ResultSpeed', 'ResultDir', 'AvgSpeed'],\n",
       "      dtype='object')"
      ]
     },
     "execution_count": 293,
     "metadata": {},
     "output_type": "execute_result"
    }
   ],
   "source": [
    "data.columns"
   ]
  },
  {
   "cell_type": "markdown",
   "metadata": {},
   "source": [
    "# Cleaning the data"
   ]
  },
  {
   "cell_type": "markdown",
   "metadata": {},
   "source": [
    "Filling the missing 'Tavg's by calculating the average between max temperature and minimum temperature "
   ]
  },
  {
   "cell_type": "code",
   "execution_count": 294,
   "metadata": {},
   "outputs": [],
   "source": [
    "data['Tavg'] = data.apply(lambda x: int(np.ceil((x['Tmax'] + x['Tmin'])/2)) if x['Tavg'] == 'M' else x['Tavg'],1)"
   ]
  },
  {
   "cell_type": "markdown",
   "metadata": {},
   "source": [
    "Filling in missing 'Depart's values with zeroes"
   ]
  },
  {
   "cell_type": "markdown",
   "metadata": {},
   "source": [
    "Turn the variables from objects into integers"
   ]
  },
  {
   "cell_type": "code",
   "execution_count": 295,
   "metadata": {},
   "outputs": [],
   "source": [
    "data['Tavg']=pd.to_numeric(data['Tavg'])"
   ]
  },
  {
   "cell_type": "markdown",
   "metadata": {},
   "source": [
    "Filling in missing 'WetBulb's values with zeroes"
   ]
  },
  {
   "cell_type": "code",
   "execution_count": 296,
   "metadata": {},
   "outputs": [],
   "source": [
    "data['WetBulb'] = data.apply(lambda x: -1 if x['WetBulb'] == 'M' else x['WetBulb'],1)"
   ]
  },
  {
   "cell_type": "code",
   "execution_count": 297,
   "metadata": {},
   "outputs": [],
   "source": [
    "data['Depart'] = data.apply(lambda x: 0 if x['Depart'] == 'M' else x['Depart'],1)"
   ]
  },
  {
   "cell_type": "code",
   "execution_count": 298,
   "metadata": {},
   "outputs": [],
   "source": [
    "data['WetBulb'] = data.apply(lambda x: -1 if x['WetBulb'] == 'M' else x['WetBulb'],1)"
   ]
  },
  {
   "cell_type": "code",
   "execution_count": 299,
   "metadata": {},
   "outputs": [],
   "source": [
    "data['Depart'] = data.apply(lambda x: 0 if x['Depart'] == 'M' else x['Depart'],1)"
   ]
  },
  {
   "cell_type": "code",
   "execution_count": 300,
   "metadata": {},
   "outputs": [],
   "source": [
    "data['Depth'] = data.apply(lambda x: -1 if x['Depth'] == 'M' else x['Depth'],1)"
   ]
  },
  {
   "cell_type": "code",
   "execution_count": 301,
   "metadata": {},
   "outputs": [],
   "source": [
    "data['StnPressure'] = data.apply(lambda x: -1 if x['StnPressure'] == 'M' else x['StnPressure'],1)"
   ]
  },
  {
   "cell_type": "code",
   "execution_count": 302,
   "metadata": {},
   "outputs": [],
   "source": [
    "data['PrecipTotal'] = data.apply(lambda x: 0 if x['PrecipTotal'] == '  T' else x['PrecipTotal'],1)"
   ]
  },
  {
   "cell_type": "code",
   "execution_count": 303,
   "metadata": {},
   "outputs": [],
   "source": [
    "data['SeaLevel'] = data.apply(lambda x: -1 if x['SeaLevel'] == 'M' else x['SeaLevel'],1)"
   ]
  },
  {
   "cell_type": "code",
   "execution_count": 304,
   "metadata": {},
   "outputs": [],
   "source": [
    "data['PrecipTotal'] = data.apply(lambda x: 0 if x['PrecipTotal'] == 'M' else x['PrecipTotal'],1)"
   ]
  },
  {
   "cell_type": "code",
   "execution_count": 305,
   "metadata": {},
   "outputs": [],
   "source": [
    "data['Heat'] = data.apply(lambda x: 0 if x['Heat'] == 'M' else x['Heat'],1)"
   ]
  },
  {
   "cell_type": "code",
   "execution_count": 306,
   "metadata": {},
   "outputs": [],
   "source": [
    "data['Cool'] = data.apply(lambda x: 0 if x['Cool'] == 'M' else x['Cool'],1)"
   ]
  },
  {
   "cell_type": "code",
   "execution_count": 307,
   "metadata": {},
   "outputs": [],
   "source": [
    "data['Sunrise'] = data.apply(lambda x: 0 if x['Sunrise'] == '-' else x['Sunrise'],1)"
   ]
  },
  {
   "cell_type": "code",
   "execution_count": 308,
   "metadata": {},
   "outputs": [],
   "source": [
    "data['AvgSpeed'] = data.apply(lambda x: -1 if x['AvgSpeed'] == 'M' else x['AvgSpeed'],1)"
   ]
  },
  {
   "cell_type": "code",
   "execution_count": 309,
   "metadata": {},
   "outputs": [],
   "source": [
    "data['Sunset'] = data.apply(lambda x: 0 if x['Sunset'] == '-' else x['Sunset'],1)"
   ]
  },
  {
   "cell_type": "code",
   "execution_count": null,
   "metadata": {},
   "outputs": [],
   "source": []
  },
  {
   "cell_type": "code",
   "execution_count": 310,
   "metadata": {},
   "outputs": [],
   "source": [
    "data['Depart']=pd.to_numeric(data['Depart'])"
   ]
  },
  {
   "cell_type": "code",
   "execution_count": 311,
   "metadata": {},
   "outputs": [],
   "source": [
    "data['WetBulb'] = pd.to_numeric(data['WetBulb'])"
   ]
  },
  {
   "cell_type": "code",
   "execution_count": 312,
   "metadata": {},
   "outputs": [],
   "source": [
    "data['Cool'] = pd.to_numeric(data['Cool'])"
   ]
  },
  {
   "cell_type": "code",
   "execution_count": 313,
   "metadata": {},
   "outputs": [],
   "source": [
    "data['Sunrise'] = pd.to_numeric(data['Sunrise'])"
   ]
  },
  {
   "cell_type": "code",
   "execution_count": 314,
   "metadata": {},
   "outputs": [],
   "source": [
    "data['Sunset'] = pd.to_numeric(data['Sunset'])"
   ]
  },
  {
   "cell_type": "code",
   "execution_count": 315,
   "metadata": {},
   "outputs": [],
   "source": [
    "data['Depth'] = pd.to_numeric(data['Depth'])"
   ]
  },
  {
   "cell_type": "code",
   "execution_count": 316,
   "metadata": {},
   "outputs": [],
   "source": [
    "data['SeaLevel'] = pd.to_numeric(data['SeaLevel'])"
   ]
  },
  {
   "cell_type": "code",
   "execution_count": 317,
   "metadata": {},
   "outputs": [],
   "source": [
    "data['StnPressure'] = pd.to_numeric(data['StnPressure'])"
   ]
  },
  {
   "cell_type": "code",
   "execution_count": 318,
   "metadata": {},
   "outputs": [],
   "source": [
    "data['Heat'] = pd.to_numeric(data['Heat'])"
   ]
  },
  {
   "cell_type": "code",
   "execution_count": 319,
   "metadata": {},
   "outputs": [],
   "source": [
    "data['AvgSpeed'] = pd.to_numeric(data['AvgSpeed'])"
   ]
  },
  {
   "cell_type": "code",
   "execution_count": 320,
   "metadata": {},
   "outputs": [],
   "source": [
    "data['PrecipTotal'] = pd.to_numeric(data['PrecipTotal'])"
   ]
  },
  {
   "cell_type": "code",
   "execution_count": null,
   "metadata": {},
   "outputs": [],
   "source": []
  },
  {
   "cell_type": "code",
   "execution_count": 321,
   "metadata": {
    "scrolled": true
   },
   "outputs": [],
   "source": [
    "data.drop('Water1', axis=1, inplace=True)"
   ]
  },
  {
   "cell_type": "code",
   "execution_count": 322,
   "metadata": {},
   "outputs": [],
   "source": [
    "data.drop('SnowFall', axis=1, inplace=True)"
   ]
  },
  {
   "cell_type": "code",
   "execution_count": null,
   "metadata": {},
   "outputs": [],
   "source": []
  },
  {
   "cell_type": "code",
   "execution_count": 323,
   "metadata": {},
   "outputs": [],
   "source": [
    "weather_stn1 = data[data['Station']==1]\n",
    "weather_stn2 = data[data['Station']==2]\n",
    "weather_stn1 = weather_stn1.drop('Station', axis=1)\n",
    "weather_stn2 = weather_stn2.drop('Station', axis=1)\n",
    "weather = weather_stn1.merge(weather_stn2, on='Date')"
   ]
  },
  {
   "cell_type": "code",
   "execution_count": 324,
   "metadata": {},
   "outputs": [
    {
     "data": {
      "text/plain": [
       "(1472, 37)"
      ]
     },
     "execution_count": 324,
     "metadata": {},
     "output_type": "execute_result"
    }
   ],
   "source": [
    "weather.shape"
   ]
  },
  {
   "cell_type": "code",
   "execution_count": 325,
   "metadata": {},
   "outputs": [
    {
     "data": {
      "text/plain": [
       "Index(['Date', 'Tmax_x', 'Tmin_x', 'Tavg_x', 'Depart_x', 'DewPoint_x',\n",
       "       'WetBulb_x', 'Heat_x', 'Cool_x', 'Sunrise_x', 'Sunset_x', 'CodeSum_x',\n",
       "       'Depth_x', 'PrecipTotal_x', 'StnPressure_x', 'SeaLevel_x',\n",
       "       'ResultSpeed_x', 'ResultDir_x', 'AvgSpeed_x', 'Tmax_y', 'Tmin_y',\n",
       "       'Tavg_y', 'Depart_y', 'DewPoint_y', 'WetBulb_y', 'Heat_y', 'Cool_y',\n",
       "       'Sunrise_y', 'Sunset_y', 'CodeSum_y', 'Depth_y', 'PrecipTotal_y',\n",
       "       'StnPressure_y', 'SeaLevel_y', 'ResultSpeed_y', 'ResultDir_y',\n",
       "       'AvgSpeed_y'],\n",
       "      dtype='object')"
      ]
     },
     "execution_count": 325,
     "metadata": {},
     "output_type": "execute_result"
    }
   ],
   "source": [
    "weather.columns"
   ]
  },
  {
   "cell_type": "code",
   "execution_count": 326,
   "metadata": {},
   "outputs": [],
   "source": [
    "from datetime import datetime"
   ]
  },
  {
   "cell_type": "code",
   "execution_count": 327,
   "metadata": {},
   "outputs": [],
   "source": [
    "def day_length(row):\n",
    "    sunset = row['Sunset_x']\n",
    "    sunrise = row['Sunrise_x']\n",
    "    if sunset % 100 == 60:\n",
    "        sunset = sunset + 40\n",
    "        sunset = str(sunset)\n",
    "        sunrise = str(sunrise)\n",
    "    else:\n",
    "        sunset = str(sunset)\n",
    "        sunrise = str(sunrise)\n",
    "    \n",
    "    x = datetime.strptime(sunset, '%H%M') - datetime.strptime(sunrise, '%H%M')\n",
    "    return x.seconds\n",
    "    # parse into datetime\n",
    "    # find the difference\n",
    "    # format  for output\n",
    "    # return"
   ]
  },
  {
   "cell_type": "code",
   "execution_count": 328,
   "metadata": {},
   "outputs": [],
   "source": [
    "weather['Day_length'] = weather.apply(day_length, axis=1)"
   ]
  },
  {
   "cell_type": "code",
   "execution_count": 329,
   "metadata": {},
   "outputs": [],
   "source": [
    "weather['Tmax'] = weather.apply(lambda x: np.mean([x['Tmax_x'],x['Tmax_y']]), 1)"
   ]
  },
  {
   "cell_type": "code",
   "execution_count": 330,
   "metadata": {},
   "outputs": [],
   "source": [
    "weather['Tmin'] = weather.apply(lambda x: np.mean([x['Tmin_x'],x['Tmin_y']]),1)"
   ]
  },
  {
   "cell_type": "code",
   "execution_count": 331,
   "metadata": {},
   "outputs": [],
   "source": [
    "weather['Tavg'] = weather.apply(lambda x: np.mean([x['Tavg_x'],x['Tavg_y']]),1)"
   ]
  },
  {
   "cell_type": "code",
   "execution_count": 332,
   "metadata": {},
   "outputs": [],
   "source": [
    "weather['ResultSpeed'] = weather.apply(lambda x: np.mean([x['ResultSpeed_x'],x['ResultSpeed_y']]),1)"
   ]
  },
  {
   "cell_type": "code",
   "execution_count": 333,
   "metadata": {},
   "outputs": [],
   "source": [
    "weather['ResultDir'] = weather.apply(lambda x: np.mean([x['ResultDir_x'],x['ResultDir_y']]),1)"
   ]
  },
  {
   "cell_type": "code",
   "execution_count": 334,
   "metadata": {},
   "outputs": [],
   "source": [
    "weather['AvgSpeed'] = weather.apply(lambda x: np.mean([x['AvgSpeed_x'],x['AvgSpeed_y']]),1)"
   ]
  },
  {
   "cell_type": "code",
   "execution_count": 335,
   "metadata": {},
   "outputs": [],
   "source": [
    "weather['Sunset'] = weather['Sunset_x']"
   ]
  },
  {
   "cell_type": "code",
   "execution_count": 336,
   "metadata": {},
   "outputs": [],
   "source": [
    "weather['Sunrise'] = weather['Sunrise_x']"
   ]
  },
  {
   "cell_type": "code",
   "execution_count": 337,
   "metadata": {},
   "outputs": [],
   "source": [
    "weather['Heat'] = weather.apply(lambda x: np.mean([x['Heat_x'],x['Heat_y']]),1)"
   ]
  },
  {
   "cell_type": "code",
   "execution_count": 338,
   "metadata": {},
   "outputs": [],
   "source": [
    "weather['Depart'] = weather['Depart_x']"
   ]
  },
  {
   "cell_type": "code",
   "execution_count": 339,
   "metadata": {},
   "outputs": [],
   "source": [
    "weather['DewPoint'] = weather.apply(lambda x: np.mean([weather['DewPoint_x'],weather['DewPoint_y']]),1)"
   ]
  },
  {
   "cell_type": "code",
   "execution_count": 340,
   "metadata": {},
   "outputs": [],
   "source": [
    "weather['WetBulb'] = weather.apply(lambda x: np.mean([x['WetBulb_x'],x['WetBulb_y']]),1)"
   ]
  },
  {
   "cell_type": "code",
   "execution_count": 341,
   "metadata": {},
   "outputs": [],
   "source": [
    "weather['Cool'] = weather.apply(lambda x: np.mean([x['Cool_x'],x['Cool_y']]),1)"
   ]
  },
  {
   "cell_type": "code",
   "execution_count": 342,
   "metadata": {},
   "outputs": [],
   "source": [
    "weather['CodeSum'] = weather['CodeSum_x']"
   ]
  },
  {
   "cell_type": "code",
   "execution_count": 343,
   "metadata": {},
   "outputs": [],
   "source": [
    "weather['PrecipTotal'] = weather.apply(lambda x: np.mean([x['PrecipTotal_x'],x['PrecipTotal_y']]),1)"
   ]
  },
  {
   "cell_type": "code",
   "execution_count": 344,
   "metadata": {},
   "outputs": [],
   "source": [
    "weather['StnPressure'] = weather.apply(lambda x: np.mean([x['StnPressure_x'],x['StnPressure_y']]),1)"
   ]
  },
  {
   "cell_type": "code",
   "execution_count": 345,
   "metadata": {},
   "outputs": [
    {
     "data": {
      "text/plain": [
       "Index(['Date', 'Tmax_x', 'Tmin_x', 'Tavg_x', 'Depart_x', 'DewPoint_x',\n",
       "       'WetBulb_x', 'Heat_x', 'Cool_x', 'Sunrise_x', 'Sunset_x', 'CodeSum_x',\n",
       "       'Depth_x', 'PrecipTotal_x', 'StnPressure_x', 'SeaLevel_x',\n",
       "       'ResultSpeed_x', 'ResultDir_x', 'AvgSpeed_x', 'Tmax_y', 'Tmin_y',\n",
       "       'Tavg_y', 'Depart_y', 'DewPoint_y', 'WetBulb_y', 'Heat_y', 'Cool_y',\n",
       "       'Sunrise_y', 'Sunset_y', 'CodeSum_y', 'Depth_y', 'PrecipTotal_y',\n",
       "       'StnPressure_y', 'SeaLevel_y', 'ResultSpeed_y', 'ResultDir_y',\n",
       "       'AvgSpeed_y', 'Day_length', 'Tmax', 'Tmin', 'Tavg', 'ResultSpeed',\n",
       "       'ResultDir', 'AvgSpeed', 'Sunset', 'Sunrise', 'Heat', 'Depart',\n",
       "       'DewPoint', 'WetBulb', 'Cool', 'CodeSum', 'PrecipTotal', 'StnPressure'],\n",
       "      dtype='object')"
      ]
     },
     "execution_count": 345,
     "metadata": {},
     "output_type": "execute_result"
    }
   ],
   "source": [
    "weather.columns"
   ]
  },
  {
   "cell_type": "code",
   "execution_count": 346,
   "metadata": {},
   "outputs": [],
   "source": [
    "weather.drop([\n",
    "         'SeaLevel_x', \n",
    "         'SeaLevel_y',\n",
    "         'Tavg_x',\n",
    "         'Tavg_y',\n",
    "         'ResultSpeed_x',\n",
    "         'ResultSpeed_y',\n",
    "         'ResultDir_x',\n",
    "         'ResultDir_y',\n",
    "         'AvgSpeed_x',\n",
    "         'AvgSpeed_y',\n",
    "         'Heat_x',\n",
    "         'Heat_y',\n",
    "         'Tmax_x',\n",
    "         'Tmax_y',\n",
    "         'Tmin_x',\n",
    "         'Tmin_y',\n",
    "         'Sunset_y',\n",
    "         'Sunrise_y',\n",
    "         'Depart_y',\n",
    "         'DewPoint_x',\n",
    "         'DewPoint_y',\n",
    "         'WetBulb_x',\n",
    "         'WetBulb_y',\n",
    "         'Cool_x',\n",
    "         'Cool_y',\n",
    "         'Sunrise_x',\n",
    "         'Sunset_x',\n",
    "         'CodeSum_x',\n",
    "         'CodeSum_y',\n",
    "         'Depth_x',\n",
    "         'Depth_y',\n",
    "         'PrecipTotal_x',\n",
    "         'PrecipTotal_y',\n",
    "         'StnPressure_x',\n",
    "         'StnPressure_y',\n",
    "         'Depart_x',\n",
    "         'Depart_y',\n",
    "         'DewPoint_x',\n",
    "         'DewPoint_y'], 1, inplace=True)"
   ]
  },
  {
   "cell_type": "code",
   "execution_count": 347,
   "metadata": {},
   "outputs": [
    {
     "data": {
      "text/plain": [
       "Index(['Date', 'Day_length', 'Tmax', 'Tmin', 'Tavg', 'ResultSpeed',\n",
       "       'ResultDir', 'AvgSpeed', 'Sunset', 'Sunrise', 'Heat', 'Depart',\n",
       "       'DewPoint', 'WetBulb', 'Cool', 'CodeSum', 'PrecipTotal', 'StnPressure'],\n",
       "      dtype='object')"
      ]
     },
     "execution_count": 347,
     "metadata": {},
     "output_type": "execute_result"
    }
   ],
   "source": [
    "weather.columns"
   ]
  },
  {
   "cell_type": "code",
   "execution_count": 348,
   "metadata": {},
   "outputs": [],
   "source": [
    "weather.to_csv('../data/clean_weather.csv')"
   ]
  },
  {
   "cell_type": "code",
   "execution_count": null,
   "metadata": {},
   "outputs": [],
   "source": []
  }
 ],
 "metadata": {
  "kernelspec": {
   "display_name": "Python 3",
   "language": "python",
   "name": "python3"
  },
  "language_info": {
   "codemirror_mode": {
    "name": "ipython",
    "version": 3
   },
   "file_extension": ".py",
   "mimetype": "text/x-python",
   "name": "python",
   "nbconvert_exporter": "python",
   "pygments_lexer": "ipython3",
   "version": "3.6.5"
  }
 },
 "nbformat": 4,
 "nbformat_minor": 2
}
