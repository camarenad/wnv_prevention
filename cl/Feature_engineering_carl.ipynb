{
 "cells": [
  {
   "cell_type": "code",
   "execution_count": 1,
   "metadata": {},
   "outputs": [],
   "source": [
    "import pandas as pd\n",
    "import numpy as np"
   ]
  },
  {
   "cell_type": "code",
   "execution_count": 2,
   "metadata": {},
   "outputs": [],
   "source": [
    "df = pd.read_csv('../data/final_dataframe.csv', index_col=0, parse_dates=['Date'])"
   ]
  },
  {
   "cell_type": "code",
   "execution_count": 3,
   "metadata": {},
   "outputs": [
    {
     "data": {
      "text/plain": [
       "Index(['Trap', 'Species', 'NumMosquitos', 'WnvPresent', 'Day_length', 'Tmax',\n",
       "       'Tmin', 'Tavg', 'ResultSpeed', 'ResultDir', 'AvgSpeed', 'Sunset',\n",
       "       'Sunrise', 'Heat', 'Depart', 'DewPoint', 'WetBulb', 'Cool', 'CodeSum',\n",
       "       'PrecipTotal', 'StnPressure', 'Date', 'Latitude', 'Longitude'],\n",
       "      dtype='object')"
      ]
     },
     "execution_count": 3,
     "metadata": {},
     "output_type": "execute_result"
    }
   ],
   "source": [
    "df.columns"
   ]
  },
  {
   "cell_type": "code",
   "execution_count": 4,
   "metadata": {},
   "outputs": [
    {
     "name": "stdout",
     "output_type": "stream",
     "text": [
      "<class 'pandas.core.frame.DataFrame'>\n",
      "Int64Index: 8643 entries, 0 to 8642\n",
      "Data columns (total 24 columns):\n",
      "Trap            8643 non-null object\n",
      "Species         8643 non-null object\n",
      "NumMosquitos    8643 non-null int64\n",
      "WnvPresent      8643 non-null int64\n",
      "Day_length      8643 non-null int64\n",
      "Tmax            8643 non-null float64\n",
      "Tmin            8643 non-null float64\n",
      "Tavg            8643 non-null float64\n",
      "ResultSpeed     8643 non-null float64\n",
      "ResultDir       8643 non-null float64\n",
      "AvgSpeed        8643 non-null float64\n",
      "Sunset          8643 non-null int64\n",
      "Sunrise         8643 non-null int64\n",
      "Heat            8643 non-null float64\n",
      "Depart          8643 non-null int64\n",
      "DewPoint        8643 non-null float64\n",
      "WetBulb         8643 non-null float64\n",
      "Cool            8643 non-null float64\n",
      "CodeSum         8643 non-null object\n",
      "PrecipTotal     8643 non-null float64\n",
      "StnPressure     8643 non-null float64\n",
      "Date            8643 non-null datetime64[ns]\n",
      "Latitude        8643 non-null float64\n",
      "Longitude       8643 non-null float64\n",
      "dtypes: datetime64[ns](1), float64(14), int64(6), object(3)\n",
      "memory usage: 1.6+ MB\n"
     ]
    }
   ],
   "source": [
    "df.info()"
   ]
  },
  {
   "cell_type": "code",
   "execution_count": 5,
   "metadata": {},
   "outputs": [],
   "source": [
    "x = df['Date'].iloc[0]"
   ]
  },
  {
   "cell_type": "code",
   "execution_count": 8,
   "metadata": {},
   "outputs": [],
   "source": [
    "df['Month'] = df['Date'].map(lambda x: x.month)"
   ]
  },
  {
   "cell_type": "code",
   "execution_count": null,
   "metadata": {},
   "outputs": [],
   "source": []
  },
  {
   "cell_type": "code",
   "execution_count": 9,
   "metadata": {},
   "outputs": [],
   "source": [
    "df.to_csv('../data/dataframe.csv')"
   ]
  },
  {
   "cell_type": "code",
   "execution_count": null,
   "metadata": {},
   "outputs": [],
   "source": []
  }
 ],
 "metadata": {
  "kernelspec": {
   "display_name": "Python 3",
   "language": "python",
   "name": "python3"
  },
  "language_info": {
   "codemirror_mode": {
    "name": "ipython",
    "version": 3
   },
   "file_extension": ".py",
   "mimetype": "text/x-python",
   "name": "python",
   "nbconvert_exporter": "python",
   "pygments_lexer": "ipython3",
   "version": "3.6.5"
  }
 },
 "nbformat": 4,
 "nbformat_minor": 2
}
