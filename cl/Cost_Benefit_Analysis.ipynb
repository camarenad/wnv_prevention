{
 "cells": [
  {
   "cell_type": "markdown",
   "metadata": {},
   "source": [
    "# Cost Benefit Analysis"
   ]
  },
  {
   "cell_type": "markdown",
   "metadata": {},
   "source": [
    "For our cost benefit analysis, we are going to take a look at both Sacremento's and Lousiana's cost-benefit analyses, so we can get a sense for the benefits of spraying and how the cost is calculated.  We will be using the study,  [Economic Cost Analysis of West Nile Virus Outbreak, Sacramento County, California, USA, 2005](https://www.ncbi.nlm.nih.gov/pmc/articles/PMC3322011/), as an analagous example to support our cost benefit analysis of West Nile Virus in Chicago. "
   ]
  },
  {
   "cell_type": "markdown",
   "metadata": {},
   "source": [
    "In 2005, an outbreak of West Nile Virus infection occured in Sacramento County, California, where 163 human cases were reported. In response to this, the Sacramento-Yolo Mosquito and Vector Control District conducted an emergency aerial spray for six nights. The economic impact of the outbreak, which includes the medical costs to treat cases and patient's productivity loss, was estimated to be about $\\$2.28$ million. Vector control cost was estimated to be about $\\$701,790$ thousand, which includes the cost of spraying and overtime hours. Thus the total economic impact of West Nile was considered to be roughly $2.98$ million. The costs for treating west nile neuroinvasive disease alone exceeded the cost of vector control by about $\\$1,438,619$, a 3:1 ratio. This large difference suggests that the benefits of spraying for west nile outweigh the costs, in fact, only $15$ cases of west nile would need to be prevented in order for the emergency spray to be cost effective. "
   ]
  },
  {
   "cell_type": "markdown",
   "metadata": {},
   "source": [
    "In 2002, a total of $4156$ cases of West Nile Virus were reported in the United States, and 329 of those cases were reported in Lousiana. To estimate the total economic impact of West Nile Virus in Louisiana, data was sourced from hospitals, a patient questionnaire, and public offices. The resultant estimate was approximately $\\$20.1$ million for the time period of June 2002 to February 2003. Of that $\\$20.1$ million, $\\$10.9$ million was attributed to the cost of illness. In response to this outbreak, Lousiana increased its control efforts (aerial and ground spraying) over a 4-month period. It was calculated in the study, [A review of the vector management methods to prevent and control outbreaks of West Nile virus infection and the challenge for Europe](https://www.ncbi.nlm.nih.gov/pmc/articles/PMC4230500/), that there was an $86\\%$ decrease (compared to a $5$ year - average) in West Nile Virus carrying species. A result of this was a dramatic decrease in new human cases. Although there was no explicit cost-benefit analysis done for Louisiana, we can assume with such a high economic cost of West Nile, and with such an effective control effort, that the benefit of spraying would outweigh the cost."
   ]
  },
  {
   "cell_type": "markdown",
   "metadata": {},
   "source": [
    "Considering these two examples, we can infer a cost-benefit analysis for the city of chicago through scaling. For instance, Sacramento County has a population of roughly $1.5$ million, and the state of Louisiana has a population of about $4.68$ million. The city of Chicago has a population of $2.7$ million, which is in between the population of Sacramento County and the state of Louisiana. In both of our examples, the cost of west nile was far greater than the cost of spraying, and in the Sacramento example, spraying only needed to prevent 15 cases of west nile for it to be cost effective. If we assume that the cost for treating west nile disease exceeds the cost of vector control by a 3:1 ratio, like in the Sacramento example, then spraying for west nile in Chicago will certainly be beneficial. In 2015, it cost the city of Chicago $5.3$ million to spray for west nile. If we assume that the 3:1 ratio is true here, then this would put the economnic impact of west nile to be around $15$ million. In conclusion, controlling vector mosquitos by spraying is a beneficial endeavor. "
   ]
  }
 ],
 "metadata": {
  "kernelspec": {
   "display_name": "Python 3",
   "language": "python",
   "name": "python3"
  },
  "language_info": {
   "codemirror_mode": {
    "name": "ipython",
    "version": 3
   },
   "file_extension": ".py",
   "mimetype": "text/x-python",
   "name": "python",
   "nbconvert_exporter": "python",
   "pygments_lexer": "ipython3",
   "version": "3.6.5"
  }
 },
 "nbformat": 4,
 "nbformat_minor": 2
}
