{
 "cells": [
  {
   "cell_type": "markdown",
   "metadata": {},
   "source": [
    "# 03 Preprocessing\n",
    "\n",
    "Description: Processing the engineered data in preperation for modeling."
   ]
  },
  {
   "cell_type": "code",
   "execution_count": 1,
   "metadata": {},
   "outputs": [],
   "source": [
    "from sklearn.model_selection import train_test_split\n",
    "import numpy as np \n",
    "import pandas as pd\n",
    "import pickle\n",
    "from sklearn.model_selection import TimeSeriesSplit"
   ]
  },
  {
   "cell_type": "code",
   "execution_count": 2,
   "metadata": {},
   "outputs": [
    {
     "name": "stdout",
     "output_type": "stream",
     "text": [
      "<class 'pandas.core.frame.DataFrame'>\n",
      "Int64Index: 8643 entries, 0 to 8642\n",
      "Data columns (total 34 columns):\n",
      "Trap                 8643 non-null object\n",
      "Species              8643 non-null object\n",
      "NumMosquitos         8643 non-null int64\n",
      "WnvPresent           8643 non-null int64\n",
      "Day_length           8643 non-null int64\n",
      "Tmax                 8643 non-null float64\n",
      "Tmin                 8643 non-null float64\n",
      "Tavg                 8643 non-null float64\n",
      "ResultSpeed          8643 non-null float64\n",
      "ResultDir            8643 non-null float64\n",
      "AvgSpeed             8643 non-null float64\n",
      "Sunset               8643 non-null int64\n",
      "Sunrise              8643 non-null int64\n",
      "Heat                 8643 non-null float64\n",
      "Depart               8643 non-null int64\n",
      "DewPoint             8643 non-null float64\n",
      "WetBulb              8643 non-null float64\n",
      "Cool                 8643 non-null float64\n",
      "CodeSum              8643 non-null object\n",
      "PrecipTotal          8643 non-null float64\n",
      "StnPressure          8643 non-null float64\n",
      "Latitude             8643 non-null float64\n",
      "Longitude            8643 non-null float64\n",
      "Month                8643 non-null int64\n",
      "Day_length_shift     8643 non-null float64\n",
      "Tavg_shift           8643 non-null float64\n",
      "Heat_shift           8643 non-null float64\n",
      "Cool_shift           8643 non-null float64\n",
      "Tmax_shift           8643 non-null float64\n",
      "Tmin_shift           8643 non-null float64\n",
      "Depart_shift         8643 non-null float64\n",
      "ResultSpeed_shift    8643 non-null float64\n",
      "ResultDir_shift      8643 non-null float64\n",
      "WetBulb_shift        8643 non-null float64\n",
      "dtypes: float64(24), int64(7), object(3)\n",
      "memory usage: 2.3+ MB\n"
     ]
    }
   ],
   "source": [
    "df = pd.read_csv('../../data/final_dataframe_features.csv',index_col=0)\n",
    "df.info()"
   ]
  },
  {
   "cell_type": "markdown",
   "metadata": {},
   "source": [
    "# Dropping the CodeSum column\n",
    "We noticed after we ran our first model that this column introduced a significant amount of noise."
   ]
  },
  {
   "cell_type": "code",
   "execution_count": 3,
   "metadata": {},
   "outputs": [],
   "source": [
    "df.drop(['CodeSum'],axis=1,inplace=True)"
   ]
  },
  {
   "cell_type": "code",
   "execution_count": 4,
   "metadata": {},
   "outputs": [
    {
     "data": {
      "text/plain": [
       "Index(['Trap', 'Species', 'NumMosquitos', 'WnvPresent', 'Day_length', 'Tmax',\n",
       "       'Tmin', 'Tavg', 'ResultSpeed', 'ResultDir', 'AvgSpeed', 'Sunset',\n",
       "       'Heat', 'Depart', 'DewPoint', 'Cool', 'PrecipTotal', 'StnPressure',\n",
       "       'Latitude', 'Longitude', 'Month', 'Day_length_exp', 'Tavg_shift',\n",
       "       'Heat_exp', 'Cool_shift', 'Tmax_shift', 'Tmin_shift', 'Depart_shift',\n",
       "       'ResultSpeed_shift', 'ResultDir_exp', 'PrecipTotal_exp'],\n",
       "      dtype='object')"
      ]
     },
     "execution_count": 4,
     "metadata": {},
     "output_type": "execute_result"
    }
   ],
   "source": [
    "df.columns"
   ]
  },
  {
   "cell_type": "markdown",
   "metadata": {},
   "source": [
    "# Making dummies of the species\n",
    "This was the only column in the engineered data that needed to be dummied for use in the modeling process."
   ]
  },
  {
   "cell_type": "code",
   "execution_count": 5,
   "metadata": {},
   "outputs": [],
   "source": [
    "df_object = pd.get_dummies(df[['Species']],columns = df[['Species']].columns)"
   ]
  },
  {
   "cell_type": "code",
   "execution_count": 6,
   "metadata": {},
   "outputs": [
    {
     "data": {
      "text/plain": [
       "(8643, 7)"
      ]
     },
     "execution_count": 6,
     "metadata": {},
     "output_type": "execute_result"
    }
   ],
   "source": [
    "df_object.shape"
   ]
  },
  {
   "cell_type": "code",
   "execution_count": 7,
   "metadata": {},
   "outputs": [],
   "source": [
    "df = pd.concat([df,df_object], axis=1, join = 'outer')"
   ]
  },
  {
   "cell_type": "code",
   "execution_count": 8,
   "metadata": {},
   "outputs": [],
   "source": [
    "df.drop(['Trap', 'Species'], axis=1, inplace = True)"
   ]
  },
  {
   "cell_type": "code",
   "execution_count": 9,
   "metadata": {},
   "outputs": [],
   "source": [
    "X = df.drop(labels=['WnvPresent', 'NumMosquitos'], axis=1)\n",
    "y = df['WnvPresent']"
   ]
  },
  {
   "cell_type": "markdown",
   "metadata": {},
   "source": [
    "# Time series split"
   ]
  },
  {
   "cell_type": "code",
   "execution_count": 10,
   "metadata": {},
   "outputs": [],
   "source": [
    "tss = TimeSeriesSplit(n_splits = 3)"
   ]
  },
  {
   "cell_type": "code",
   "execution_count": 11,
   "metadata": {},
   "outputs": [],
   "source": [
    "for train_index, test_index in tss.split(X):\n",
    "    X_train, X_test = X.iloc[train_index, :], X.iloc[test_index,:]\n",
    "    y_train, y_test = y.iloc[train_index], y.iloc[test_index]"
   ]
  },
  {
   "cell_type": "markdown",
   "metadata": {},
   "source": [
    "# Pickling"
   ]
  },
  {
   "cell_type": "code",
   "execution_count": 12,
   "metadata": {},
   "outputs": [],
   "source": [
    "pd.to_pickle(X_train,'../assets/X_train.pkl')"
   ]
  },
  {
   "cell_type": "code",
   "execution_count": 13,
   "metadata": {},
   "outputs": [],
   "source": [
    "pd.to_pickle(X_test,'../assets/X_test.pkl')"
   ]
  },
  {
   "cell_type": "code",
   "execution_count": 14,
   "metadata": {},
   "outputs": [],
   "source": [
    "pd.to_pickle(y_train,'../assets/y_train.pkl')"
   ]
  },
  {
   "cell_type": "code",
   "execution_count": 15,
   "metadata": {},
   "outputs": [],
   "source": [
    "pd.to_pickle(y_test,'../assets/y_test.pkl')"
   ]
  }
 ],
 "metadata": {
  "kernelspec": {
   "display_name": "Python 3",
   "language": "python",
   "name": "python3"
  },
  "language_info": {
   "codemirror_mode": {
    "name": "ipython",
    "version": 3
   },
   "file_extension": ".py",
   "mimetype": "text/x-python",
   "name": "python",
   "nbconvert_exporter": "python",
   "pygments_lexer": "ipython3",
   "version": "3.6.5"
  }
 },
 "nbformat": 4,
 "nbformat_minor": 2
}
