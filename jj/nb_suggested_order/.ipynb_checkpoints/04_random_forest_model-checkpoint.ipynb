{
 "cells": [
  {
   "cell_type": "markdown",
   "metadata": {},
   "source": [
    "# 4. Random Forest\n",
    "\n",
    "A Random Forest Classifier is a decision based ensemble method that uses a series of decision trees to determine the class of our input variables. It works by selecting a random set of features at each node then averaging them together. This helps reduce overfitting by not emphasizing any one particular feature over another. We felt this model would be good to implement, because decision trees make no assumptions about the spread of the data and are very quick to train. \n",
    "\n",
    "After spending a good amount of time searching through hyperparameters to find an optimum fit, we were able to construct a model that satisfied our requirements for production readyness. *Although, our results with this model exhibited overfitting with a low amount power on unseen data*, it acheived a comprable `roc_auc` score to our highest scoring Logistic Regression model. Coupling that with ranked feature importance, which allows us to interpret how weather conditions are affecting the growth \n",
    "\n",
    "*This is our production model*\n"
   ]
  },
  {
   "cell_type": "markdown",
   "metadata": {},
   "source": [
    "## Table of Contents\n",
    "\n",
    "1. [Running Pipeline & Gridsearching](#1)\n",
    "2. [Scoring](#2)\n",
    "3. [Feature Importances](#3)\n",
    "4. [Analysis](#4)"
   ]
  },
  {
   "cell_type": "code",
   "execution_count": 28,
   "metadata": {},
   "outputs": [],
   "source": [
    "import numpy as np\n",
    "import pandas as pd\n",
    "import pickle\n",
    "import seaborn as sns\n",
    "from sklearn.preprocessing import StandardScaler\n",
    "from sklearn.pipeline import Pipeline\n",
    "from sklearn.model_selection import GridSearchCV, TimeSeriesSplit\n",
    "from sklearn.ensemble import RandomForestClassifier\n",
    "import matplotlib.pyplot as plt"
   ]
  },
  {
   "cell_type": "markdown",
   "metadata": {},
   "source": [
    "#### Importing the Time Series split assets\n",
    "With n_splits set at 3"
   ]
  },
  {
   "cell_type": "code",
   "execution_count": 2,
   "metadata": {},
   "outputs": [],
   "source": [
    "X_train = pd.read_pickle('../../assets/X_train.pkl')\n",
    "X_test = pd.read_pickle('../../assets/X_test.pkl')\n",
    "y_train = pd.read_pickle('../../assets/y_train.pkl')\n",
    "y_test = pd.read_pickle('../../assets/y_test.pkl')"
   ]
  },
  {
   "cell_type": "code",
   "execution_count": 3,
   "metadata": {},
   "outputs": [
    {
     "data": {
      "text/plain": [
       "Index(['Latitude', 'Longitude', 'Month', 'Day_length_shift', 'Tavg_shift',\n",
       "       'Heat_shift', 'Cool_shift', 'Tmax_shift', 'Tmin_shift', 'Depart_shift',\n",
       "       'ResultSpeed_shift', 'ResultDir_shift', 'WetBulb_shift',\n",
       "       'Species_CULEX ERRATICUS', 'Species_CULEX PIPIENS',\n",
       "       'Species_CULEX PIPIENS/RESTUANS', 'Species_CULEX RESTUANS',\n",
       "       'Species_CULEX SALINARIUS', 'Species_CULEX TARSALIS',\n",
       "       'Species_CULEX TERRITANS'],\n",
       "      dtype='object')"
      ]
     },
     "execution_count": 3,
     "metadata": {},
     "output_type": "execute_result"
    }
   ],
   "source": [
    "X_train.columns"
   ]
  },
  {
   "cell_type": "markdown",
   "metadata": {},
   "source": [
    "<a name=\"1\"></a>\n",
    "## 1. Running a Pipeline and Gridsearching Hyperparameters"
   ]
  },
  {
   "cell_type": "markdown",
   "metadata": {},
   "source": [
    "### 1a. Running a pipeline\n",
    "With a standard scaler and a Random Forest Classifier"
   ]
  },
  {
   "cell_type": "code",
   "execution_count": 4,
   "metadata": {},
   "outputs": [],
   "source": [
    "pipe = Pipeline([\n",
    "#     ('ss',StandardScaler()),\n",
    "    ('rfc',RandomForestClassifier(n_jobs=3,\n",
    "                                  n_estimators=200,\n",
    "                                  random_state=42,\n",
    "                                  criterion='entropy'))   \n",
    "])"
   ]
  },
  {
   "cell_type": "markdown",
   "metadata": {},
   "source": [
    "### 1b. Setting the range of hyperparameters "
   ]
  },
  {
   "cell_type": "code",
   "execution_count": 5,
   "metadata": {},
   "outputs": [],
   "source": [
    "param_grid =  {\n",
    "    'rfc__min_samples_split': [10, 15, 20, 25, 30],\n",
    "    'rfc__min_impurity_decrease': np.linspace(.00001, .001, 20)\n",
    "}"
   ]
  },
  {
   "cell_type": "markdown",
   "metadata": {},
   "source": [
    "### 1c. Gridsearching with  timeseries split\n",
    "\n",
    "We used `roc_auc` as our scoring metric paired with a timeseries split. There are several reasons for this:\n",
    "\n",
    "1. ROC looks at the True Positive Rate vs. the False Positive Rate rate of our predictions. We need to optimize / minimize false negatives, as failing to detect WNV where it exists means we can't answer our problem statement.\n",
    "2. The score is scale invariant, meaning that we're being scored on the strength of our predictions, as opposed to a binary of either \"correct\" / \"incorrect\"."
   ]
  },
  {
   "cell_type": "code",
   "execution_count": 6,
   "metadata": {},
   "outputs": [
    {
     "name": "stderr",
     "output_type": "stream",
     "text": [
      "/Users/jonjohnson/anaconda3/lib/python3.6/site-packages/sklearn/model_selection/_split.py:752: FutureWarning: You should specify a value for 'n_splits' instead of relying on the default value. The default value will change from 3 to 5 in version 0.22.\n",
      "  warnings.warn(NSPLIT_WARNING, FutureWarning)\n"
     ]
    }
   ],
   "source": [
    "gs = GridSearchCV(pipe, param_grid=param_grid,verbose=1,scoring='roc_auc', cv=TimeSeriesSplit())"
   ]
  },
  {
   "cell_type": "code",
   "execution_count": 7,
   "metadata": {},
   "outputs": [
    {
     "name": "stderr",
     "output_type": "stream",
     "text": [
      "[Parallel(n_jobs=1)]: Using backend SequentialBackend with 1 concurrent workers.\n"
     ]
    },
    {
     "name": "stdout",
     "output_type": "stream",
     "text": [
      "Fitting 3 folds for each of 100 candidates, totalling 300 fits\n"
     ]
    },
    {
     "name": "stderr",
     "output_type": "stream",
     "text": [
      "[Parallel(n_jobs=1)]: Done 300 out of 300 | elapsed:  2.1min finished\n"
     ]
    },
    {
     "data": {
      "text/plain": [
       "GridSearchCV(cv=TimeSeriesSplit(max_train_size=None, n_splits=3),\n",
       "       error_score='raise-deprecating',\n",
       "       estimator=Pipeline(memory=None,\n",
       "     steps=[('rfc', RandomForestClassifier(bootstrap=True, class_weight=None, criterion='entropy',\n",
       "            max_depth=None, max_features='auto', max_leaf_nodes=None,\n",
       "            min_impurity_decrease=0.0, min_impurity_split=None,\n",
       "            min_samples_leaf=1, min_samples_split=2,\n",
       "            min_weight_fraction_leaf=0.0, n_estimators=200, n_jobs=3,\n",
       "            oob_score=False, random_state=42, verbose=0, warm_start=False))]),\n",
       "       fit_params=None, iid='warn', n_jobs=None,\n",
       "       param_grid={'rfc__min_samples_split': [10, 15, 20, 25, 30], 'rfc__min_impurity_decrease': array([1.00000e-05, 6.21053e-05, 1.14211e-04, 1.66316e-04, 2.18421e-04,\n",
       "       2.70526e-04, 3.22632e-04, 3.74737e-04, 4.26842e-04, 4.78947e-04,\n",
       "       5.31053e-04, 5.83158e-04, 6.35263e-04, 6.87368e-04, 7.39474e-04,\n",
       "       7.91579e-04, 8.43684e-04, 8.95789e-04, 9.47895e-04, 1.00000e-03])},\n",
       "       pre_dispatch='2*n_jobs', refit=True, return_train_score='warn',\n",
       "       scoring='roc_auc', verbose=1)"
      ]
     },
     "execution_count": 7,
     "metadata": {},
     "output_type": "execute_result"
    }
   ],
   "source": [
    "gs.fit(X_train,y_train)"
   ]
  },
  {
   "cell_type": "markdown",
   "metadata": {},
   "source": [
    "<a name=\"2\"></a>\n",
    "## 2. Scoring\n",
    "\n",
    "Our data routinely overfit this dataset TK"
   ]
  },
  {
   "cell_type": "code",
   "execution_count": 8,
   "metadata": {},
   "outputs": [
    {
     "data": {
      "text/plain": [
       "0.960617127951614"
      ]
     },
     "execution_count": 8,
     "metadata": {},
     "output_type": "execute_result"
    }
   ],
   "source": [
    "gs.score(X_train,y_train)"
   ]
  },
  {
   "cell_type": "code",
   "execution_count": 9,
   "metadata": {
    "scrolled": true
   },
   "outputs": [
    {
     "data": {
      "text/plain": [
       "0.7234540691763693"
      ]
     },
     "execution_count": 9,
     "metadata": {},
     "output_type": "execute_result"
    }
   ],
   "source": [
    "gs.score(X_test,y_test)"
   ]
  },
  {
   "cell_type": "code",
   "execution_count": 14,
   "metadata": {},
   "outputs": [],
   "source": [
    "def plot_hyperparamter(gs_object, param_grid, hp_name):\n",
    "    test_scores = gs_object.cv_results_['mean_test_score']\n",
    "    hp_values = param_grid[hp_name]\n",
    "    plt.plot(hp_values, test_scores)\n",
    "    plt.xlabel(hp_name)\n",
    "    plt.ylabel('Test Score')"
   ]
  },
  {
   "cell_type": "code",
   "execution_count": 12,
   "metadata": {},
   "outputs": [],
   "source": [
    "plot_hyperparamter(gs, param_grid, 'rfc__min_impurity_decrease')"
   ]
  },
  {
   "cell_type": "code",
   "execution_count": 22,
   "metadata": {},
   "outputs": [],
   "source": [
    "X_train_preds = gs.predict(X_train)"
   ]
  },
  {
   "cell_type": "code",
   "execution_count": 23,
   "metadata": {},
   "outputs": [],
   "source": [
    "preds = pd.DataFrame({\n",
    "    \"preds\":X_train_preds,\n",
    "    \"truth\":y_train\n",
    "})\n"
   ]
  },
  {
   "cell_type": "code",
   "execution_count": 24,
   "metadata": {},
   "outputs": [
    {
     "data": {
      "text/plain": [
       "preds     12\n",
       "truth    261\n",
       "dtype: int64"
      ]
     },
     "execution_count": 24,
     "metadata": {},
     "output_type": "execute_result"
    }
   ],
   "source": [
    "preds.sum()"
   ]
  },
  {
   "cell_type": "code",
   "execution_count": 25,
   "metadata": {},
   "outputs": [
    {
     "data": {
      "text/plain": [
       "{'rfc__min_impurity_decrease': 0.0002705263157894737,\n",
       " 'rfc__min_samples_split': 15}"
      ]
     },
     "execution_count": 25,
     "metadata": {},
     "output_type": "execute_result"
    }
   ],
   "source": [
    "gs.best_params_"
   ]
  },
  {
   "cell_type": "markdown",
   "metadata": {},
   "source": [
    "<a name=\"3\"></a>\n",
    "## 3. Feature importances\n"
   ]
  },
  {
   "cell_type": "code",
   "execution_count": 26,
   "metadata": {},
   "outputs": [],
   "source": [
    "feat_importances = pd.DataFrame(gs.best_estimator_.named_steps['rfc'].feature_importances_, X_train.columns, columns=['importance'])"
   ]
  },
  {
   "cell_type": "code",
   "execution_count": 27,
   "metadata": {},
   "outputs": [
    {
     "data": {
      "text/html": [
       "<div>\n",
       "<style scoped>\n",
       "    .dataframe tbody tr th:only-of-type {\n",
       "        vertical-align: middle;\n",
       "    }\n",
       "\n",
       "    .dataframe tbody tr th {\n",
       "        vertical-align: top;\n",
       "    }\n",
       "\n",
       "    .dataframe thead th {\n",
       "        text-align: right;\n",
       "    }\n",
       "</style>\n",
       "<table border=\"1\" class=\"dataframe\">\n",
       "  <thead>\n",
       "    <tr style=\"text-align: right;\">\n",
       "      <th></th>\n",
       "      <th>importance</th>\n",
       "    </tr>\n",
       "  </thead>\n",
       "  <tbody>\n",
       "    <tr>\n",
       "      <th>Day_length_shift</th>\n",
       "      <td>0.160191</td>\n",
       "    </tr>\n",
       "    <tr>\n",
       "      <th>Longitude</th>\n",
       "      <td>0.146461</td>\n",
       "    </tr>\n",
       "    <tr>\n",
       "      <th>Latitude</th>\n",
       "      <td>0.112854</td>\n",
       "    </tr>\n",
       "    <tr>\n",
       "      <th>WetBulb_shift</th>\n",
       "      <td>0.086720</td>\n",
       "    </tr>\n",
       "    <tr>\n",
       "      <th>Month</th>\n",
       "      <td>0.080470</td>\n",
       "    </tr>\n",
       "    <tr>\n",
       "      <th>Tmin_shift</th>\n",
       "      <td>0.058307</td>\n",
       "    </tr>\n",
       "    <tr>\n",
       "      <th>ResultSpeed_shift</th>\n",
       "      <td>0.054231</td>\n",
       "    </tr>\n",
       "    <tr>\n",
       "      <th>Tavg_shift</th>\n",
       "      <td>0.050732</td>\n",
       "    </tr>\n",
       "    <tr>\n",
       "      <th>Depart_shift</th>\n",
       "      <td>0.048224</td>\n",
       "    </tr>\n",
       "    <tr>\n",
       "      <th>Cool_shift</th>\n",
       "      <td>0.045717</td>\n",
       "    </tr>\n",
       "    <tr>\n",
       "      <th>Tmax_shift</th>\n",
       "      <td>0.042980</td>\n",
       "    </tr>\n",
       "    <tr>\n",
       "      <th>ResultDir_shift</th>\n",
       "      <td>0.041827</td>\n",
       "    </tr>\n",
       "    <tr>\n",
       "      <th>Species_CULEX RESTUANS</th>\n",
       "      <td>0.022343</td>\n",
       "    </tr>\n",
       "    <tr>\n",
       "      <th>Species_CULEX PIPIENS</th>\n",
       "      <td>0.022047</td>\n",
       "    </tr>\n",
       "    <tr>\n",
       "      <th>Species_CULEX PIPIENS/RESTUANS</th>\n",
       "      <td>0.016258</td>\n",
       "    </tr>\n",
       "    <tr>\n",
       "      <th>Heat_shift</th>\n",
       "      <td>0.005292</td>\n",
       "    </tr>\n",
       "    <tr>\n",
       "      <th>Species_CULEX TERRITANS</th>\n",
       "      <td>0.004991</td>\n",
       "    </tr>\n",
       "    <tr>\n",
       "      <th>Species_CULEX SALINARIUS</th>\n",
       "      <td>0.000354</td>\n",
       "    </tr>\n",
       "    <tr>\n",
       "      <th>Species_CULEX ERRATICUS</th>\n",
       "      <td>0.000000</td>\n",
       "    </tr>\n",
       "    <tr>\n",
       "      <th>Species_CULEX TARSALIS</th>\n",
       "      <td>0.000000</td>\n",
       "    </tr>\n",
       "  </tbody>\n",
       "</table>\n",
       "</div>"
      ],
      "text/plain": [
       "                                importance\n",
       "Day_length_shift                  0.160191\n",
       "Longitude                         0.146461\n",
       "Latitude                          0.112854\n",
       "WetBulb_shift                     0.086720\n",
       "Month                             0.080470\n",
       "Tmin_shift                        0.058307\n",
       "ResultSpeed_shift                 0.054231\n",
       "Tavg_shift                        0.050732\n",
       "Depart_shift                      0.048224\n",
       "Cool_shift                        0.045717\n",
       "Tmax_shift                        0.042980\n",
       "ResultDir_shift                   0.041827\n",
       "Species_CULEX RESTUANS            0.022343\n",
       "Species_CULEX PIPIENS             0.022047\n",
       "Species_CULEX PIPIENS/RESTUANS    0.016258\n",
       "Heat_shift                        0.005292\n",
       "Species_CULEX TERRITANS           0.004991\n",
       "Species_CULEX SALINARIUS          0.000354\n",
       "Species_CULEX ERRATICUS           0.000000\n",
       "Species_CULEX TARSALIS            0.000000"
      ]
     },
     "execution_count": 27,
     "metadata": {},
     "output_type": "execute_result"
    }
   ],
   "source": [
    "feat_importances.sort_values('importance', ascending=False)"
   ]
  },
  {
   "cell_type": "markdown",
   "metadata": {},
   "source": [
    "#### Plotting Feature Importances"
   ]
  },
  {
   "cell_type": "code",
   "execution_count": 73,
   "metadata": {},
   "outputs": [
    {
     "data": {
      "image/png": "[encoded data removed]",
      "text/plain": [
       "<Figure size 1440x720 with 1 Axes>"
      ]
     },
     "metadata": {},
     "output_type": "display_data"
    }
   ],
   "source": [
    "plt.figure(figsize=(20,10))\n",
    "fig = sns.barplot(x='importance', \n",
    "            y=feat_importances.sort_values('importance', ascending=False).index, \n",
    "            data=feat_importances.sort_values('importance', ascending=False), \n",
    "            color='lightblue',\n",
    "            orient='horizontal')\n",
    "plt.xlabel(s='Importance', size='35')\n",
    "plt.xticks(size=20)\n",
    "plt.ylabel(s=\"Features\", size='35')\n",
    "plt.yticks(size=20)\n",
    "plt.tight_layout();"
   ]
  },
  {
   "cell_type": "markdown",
   "metadata": {},
   "source": [
    "<a name=\"4\"></a>\n",
    "## 4. Analysis:\n",
    "\n",
    "Our feature importances outline which features are most idicative of the presence or lack therof of WNV. Surprisingly, 3 non-directly weather related conditions are by far and away our most important features: \n",
    "\n",
    "- The presence of `Day_length` at the top confirms our prior about it's relation to the abundance of mosquitos. However, \n",
    "- With both `latitude` and `longitude` ranked highly, we can infer that the location of the trap makes a difference when it comes to \n",
    "\n",
    "#### The Effect of Weather Related Features\n",
    "\n",
    "The most important weather related feature turned out to be `WetBulb`, which again makes a lot of \"common\" sense. The higher the `WetBulb` temperature, the more relative humidity. Of course, the more relative humidity, the greater the saturation of water in the air, and the greater potential for mosquitos (and WNV) to [spread](https://www.accuweather.com/en/weather-news/bite-me-weathers-impact-on-mos/34268).\n",
    "\n",
    "The remaining weather related features are all clustered with a similar importance (sans `Heat`), all in-between 0.04 & 0.06. \n"
   ]
  },
  {
   "cell_type": "code",
   "execution_count": null,
   "metadata": {},
   "outputs": [],
   "source": [
    "# with open('../assets/rf_0925_303.pkl','wb+') as f:\n",
    "#     pickle.dump(gs,f)"
   ]
  }
 ],
 "metadata": {
  "kernelspec": {
   "display_name": "Python 3",
   "language": "python",
   "name": "python3"
  },
  "language_info": {
   "codemirror_mode": {
    "name": "ipython",
    "version": 3
   },
   "file_extension": ".py",
   "mimetype": "text/x-python",
   "name": "python",
   "nbconvert_exporter": "python",
   "pygments_lexer": "ipython3",
   "version": "3.6.5"
  }
 },
 "nbformat": 4,
 "nbformat_minor": 2
}
