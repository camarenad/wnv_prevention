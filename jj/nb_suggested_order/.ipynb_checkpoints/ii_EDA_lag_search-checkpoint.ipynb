{
 "cells": [
  {
   "cell_type": "markdown",
   "metadata": {},
   "source": [
    "# Appendix ii - EDA: Searching for Optimal Lags Programmatically\n",
    "\n",
    "Description: Searching for optimal feature lags to utilize in feature engineering.\n",
    "\n",
    "*To Note: None of the engineered features here made it to our production model. Due to the superior performance, and additional model interpretability, we moved forward with feature lags previously utilized by Lieb, et al.*"
   ]
  },
  {
   "cell_type": "code",
   "execution_count": 1,
   "metadata": {},
   "outputs": [],
   "source": [
    "import numpy as np\n",
    "import pandas as pd\n",
    "import matplotlib.pyplot as plt\n",
    "import seaborn as sns"
   ]
  },
  {
   "cell_type": "markdown",
   "metadata": {},
   "source": [
    "**Importing Final Dataframe**"
   ]
  },
  {
   "cell_type": "code",
   "execution_count": 2,
   "metadata": {},
   "outputs": [],
   "source": [
    "df = pd.read_csv('../data/final_dataframe_features.csv')"
   ]
  },
  {
   "cell_type": "markdown",
   "metadata": {},
   "source": [
    "### 'Grid Searching' Through Rolling & Shifted Feature Means\n",
    "\n",
    "We created a function that will help us search through different permutations of rolling means, along with shifted days, to see which configuration will give us the highest correlation with the Number of Mosquitos per trap. We'll compare that against calculating expanding means of each feature, and checking it's correlation with `NumMosquitos`. \n",
    "\n",
    "Based on research from *Lebl, et al*, we believe the following features and ranges will be most telling for the number of mosquitos per trap:\n",
    "- Daytime Length averaged 4-5 weeks prior\n",
    "- Temperature averaged 2 weeks prior\n",
    "- Wind speed averaged over 3 weeks prior\n",
    "\n",
    "We'll then measure the difference between highest correlated feature lags and un-lagged features to get an idea of how much these prior weather events tell us about mosquito populations."
   ]
  },
  {
   "cell_type": "code",
   "execution_count": 3,
   "metadata": {},
   "outputs": [],
   "source": [
    "def hi_corr(f1, f2, rm_min=3, rm_max=7, min_val=1, max_val=30):\n",
    "    corr_array = []\n",
    "    new_array = []\n",
    "    for k in range(rm_min, rm_max + 1):\n",
    "        for i in range(min_val, max_val + 1):\n",
    "            new_array.append(np.corrcoef(f1.rolling(k).mean().shift(i).dropna(), f2.drop(f2.index[:i+k-1]))[0,1])\n",
    "            corr_array.append(np.corrcoef(f1.rolling(k).mean().shift(i).dropna(), f2.drop(f2.index[:i+k-1]))[0,1])\n",
    "            new_array.append('Rolling Mean: {}'.format(k))\n",
    "            new_array.append('Shifted Value: {}'.format(i))\n",
    "    corr_max = max(corr_array)\n",
    "    corr_min = min(corr_array)\n",
    "    if abs(corr_min) > corr_max:\n",
    "        windex = new_array.index(corr_min)\n",
    "        print(corr_min, new_array[windex + 1], new_array[windex + 2])\n",
    "    else:\n",
    "        windex = new_array.index(corr_max)\n",
    "        print(corr_max, new_array[windex + 1], new_array[windex + 2])\n",
    "    return"
   ]
  },
  {
   "cell_type": "markdown",
   "metadata": {},
   "source": [
    "**Daylength Related**\n",
    "\n",
    "Examining `Day_length`"
   ]
  },
  {
   "cell_type": "code",
   "execution_count": 4,
   "metadata": {},
   "outputs": [
    {
     "name": "stdout",
     "output_type": "stream",
     "text": [
      "0.03351765362052723 Rolling Mean: 1 Shifted Value: 40\n"
     ]
    }
   ],
   "source": [
    "hi_corr(df['Day_length'], df['NumMosquitos'], rm_min=1, rm_max=7, min_val=21, max_val=42)"
   ]
  },
  {
   "cell_type": "code",
   "execution_count": 5,
   "metadata": {},
   "outputs": [
    {
     "data": {
      "text/plain": [
       "array([[1.        , 0.04006146],\n",
       "       [0.04006146, 1.        ]])"
      ]
     },
     "execution_count": 5,
     "metadata": {},
     "output_type": "execute_result"
    }
   ],
   "source": [
    "np.corrcoef(df['Day_length'].expanding().mean(), df['NumMosquitos'])"
   ]
  },
  {
   "cell_type": "markdown",
   "metadata": {},
   "source": [
    "### Temperature Related"
   ]
  },
  {
   "cell_type": "markdown",
   "metadata": {},
   "source": [
    "Examining `Tavg`"
   ]
  },
  {
   "cell_type": "code",
   "execution_count": 8,
   "metadata": {},
   "outputs": [
    {
     "name": "stdout",
     "output_type": "stream",
     "text": [
      "0.0666091429540884 Rolling Mean: 1 Shifted Value: 7\n"
     ]
    }
   ],
   "source": [
    "hi_corr(df['Tavg'], df['NumMosquitos'], rm_min=1, rm_max=7, min_val=7, max_val=21)"
   ]
  },
  {
   "cell_type": "code",
   "execution_count": 9,
   "metadata": {},
   "outputs": [
    {
     "data": {
      "text/plain": [
       "array([[1.        , 0.05431909],\n",
       "       [0.05431909, 1.        ]])"
      ]
     },
     "execution_count": 9,
     "metadata": {},
     "output_type": "execute_result"
    }
   ],
   "source": [
    "np.corrcoef(df['Tavg'].expanding().mean(), df['NumMosquitos'])"
   ]
  },
  {
   "cell_type": "code",
   "execution_count": 10,
   "metadata": {},
   "outputs": [
    {
     "data": {
      "text/plain": [
       "array([ 5,  6,  7,  8,  9, 10])"
      ]
     },
     "execution_count": 10,
     "metadata": {},
     "output_type": "execute_result"
    }
   ],
   "source": [
    "df['Month'].unique()"
   ]
  },
  {
   "cell_type": "markdown",
   "metadata": {},
   "source": [
    "Examining `Heat`"
   ]
  },
  {
   "cell_type": "code",
   "execution_count": 12,
   "metadata": {},
   "outputs": [
    {
     "name": "stdout",
     "output_type": "stream",
     "text": [
      "-0.041308292774105575 Rolling Mean: 7 Shifted Value: 8\n"
     ]
    }
   ],
   "source": [
    "hi_corr(df['Heat'], df['NumMosquitos'], rm_min=1, rm_max=7, min_val=7, max_val=21)"
   ]
  },
  {
   "cell_type": "code",
   "execution_count": 13,
   "metadata": {},
   "outputs": [
    {
     "data": {
      "text/plain": [
       "array([[ 1.        , -0.04675775],\n",
       "       [-0.04675775,  1.        ]])"
      ]
     },
     "execution_count": 13,
     "metadata": {},
     "output_type": "execute_result"
    }
   ],
   "source": [
    "np.corrcoef(df['Heat'].expanding().mean(), df['NumMosquitos'])"
   ]
  },
  {
   "cell_type": "markdown",
   "metadata": {},
   "source": [
    "Examining `Cool`"
   ]
  },
  {
   "cell_type": "code",
   "execution_count": 14,
   "metadata": {},
   "outputs": [
    {
     "name": "stdout",
     "output_type": "stream",
     "text": [
      "0.06816173690042639 Rolling Mean: 1 Shifted Value: 7\n"
     ]
    }
   ],
   "source": [
    "hi_corr(df['Cool'], df['NumMosquitos'], rm_min=1, rm_max=7, min_val=7, max_val=21)"
   ]
  },
  {
   "cell_type": "code",
   "execution_count": 15,
   "metadata": {},
   "outputs": [
    {
     "data": {
      "text/plain": [
       "array([[1.        , 0.05245493],\n",
       "       [0.05245493, 1.        ]])"
      ]
     },
     "execution_count": 15,
     "metadata": {},
     "output_type": "execute_result"
    }
   ],
   "source": [
    "np.corrcoef(df['Cool'].expanding().mean(), df['NumMosquitos'])"
   ]
  },
  {
   "cell_type": "markdown",
   "metadata": {},
   "source": [
    "Examining `Tmax`"
   ]
  },
  {
   "cell_type": "code",
   "execution_count": 16,
   "metadata": {},
   "outputs": [
    {
     "name": "stdout",
     "output_type": "stream",
     "text": [
      "0.059233391961211114 Rolling Mean: 1 Shifted Value: 7\n"
     ]
    }
   ],
   "source": [
    "hi_corr(df['Tmax'], df['NumMosquitos'], rm_min=1, rm_max=7, min_val=7, max_val=21)"
   ]
  },
  {
   "cell_type": "code",
   "execution_count": 17,
   "metadata": {},
   "outputs": [
    {
     "data": {
      "text/plain": [
       "array([[1.        , 0.05710975],\n",
       "       [0.05710975, 1.        ]])"
      ]
     },
     "execution_count": 17,
     "metadata": {},
     "output_type": "execute_result"
    }
   ],
   "source": [
    "np.corrcoef(df['Tmax'], df['NumMosquitos'])"
   ]
  },
  {
   "cell_type": "code",
   "execution_count": 18,
   "metadata": {},
   "outputs": [
    {
     "data": {
      "text/plain": [
       "array([[1.       , 0.0469504],\n",
       "       [0.0469504, 1.       ]])"
      ]
     },
     "execution_count": 18,
     "metadata": {},
     "output_type": "execute_result"
    }
   ],
   "source": [
    "np.corrcoef(df['Tmax'].expanding().mean(), df['NumMosquitos'])"
   ]
  },
  {
   "cell_type": "markdown",
   "metadata": {},
   "source": [
    "Examining `Tmin`"
   ]
  },
  {
   "cell_type": "code",
   "execution_count": 19,
   "metadata": {},
   "outputs": [
    {
     "name": "stdout",
     "output_type": "stream",
     "text": [
      "0.06767516243864329 Rolling Mean: 1 Shifted Value: 10\n"
     ]
    }
   ],
   "source": [
    "hi_corr(df['Tmin'], df['NumMosquitos'], rm_min=1, rm_max=7, min_val=7, max_val=21)"
   ]
  },
  {
   "cell_type": "code",
   "execution_count": 20,
   "metadata": {},
   "outputs": [
    {
     "data": {
      "text/plain": [
       "array([[1.        , 0.05988869],\n",
       "       [0.05988869, 1.        ]])"
      ]
     },
     "execution_count": 20,
     "metadata": {},
     "output_type": "execute_result"
    }
   ],
   "source": [
    "np.corrcoef(df['Tmin'].expanding().mean(), df['NumMosquitos'])"
   ]
  },
  {
   "cell_type": "markdown",
   "metadata": {},
   "source": [
    "Examining `Depart`"
   ]
  },
  {
   "cell_type": "code",
   "execution_count": 22,
   "metadata": {},
   "outputs": [
    {
     "name": "stdout",
     "output_type": "stream",
     "text": [
      "0.037569483464707176 Rolling Mean: 1 Shifted Value: 7\n"
     ]
    }
   ],
   "source": [
    "hi_corr(df['Depart'], df['NumMosquitos'], rm_min=1, rm_max=7, min_val=7, max_val=21)"
   ]
  },
  {
   "cell_type": "code",
   "execution_count": 23,
   "metadata": {},
   "outputs": [
    {
     "data": {
      "text/plain": [
       "array([[1.        , 0.00508592],\n",
       "       [0.00508592, 1.        ]])"
      ]
     },
     "execution_count": 23,
     "metadata": {},
     "output_type": "execute_result"
    }
   ],
   "source": [
    "np.corrcoef(df['Depart'].expanding().mean(), df['NumMosquitos'])"
   ]
  },
  {
   "cell_type": "markdown",
   "metadata": {},
   "source": [
    "### Wind Related"
   ]
  },
  {
   "cell_type": "markdown",
   "metadata": {},
   "source": [
    "Examining `ResultSpeed` (Wind Speed)"
   ]
  },
  {
   "cell_type": "code",
   "execution_count": 24,
   "metadata": {},
   "outputs": [
    {
     "name": "stdout",
     "output_type": "stream",
     "text": [
      "-0.009319060722963545 Rolling Mean: 7 Shifted Value: 28\n"
     ]
    }
   ],
   "source": [
    "hi_corr(df['ResultSpeed'], df['NumMosquitos'], rm_min=1, rm_max=7, min_val=14, max_val=28)"
   ]
  },
  {
   "cell_type": "code",
   "execution_count": 25,
   "metadata": {},
   "outputs": [
    {
     "data": {
      "text/plain": [
       "array([[ 1.        , -0.00656348],\n",
       "       [-0.00656348,  1.        ]])"
      ]
     },
     "execution_count": 25,
     "metadata": {},
     "output_type": "execute_result"
    }
   ],
   "source": [
    "np.corrcoef(df['ResultSpeed'].expanding().mean(), df['NumMosquitos'])"
   ]
  },
  {
   "cell_type": "markdown",
   "metadata": {},
   "source": [
    "Examining `ResultDir`"
   ]
  },
  {
   "cell_type": "code",
   "execution_count": 27,
   "metadata": {},
   "outputs": [
    {
     "name": "stdout",
     "output_type": "stream",
     "text": [
      "0.00422555406684047 Rolling Mean: 1 Shifted Value: 18\n"
     ]
    }
   ],
   "source": [
    "hi_corr(df['ResultDir'], df['NumMosquitos'], rm_min=1, rm_max=7, min_val=14, max_val=28)"
   ]
  },
  {
   "cell_type": "code",
   "execution_count": 28,
   "metadata": {},
   "outputs": [
    {
     "data": {
      "text/plain": [
       "array([[1.       , 0.0291355],\n",
       "       [0.0291355, 1.       ]])"
      ]
     },
     "execution_count": 28,
     "metadata": {},
     "output_type": "execute_result"
    }
   ],
   "source": [
    "np.corrcoef(df['ResultDir'].expanding().mean(), df['NumMosquitos'])"
   ]
  },
  {
   "cell_type": "markdown",
   "metadata": {},
   "source": [
    "### Precipitation Related"
   ]
  },
  {
   "cell_type": "markdown",
   "metadata": {},
   "source": [
    "Examining `PrecipTotal`"
   ]
  },
  {
   "cell_type": "code",
   "execution_count": 29,
   "metadata": {},
   "outputs": [
    {
     "name": "stdout",
     "output_type": "stream",
     "text": [
      "0.06796524984931208 Rolling Mean: 50 Shifted Value: 42\n"
     ]
    }
   ],
   "source": [
    "hi_corr(df['PrecipTotal'], df['NumMosquitos'], rm_min=1, rm_max=100, min_val=7, max_val=100)"
   ]
  },
  {
   "cell_type": "code",
   "execution_count": 30,
   "metadata": {},
   "outputs": [
    {
     "data": {
      "text/plain": [
       "array([[1.        , 0.07840287],\n",
       "       [0.07840287, 1.        ]])"
      ]
     },
     "execution_count": 30,
     "metadata": {},
     "output_type": "execute_result"
    }
   ],
   "source": [
    "np.corrcoef(df['PrecipTotal'].expanding().mean(), df['NumMosquitos'])"
   ]
  },
  {
   "cell_type": "markdown",
   "metadata": {},
   "source": [
    "Examining `WetBulb`\n",
    ">The lowest temperature that can be reached by evaporating water into the air. Note: the wet bulb temperature will always be less than or equal to the temperature. It feels more comfortable when wet-bulb temperature is low. [Source] (http://apollo.lsc.vsc.edu/classes/met130/notes/chapter4/wet_bulb.html)"
   ]
  },
  {
   "cell_type": "code",
   "execution_count": 32,
   "metadata": {},
   "outputs": [
    {
     "name": "stdout",
     "output_type": "stream",
     "text": [
      "0.07081425525830452 Rolling Mean: 100 Shifted Value: 7\n"
     ]
    }
   ],
   "source": [
    "hi_corr(df['WetBulb'], df['NumMosquitos'], rm_min=1, rm_max=100, min_val=7, max_val=100)"
   ]
  },
  {
   "cell_type": "code",
   "execution_count": 33,
   "metadata": {},
   "outputs": [
    {
     "data": {
      "text/plain": [
       "array([[1.        , 0.05820184],\n",
       "       [0.05820184, 1.        ]])"
      ]
     },
     "execution_count": 33,
     "metadata": {},
     "output_type": "execute_result"
    }
   ],
   "source": [
    "np.corrcoef(df['WetBulb'].expanding().mean(), df['NumMosquitos'])"
   ]
  },
  {
   "cell_type": "markdown",
   "metadata": {},
   "source": [
    "Examining `DewPoint`\n",
    "> the atmospheric temperature (varying according to pressure and humidity) below which water droplets begin to condense and dew can form."
   ]
  },
  {
   "cell_type": "code",
   "execution_count": 34,
   "metadata": {},
   "outputs": [
    {
     "name": "stderr",
     "output_type": "stream",
     "text": [
      "/Users/jonjohnson/anaconda3/lib/python3.6/site-packages/numpy/lib/function_base.py:3183: RuntimeWarning: invalid value encountered in true_divide\n",
      "  c /= stddev[:, None]\n",
      "/Users/jonjohnson/anaconda3/lib/python3.6/site-packages/numpy/lib/function_base.py:3184: RuntimeWarning: invalid value encountered in true_divide\n",
      "  c /= stddev[None, :]\n"
     ]
    },
    {
     "name": "stdout",
     "output_type": "stream",
     "text": [
      "-0.002170705197829583 Rolling Mean: 9 Shifted Value: 74\n"
     ]
    }
   ],
   "source": [
    "hi_corr(df['DewPoint'], df['NumMosquitos'], rm_min=1, rm_max=100, min_val=7, max_val=100)"
   ]
  },
  {
   "cell_type": "code",
   "execution_count": 35,
   "metadata": {},
   "outputs": [
    {
     "data": {
      "text/plain": [
       "array([[1.00000000e+00, 8.56341637e-04],\n",
       "       [8.56341637e-04, 1.00000000e+00]])"
      ]
     },
     "execution_count": 35,
     "metadata": {},
     "output_type": "execute_result"
    }
   ],
   "source": [
    "np.corrcoef(df['DewPoint'].expanding().mean(), df['NumMosquitos'])"
   ]
  },
  {
   "cell_type": "markdown",
   "metadata": {},
   "source": [
    "### Analysis of Shifted & Expanding Features Against `NumMosquitos`\n",
    "\n",
    "Many of the shifted features had the largest correlation with `NumMosquitos` interestingly weren't shifted to the same degree as found in *Lebl, et al*. And, after running several models utilizing features engineered to the specifications we came to above, we came to the conclusion that a better fit model was possible with more thoughtfully engineered data.\n",
    "\n",
    "So, given the extensive domain knowledge of *Lebl, et al* in the field, we moved forward with their conclusions for our when engineering our features:\n",
    "\n",
    "- Daytime Length averaged 4-5 weeks prior\n",
    "- Temperature averaged 2 weeks prior\n",
    "- Wind speed averaged over 3 weeks prior"
   ]
  }
 ],
 "metadata": {
  "kernelspec": {
   "display_name": "Python 3",
   "language": "python",
   "name": "python3"
  },
  "language_info": {
   "codemirror_mode": {
    "name": "ipython",
    "version": 3
   },
   "file_extension": ".py",
   "mimetype": "text/x-python",
   "name": "python",
   "nbconvert_exporter": "python",
   "pygments_lexer": "ipython3",
   "version": "3.6.5"
  }
 },
 "nbformat": 4,
 "nbformat_minor": 2
}
