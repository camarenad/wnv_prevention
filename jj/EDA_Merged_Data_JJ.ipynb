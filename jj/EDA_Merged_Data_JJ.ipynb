{
 "cells": [
  {
   "cell_type": "markdown",
   "metadata": {},
   "source": [
    "### Important Things to Note\n",
    "\n",
    "- We should have at least a dozen really awesome plots that describe our data\n"
   ]
  },
  {
   "cell_type": "code",
   "execution_count": 1,
   "metadata": {},
   "outputs": [],
   "source": [
    "import pandas as pd\n",
    "import numpy as np\n",
    "import seaborn as sns\n",
    "import matplotlib.pyplot as plt\n",
    "\n",
    "%matplotlib inline"
   ]
  },
  {
   "cell_type": "code",
   "execution_count": 36,
   "metadata": {},
   "outputs": [],
   "source": [
    "df = pd.read_csv('../data/final_dataframe.csv', index_col=0)"
   ]
  },
  {
   "cell_type": "markdown",
   "metadata": {},
   "source": [
    "**Columns have been shifted**"
   ]
  },
  {
   "cell_type": "code",
   "execution_count": 3,
   "metadata": {},
   "outputs": [
    {
     "data": {
      "text/plain": [
       "Index(['Unnamed: 0', 'Trap', 'Species', 'NumMosquitos', 'WnvPresent',\n",
       "       'Day_length', 'Tmax', 'Tmin', 'Tavg', 'ResultSpeed', 'ResultDir',\n",
       "       'AvgSpeed', 'Sunset', 'Sunrise', 'Heat', 'Depart', 'DewPoint',\n",
       "       'WetBulb', 'Cool', 'CodeSum', 'PrecipTotal', 'StnPressure', 'Date',\n",
       "       'Latitude', 'Longitude', 'Month'],\n",
       "      dtype='object')"
      ]
     },
     "execution_count": 3,
     "metadata": {},
     "output_type": "execute_result"
    }
   ],
   "source": [
    "df.columns"
   ]
  },
  {
   "cell_type": "code",
   "execution_count": 4,
   "metadata": {},
   "outputs": [
    {
     "data": {
      "text/html": [
       "<div>\n",
       "<style scoped>\n",
       "    .dataframe tbody tr th:only-of-type {\n",
       "        vertical-align: middle;\n",
       "    }\n",
       "\n",
       "    .dataframe tbody tr th {\n",
       "        vertical-align: top;\n",
       "    }\n",
       "\n",
       "    .dataframe thead th {\n",
       "        text-align: right;\n",
       "    }\n",
       "</style>\n",
       "<table border=\"1\" class=\"dataframe\">\n",
       "  <thead>\n",
       "    <tr style=\"text-align: right;\">\n",
       "      <th></th>\n",
       "      <th>Unnamed: 0</th>\n",
       "      <th>NumMosquitos</th>\n",
       "      <th>WnvPresent</th>\n",
       "      <th>Day_length</th>\n",
       "      <th>Tmax</th>\n",
       "      <th>Tmin</th>\n",
       "      <th>Tavg</th>\n",
       "      <th>ResultSpeed</th>\n",
       "      <th>ResultDir</th>\n",
       "      <th>AvgSpeed</th>\n",
       "      <th>...</th>\n",
       "      <th>Heat</th>\n",
       "      <th>Depart</th>\n",
       "      <th>DewPoint</th>\n",
       "      <th>WetBulb</th>\n",
       "      <th>Cool</th>\n",
       "      <th>PrecipTotal</th>\n",
       "      <th>StnPressure</th>\n",
       "      <th>Latitude</th>\n",
       "      <th>Longitude</th>\n",
       "      <th>Month</th>\n",
       "    </tr>\n",
       "  </thead>\n",
       "  <tbody>\n",
       "    <tr>\n",
       "      <th>Unnamed: 0</th>\n",
       "      <td>1.000000</td>\n",
       "      <td>-2.471854e-02</td>\n",
       "      <td>5.924797e-02</td>\n",
       "      <td>-1.151753e-01</td>\n",
       "      <td>-9.855905e-02</td>\n",
       "      <td>-1.255352e-01</td>\n",
       "      <td>-1.199777e-01</td>\n",
       "      <td>4.286471e-02</td>\n",
       "      <td>5.652466e-02</td>\n",
       "      <td>-3.734839e-02</td>\n",
       "      <td>...</td>\n",
       "      <td>1.269669e-02</td>\n",
       "      <td>-1.066102e-01</td>\n",
       "      <td>0.000000e+00</td>\n",
       "      <td>-1.074710e-01</td>\n",
       "      <td>-1.531190e-01</td>\n",
       "      <td>-1.254354e-01</td>\n",
       "      <td>5.354666e-02</td>\n",
       "      <td>1.573416e-03</td>\n",
       "      <td>-3.183688e-02</td>\n",
       "      <td>8.523277e-02</td>\n",
       "    </tr>\n",
       "    <tr>\n",
       "      <th>NumMosquitos</th>\n",
       "      <td>-0.024719</td>\n",
       "      <td>1.000000e+00</td>\n",
       "      <td>2.325071e-01</td>\n",
       "      <td>2.600100e-02</td>\n",
       "      <td>5.710975e-02</td>\n",
       "      <td>6.707573e-02</td>\n",
       "      <td>6.554450e-02</td>\n",
       "      <td>-3.515264e-03</td>\n",
       "      <td>-1.558804e-02</td>\n",
       "      <td>1.840583e-03</td>\n",
       "      <td>...</td>\n",
       "      <td>-4.183374e-02</td>\n",
       "      <td>3.683174e-02</td>\n",
       "      <td>-2.396084e-15</td>\n",
       "      <td>5.863445e-02</td>\n",
       "      <td>6.625508e-02</td>\n",
       "      <td>-1.521408e-02</td>\n",
       "      <td>7.917151e-03</td>\n",
       "      <td>-5.701232e-02</td>\n",
       "      <td>-2.493159e-03</td>\n",
       "      <td>-8.198467e-03</td>\n",
       "    </tr>\n",
       "    <tr>\n",
       "      <th>WnvPresent</th>\n",
       "      <td>0.059248</td>\n",
       "      <td>2.325071e-01</td>\n",
       "      <td>1.000000e+00</td>\n",
       "      <td>-7.396398e-02</td>\n",
       "      <td>5.997775e-02</td>\n",
       "      <td>8.873438e-02</td>\n",
       "      <td>7.830815e-02</td>\n",
       "      <td>-5.266001e-02</td>\n",
       "      <td>-1.304697e-03</td>\n",
       "      <td>-3.602414e-02</td>\n",
       "      <td>...</td>\n",
       "      <td>-5.831994e-02</td>\n",
       "      <td>6.536316e-02</td>\n",
       "      <td>-1.071897e-14</td>\n",
       "      <td>9.440782e-02</td>\n",
       "      <td>7.500012e-02</td>\n",
       "      <td>-7.025656e-03</td>\n",
       "      <td>2.492389e-02</td>\n",
       "      <td>3.229781e-02</td>\n",
       "      <td>-7.711310e-02</td>\n",
       "      <td>9.886850e-02</td>\n",
       "    </tr>\n",
       "    <tr>\n",
       "      <th>Day_length</th>\n",
       "      <td>-0.115175</td>\n",
       "      <td>2.600100e-02</td>\n",
       "      <td>-7.396398e-02</td>\n",
       "      <td>1.000000e+00</td>\n",
       "      <td>1.567827e-01</td>\n",
       "      <td>2.338259e-01</td>\n",
       "      <td>2.045247e-01</td>\n",
       "      <td>1.050518e-01</td>\n",
       "      <td>-3.517688e-02</td>\n",
       "      <td>1.039972e-01</td>\n",
       "      <td>...</td>\n",
       "      <td>-2.314760e-01</td>\n",
       "      <td>-2.806494e-01</td>\n",
       "      <td>-6.226171e-15</td>\n",
       "      <td>1.086087e-01</td>\n",
       "      <td>1.564293e-01</td>\n",
       "      <td>1.649567e-01</td>\n",
       "      <td>-1.437130e-01</td>\n",
       "      <td>2.737976e-02</td>\n",
       "      <td>-2.446524e-02</td>\n",
       "      <td>-9.211585e-01</td>\n",
       "    </tr>\n",
       "    <tr>\n",
       "      <th>Tmax</th>\n",
       "      <td>-0.098559</td>\n",
       "      <td>5.710975e-02</td>\n",
       "      <td>5.997775e-02</td>\n",
       "      <td>1.567827e-01</td>\n",
       "      <td>1.000000e+00</td>\n",
       "      <td>7.837069e-01</td>\n",
       "      <td>9.500391e-01</td>\n",
       "      <td>-2.207805e-02</td>\n",
       "      <td>1.848661e-01</td>\n",
       "      <td>1.107499e-02</td>\n",
       "      <td>...</td>\n",
       "      <td>-7.557791e-01</td>\n",
       "      <td>8.166832e-01</td>\n",
       "      <td>9.780629e-15</td>\n",
       "      <td>7.620599e-01</td>\n",
       "      <td>8.858615e-01</td>\n",
       "      <td>9.180543e-02</td>\n",
       "      <td>-7.965560e-02</td>\n",
       "      <td>-1.228149e-02</td>\n",
       "      <td>4.067485e-02</td>\n",
       "      <td>-1.065289e-02</td>\n",
       "    </tr>\n",
       "    <tr>\n",
       "      <th>Tmin</th>\n",
       "      <td>-0.125535</td>\n",
       "      <td>6.707573e-02</td>\n",
       "      <td>8.873438e-02</td>\n",
       "      <td>2.338259e-01</td>\n",
       "      <td>7.837069e-01</td>\n",
       "      <td>1.000000e+00</td>\n",
       "      <td>9.379846e-01</td>\n",
       "      <td>5.115248e-02</td>\n",
       "      <td>1.259186e-01</td>\n",
       "      <td>1.514263e-01</td>\n",
       "      <td>...</td>\n",
       "      <td>-6.876115e-01</td>\n",
       "      <td>7.039355e-01</td>\n",
       "      <td>4.367318e-15</td>\n",
       "      <td>8.055124e-01</td>\n",
       "      <td>9.038195e-01</td>\n",
       "      <td>2.284177e-01</td>\n",
       "      <td>-1.290074e-01</td>\n",
       "      <td>-2.761859e-02</td>\n",
       "      <td>4.722244e-02</td>\n",
       "      <td>-8.514082e-02</td>\n",
       "    </tr>\n",
       "    <tr>\n",
       "      <th>Tavg</th>\n",
       "      <td>-0.119978</td>\n",
       "      <td>6.554450e-02</td>\n",
       "      <td>7.830815e-02</td>\n",
       "      <td>2.045247e-01</td>\n",
       "      <td>9.500391e-01</td>\n",
       "      <td>9.379846e-01</td>\n",
       "      <td>1.000000e+00</td>\n",
       "      <td>1.012837e-02</td>\n",
       "      <td>1.644862e-01</td>\n",
       "      <td>8.033201e-02</td>\n",
       "      <td>...</td>\n",
       "      <td>-7.658424e-01</td>\n",
       "      <td>8.068591e-01</td>\n",
       "      <td>1.362211e-14</td>\n",
       "      <td>8.283671e-01</td>\n",
       "      <td>9.472424e-01</td>\n",
       "      <td>1.664239e-01</td>\n",
       "      <td>-1.091188e-01</td>\n",
       "      <td>-2.041983e-02</td>\n",
       "      <td>4.620182e-02</td>\n",
       "      <td>-4.737868e-02</td>\n",
       "    </tr>\n",
       "    <tr>\n",
       "      <th>ResultSpeed</th>\n",
       "      <td>0.042865</td>\n",
       "      <td>-3.515264e-03</td>\n",
       "      <td>-5.266001e-02</td>\n",
       "      <td>1.050518e-01</td>\n",
       "      <td>-2.207805e-02</td>\n",
       "      <td>5.115248e-02</td>\n",
       "      <td>1.012837e-02</td>\n",
       "      <td>1.000000e+00</td>\n",
       "      <td>2.132027e-01</td>\n",
       "      <td>9.024422e-01</td>\n",
       "      <td>...</td>\n",
       "      <td>1.650517e-02</td>\n",
       "      <td>2.608823e-02</td>\n",
       "      <td>-7.726295e-14</td>\n",
       "      <td>-2.490492e-02</td>\n",
       "      <td>2.168739e-02</td>\n",
       "      <td>1.526857e-01</td>\n",
       "      <td>-3.895319e-02</td>\n",
       "      <td>1.027285e-03</td>\n",
       "      <td>1.339934e-02</td>\n",
       "      <td>-1.609664e-01</td>\n",
       "    </tr>\n",
       "    <tr>\n",
       "      <th>ResultDir</th>\n",
       "      <td>0.056525</td>\n",
       "      <td>-1.558804e-02</td>\n",
       "      <td>-1.304697e-03</td>\n",
       "      <td>-3.517688e-02</td>\n",
       "      <td>1.848661e-01</td>\n",
       "      <td>1.259186e-01</td>\n",
       "      <td>1.644862e-01</td>\n",
       "      <td>2.132027e-01</td>\n",
       "      <td>1.000000e+00</td>\n",
       "      <td>2.816556e-01</td>\n",
       "      <td>...</td>\n",
       "      <td>-1.434181e-01</td>\n",
       "      <td>1.318604e-01</td>\n",
       "      <td>-2.162505e-15</td>\n",
       "      <td>2.060986e-01</td>\n",
       "      <td>1.471115e-01</td>\n",
       "      <td>3.381726e-03</td>\n",
       "      <td>1.354420e-01</td>\n",
       "      <td>-1.422650e-02</td>\n",
       "      <td>2.341085e-02</td>\n",
       "      <td>5.168287e-02</td>\n",
       "    </tr>\n",
       "    <tr>\n",
       "      <th>AvgSpeed</th>\n",
       "      <td>-0.037348</td>\n",
       "      <td>1.840583e-03</td>\n",
       "      <td>-3.602414e-02</td>\n",
       "      <td>1.039972e-01</td>\n",
       "      <td>1.107499e-02</td>\n",
       "      <td>1.514263e-01</td>\n",
       "      <td>8.033201e-02</td>\n",
       "      <td>9.024422e-01</td>\n",
       "      <td>2.816556e-01</td>\n",
       "      <td>1.000000e+00</td>\n",
       "      <td>...</td>\n",
       "      <td>9.040456e-03</td>\n",
       "      <td>1.007949e-01</td>\n",
       "      <td>1.088234e-14</td>\n",
       "      <td>5.970099e-02</td>\n",
       "      <td>1.112657e-01</td>\n",
       "      <td>2.870751e-01</td>\n",
       "      <td>-5.372855e-02</td>\n",
       "      <td>-1.271181e-02</td>\n",
       "      <td>2.978722e-02</td>\n",
       "      <td>-1.740464e-01</td>\n",
       "    </tr>\n",
       "    <tr>\n",
       "      <th>Sunset</th>\n",
       "      <td>-0.113789</td>\n",
       "      <td>3.174689e-02</td>\n",
       "      <td>-6.062210e-02</td>\n",
       "      <td>9.835851e-01</td>\n",
       "      <td>2.073171e-01</td>\n",
       "      <td>2.796547e-01</td>\n",
       "      <td>2.556704e-01</td>\n",
       "      <td>8.636726e-02</td>\n",
       "      <td>-1.215696e-02</td>\n",
       "      <td>8.473892e-02</td>\n",
       "      <td>...</td>\n",
       "      <td>-2.678778e-01</td>\n",
       "      <td>-2.511116e-01</td>\n",
       "      <td>-2.056988e-15</td>\n",
       "      <td>1.576253e-01</td>\n",
       "      <td>2.062562e-01</td>\n",
       "      <td>1.489995e-01</td>\n",
       "      <td>-1.262157e-01</td>\n",
       "      <td>1.748182e-02</td>\n",
       "      <td>-1.711397e-02</td>\n",
       "      <td>-8.652102e-01</td>\n",
       "    </tr>\n",
       "    <tr>\n",
       "      <th>Sunrise</th>\n",
       "      <td>0.123596</td>\n",
       "      <td>-1.663384e-02</td>\n",
       "      <td>9.871322e-02</td>\n",
       "      <td>-9.780010e-01</td>\n",
       "      <td>-1.132880e-01</td>\n",
       "      <td>-1.839146e-01</td>\n",
       "      <td>-1.561102e-01</td>\n",
       "      <td>-1.379578e-01</td>\n",
       "      <td>6.042293e-02</td>\n",
       "      <td>-1.217758e-01</td>\n",
       "      <td>...</td>\n",
       "      <td>1.888458e-01</td>\n",
       "      <td>3.016481e-01</td>\n",
       "      <td>-1.050996e-14</td>\n",
       "      <td>-5.932239e-02</td>\n",
       "      <td>-1.133366e-01</td>\n",
       "      <td>-1.678213e-01</td>\n",
       "      <td>1.385447e-01</td>\n",
       "      <td>-2.973554e-02</td>\n",
       "      <td>2.733672e-02</td>\n",
       "      <td>8.995888e-01</td>\n",
       "    </tr>\n",
       "    <tr>\n",
       "      <th>Heat</th>\n",
       "      <td>0.012697</td>\n",
       "      <td>-4.183374e-02</td>\n",
       "      <td>-5.831994e-02</td>\n",
       "      <td>-2.314760e-01</td>\n",
       "      <td>-7.557791e-01</td>\n",
       "      <td>-6.876115e-01</td>\n",
       "      <td>-7.658424e-01</td>\n",
       "      <td>1.650517e-02</td>\n",
       "      <td>-1.434181e-01</td>\n",
       "      <td>9.040456e-03</td>\n",
       "      <td>...</td>\n",
       "      <td>1.000000e+00</td>\n",
       "      <td>-5.516605e-01</td>\n",
       "      <td>-4.161765e-15</td>\n",
       "      <td>-6.264656e-01</td>\n",
       "      <td>-5.193361e-01</td>\n",
       "      <td>-2.331548e-02</td>\n",
       "      <td>5.166455e-02</td>\n",
       "      <td>1.426793e-02</td>\n",
       "      <td>-3.655905e-02</td>\n",
       "      <td>9.580074e-02</td>\n",
       "    </tr>\n",
       "    <tr>\n",
       "      <th>Depart</th>\n",
       "      <td>-0.106610</td>\n",
       "      <td>3.683174e-02</td>\n",
       "      <td>6.536316e-02</td>\n",
       "      <td>-2.806494e-01</td>\n",
       "      <td>8.166832e-01</td>\n",
       "      <td>7.039355e-01</td>\n",
       "      <td>8.068591e-01</td>\n",
       "      <td>2.608823e-02</td>\n",
       "      <td>1.318604e-01</td>\n",
       "      <td>1.007949e-01</td>\n",
       "      <td>...</td>\n",
       "      <td>-5.516605e-01</td>\n",
       "      <td>1.000000e+00</td>\n",
       "      <td>-1.142955e-16</td>\n",
       "      <td>6.652952e-01</td>\n",
       "      <td>7.973217e-01</td>\n",
       "      <td>1.055199e-01</td>\n",
       "      <td>-8.766830e-02</td>\n",
       "      <td>-2.159602e-02</td>\n",
       "      <td>4.985409e-02</td>\n",
       "      <td>3.029238e-01</td>\n",
       "    </tr>\n",
       "    <tr>\n",
       "      <th>DewPoint</th>\n",
       "      <td>0.000000</td>\n",
       "      <td>-2.396084e-15</td>\n",
       "      <td>-1.071897e-14</td>\n",
       "      <td>-6.226171e-15</td>\n",
       "      <td>9.780629e-15</td>\n",
       "      <td>4.367318e-15</td>\n",
       "      <td>1.362211e-14</td>\n",
       "      <td>-7.726295e-14</td>\n",
       "      <td>-2.162505e-15</td>\n",
       "      <td>1.088234e-14</td>\n",
       "      <td>...</td>\n",
       "      <td>-4.161765e-15</td>\n",
       "      <td>-1.142955e-16</td>\n",
       "      <td>1.000000e+00</td>\n",
       "      <td>1.066134e-14</td>\n",
       "      <td>-3.590274e-15</td>\n",
       "      <td>-1.505665e-14</td>\n",
       "      <td>9.959951e-14</td>\n",
       "      <td>-2.318116e-12</td>\n",
       "      <td>2.776079e-11</td>\n",
       "      <td>-3.064770e-16</td>\n",
       "    </tr>\n",
       "    <tr>\n",
       "      <th>WetBulb</th>\n",
       "      <td>-0.107471</td>\n",
       "      <td>5.863445e-02</td>\n",
       "      <td>9.440782e-02</td>\n",
       "      <td>1.086087e-01</td>\n",
       "      <td>7.620599e-01</td>\n",
       "      <td>8.055124e-01</td>\n",
       "      <td>8.283671e-01</td>\n",
       "      <td>-2.490492e-02</td>\n",
       "      <td>2.060986e-01</td>\n",
       "      <td>5.970099e-02</td>\n",
       "      <td>...</td>\n",
       "      <td>-6.264656e-01</td>\n",
       "      <td>6.652952e-01</td>\n",
       "      <td>1.066134e-14</td>\n",
       "      <td>1.000000e+00</td>\n",
       "      <td>7.886186e-01</td>\n",
       "      <td>2.941847e-01</td>\n",
       "      <td>3.917680e-01</td>\n",
       "      <td>-2.016838e-02</td>\n",
       "      <td>4.307510e-02</td>\n",
       "      <td>3.829252e-02</td>\n",
       "    </tr>\n",
       "    <tr>\n",
       "      <th>Cool</th>\n",
       "      <td>-0.153119</td>\n",
       "      <td>6.625508e-02</td>\n",
       "      <td>7.500012e-02</td>\n",
       "      <td>1.564293e-01</td>\n",
       "      <td>8.858615e-01</td>\n",
       "      <td>9.038195e-01</td>\n",
       "      <td>9.472424e-01</td>\n",
       "      <td>2.168739e-02</td>\n",
       "      <td>1.471115e-01</td>\n",
       "      <td>1.112657e-01</td>\n",
       "      <td>...</td>\n",
       "      <td>-5.193361e-01</td>\n",
       "      <td>7.973217e-01</td>\n",
       "      <td>-3.590274e-15</td>\n",
       "      <td>7.886186e-01</td>\n",
       "      <td>1.000000e+00</td>\n",
       "      <td>2.095519e-01</td>\n",
       "      <td>-1.192642e-01</td>\n",
       "      <td>-2.002563e-02</td>\n",
       "      <td>4.317828e-02</td>\n",
       "      <td>-1.521321e-02</td>\n",
       "    </tr>\n",
       "    <tr>\n",
       "      <th>PrecipTotal</th>\n",
       "      <td>-0.125435</td>\n",
       "      <td>-1.521408e-02</td>\n",
       "      <td>-7.025656e-03</td>\n",
       "      <td>1.649567e-01</td>\n",
       "      <td>9.180543e-02</td>\n",
       "      <td>2.284177e-01</td>\n",
       "      <td>1.664239e-01</td>\n",
       "      <td>1.526857e-01</td>\n",
       "      <td>3.381726e-03</td>\n",
       "      <td>2.870751e-01</td>\n",
       "      <td>...</td>\n",
       "      <td>-2.331548e-02</td>\n",
       "      <td>1.055199e-01</td>\n",
       "      <td>-1.505665e-14</td>\n",
       "      <td>2.941847e-01</td>\n",
       "      <td>2.095519e-01</td>\n",
       "      <td>1.000000e+00</td>\n",
       "      <td>1.567597e-02</td>\n",
       "      <td>2.427080e-02</td>\n",
       "      <td>-5.561630e-03</td>\n",
       "      <td>-1.714909e-01</td>\n",
       "    </tr>\n",
       "    <tr>\n",
       "      <th>StnPressure</th>\n",
       "      <td>0.053547</td>\n",
       "      <td>7.917151e-03</td>\n",
       "      <td>2.492389e-02</td>\n",
       "      <td>-1.437130e-01</td>\n",
       "      <td>-7.965560e-02</td>\n",
       "      <td>-1.290074e-01</td>\n",
       "      <td>-1.091188e-01</td>\n",
       "      <td>-3.895319e-02</td>\n",
       "      <td>1.354420e-01</td>\n",
       "      <td>-5.372855e-02</td>\n",
       "      <td>...</td>\n",
       "      <td>5.166455e-02</td>\n",
       "      <td>-8.766830e-02</td>\n",
       "      <td>9.959951e-14</td>\n",
       "      <td>3.917680e-01</td>\n",
       "      <td>-1.192642e-01</td>\n",
       "      <td>1.567597e-02</td>\n",
       "      <td>1.000000e+00</td>\n",
       "      <td>-2.555150e-02</td>\n",
       "      <td>1.984337e-02</td>\n",
       "      <td>1.825333e-01</td>\n",
       "    </tr>\n",
       "    <tr>\n",
       "      <th>Latitude</th>\n",
       "      <td>0.001573</td>\n",
       "      <td>-5.701232e-02</td>\n",
       "      <td>3.229781e-02</td>\n",
       "      <td>2.737976e-02</td>\n",
       "      <td>-1.228149e-02</td>\n",
       "      <td>-2.761859e-02</td>\n",
       "      <td>-2.041983e-02</td>\n",
       "      <td>1.027285e-03</td>\n",
       "      <td>-1.422650e-02</td>\n",
       "      <td>-1.271181e-02</td>\n",
       "      <td>...</td>\n",
       "      <td>1.426793e-02</td>\n",
       "      <td>-2.159602e-02</td>\n",
       "      <td>-2.318116e-12</td>\n",
       "      <td>-2.016838e-02</td>\n",
       "      <td>-2.002563e-02</td>\n",
       "      <td>2.427080e-02</td>\n",
       "      <td>-2.555150e-02</td>\n",
       "      <td>1.000000e+00</td>\n",
       "      <td>-6.425060e-01</td>\n",
       "      <td>-3.998282e-02</td>\n",
       "    </tr>\n",
       "    <tr>\n",
       "      <th>Longitude</th>\n",
       "      <td>-0.031837</td>\n",
       "      <td>-2.493159e-03</td>\n",
       "      <td>-7.711310e-02</td>\n",
       "      <td>-2.446524e-02</td>\n",
       "      <td>4.067485e-02</td>\n",
       "      <td>4.722244e-02</td>\n",
       "      <td>4.620182e-02</td>\n",
       "      <td>1.339934e-02</td>\n",
       "      <td>2.341085e-02</td>\n",
       "      <td>2.978722e-02</td>\n",
       "      <td>...</td>\n",
       "      <td>-3.655905e-02</td>\n",
       "      <td>4.985409e-02</td>\n",
       "      <td>2.776079e-11</td>\n",
       "      <td>4.307510e-02</td>\n",
       "      <td>4.317828e-02</td>\n",
       "      <td>-5.561630e-03</td>\n",
       "      <td>1.984337e-02</td>\n",
       "      <td>-6.425060e-01</td>\n",
       "      <td>1.000000e+00</td>\n",
       "      <td>3.658801e-02</td>\n",
       "    </tr>\n",
       "    <tr>\n",
       "      <th>Month</th>\n",
       "      <td>0.085233</td>\n",
       "      <td>-8.198467e-03</td>\n",
       "      <td>9.886850e-02</td>\n",
       "      <td>-9.211585e-01</td>\n",
       "      <td>-1.065289e-02</td>\n",
       "      <td>-8.514082e-02</td>\n",
       "      <td>-4.737868e-02</td>\n",
       "      <td>-1.609664e-01</td>\n",
       "      <td>5.168287e-02</td>\n",
       "      <td>-1.740464e-01</td>\n",
       "      <td>...</td>\n",
       "      <td>9.580074e-02</td>\n",
       "      <td>3.029238e-01</td>\n",
       "      <td>-3.064770e-16</td>\n",
       "      <td>3.829252e-02</td>\n",
       "      <td>-1.521321e-02</td>\n",
       "      <td>-1.714909e-01</td>\n",
       "      <td>1.825333e-01</td>\n",
       "      <td>-3.998282e-02</td>\n",
       "      <td>3.658801e-02</td>\n",
       "      <td>1.000000e+00</td>\n",
       "    </tr>\n",
       "  </tbody>\n",
       "</table>\n",
       "<p>22 rows × 22 columns</p>\n",
       "</div>"
      ],
      "text/plain": [
       "              Unnamed: 0  NumMosquitos    WnvPresent    Day_length  \\\n",
       "Unnamed: 0      1.000000 -2.471854e-02  5.924797e-02 -1.151753e-01   \n",
       "NumMosquitos   -0.024719  1.000000e+00  2.325071e-01  2.600100e-02   \n",
       "WnvPresent      0.059248  2.325071e-01  1.000000e+00 -7.396398e-02   \n",
       "Day_length     -0.115175  2.600100e-02 -7.396398e-02  1.000000e+00   \n",
       "Tmax           -0.098559  5.710975e-02  5.997775e-02  1.567827e-01   \n",
       "Tmin           -0.125535  6.707573e-02  8.873438e-02  2.338259e-01   \n",
       "Tavg           -0.119978  6.554450e-02  7.830815e-02  2.045247e-01   \n",
       "ResultSpeed     0.042865 -3.515264e-03 -5.266001e-02  1.050518e-01   \n",
       "ResultDir       0.056525 -1.558804e-02 -1.304697e-03 -3.517688e-02   \n",
       "AvgSpeed       -0.037348  1.840583e-03 -3.602414e-02  1.039972e-01   \n",
       "Sunset         -0.113789  3.174689e-02 -6.062210e-02  9.835851e-01   \n",
       "Sunrise         0.123596 -1.663384e-02  9.871322e-02 -9.780010e-01   \n",
       "Heat            0.012697 -4.183374e-02 -5.831994e-02 -2.314760e-01   \n",
       "Depart         -0.106610  3.683174e-02  6.536316e-02 -2.806494e-01   \n",
       "DewPoint        0.000000 -2.396084e-15 -1.071897e-14 -6.226171e-15   \n",
       "WetBulb        -0.107471  5.863445e-02  9.440782e-02  1.086087e-01   \n",
       "Cool           -0.153119  6.625508e-02  7.500012e-02  1.564293e-01   \n",
       "PrecipTotal    -0.125435 -1.521408e-02 -7.025656e-03  1.649567e-01   \n",
       "StnPressure     0.053547  7.917151e-03  2.492389e-02 -1.437130e-01   \n",
       "Latitude        0.001573 -5.701232e-02  3.229781e-02  2.737976e-02   \n",
       "Longitude      -0.031837 -2.493159e-03 -7.711310e-02 -2.446524e-02   \n",
       "Month           0.085233 -8.198467e-03  9.886850e-02 -9.211585e-01   \n",
       "\n",
       "                      Tmax          Tmin          Tavg   ResultSpeed  \\\n",
       "Unnamed: 0   -9.855905e-02 -1.255352e-01 -1.199777e-01  4.286471e-02   \n",
       "NumMosquitos  5.710975e-02  6.707573e-02  6.554450e-02 -3.515264e-03   \n",
       "WnvPresent    5.997775e-02  8.873438e-02  7.830815e-02 -5.266001e-02   \n",
       "Day_length    1.567827e-01  2.338259e-01  2.045247e-01  1.050518e-01   \n",
       "Tmax          1.000000e+00  7.837069e-01  9.500391e-01 -2.207805e-02   \n",
       "Tmin          7.837069e-01  1.000000e+00  9.379846e-01  5.115248e-02   \n",
       "Tavg          9.500391e-01  9.379846e-01  1.000000e+00  1.012837e-02   \n",
       "ResultSpeed  -2.207805e-02  5.115248e-02  1.012837e-02  1.000000e+00   \n",
       "ResultDir     1.848661e-01  1.259186e-01  1.644862e-01  2.132027e-01   \n",
       "AvgSpeed      1.107499e-02  1.514263e-01  8.033201e-02  9.024422e-01   \n",
       "Sunset        2.073171e-01  2.796547e-01  2.556704e-01  8.636726e-02   \n",
       "Sunrise      -1.132880e-01 -1.839146e-01 -1.561102e-01 -1.379578e-01   \n",
       "Heat         -7.557791e-01 -6.876115e-01 -7.658424e-01  1.650517e-02   \n",
       "Depart        8.166832e-01  7.039355e-01  8.068591e-01  2.608823e-02   \n",
       "DewPoint      9.780629e-15  4.367318e-15  1.362211e-14 -7.726295e-14   \n",
       "WetBulb       7.620599e-01  8.055124e-01  8.283671e-01 -2.490492e-02   \n",
       "Cool          8.858615e-01  9.038195e-01  9.472424e-01  2.168739e-02   \n",
       "PrecipTotal   9.180543e-02  2.284177e-01  1.664239e-01  1.526857e-01   \n",
       "StnPressure  -7.965560e-02 -1.290074e-01 -1.091188e-01 -3.895319e-02   \n",
       "Latitude     -1.228149e-02 -2.761859e-02 -2.041983e-02  1.027285e-03   \n",
       "Longitude     4.067485e-02  4.722244e-02  4.620182e-02  1.339934e-02   \n",
       "Month        -1.065289e-02 -8.514082e-02 -4.737868e-02 -1.609664e-01   \n",
       "\n",
       "                 ResultDir      AvgSpeed      ...               Heat  \\\n",
       "Unnamed: 0    5.652466e-02 -3.734839e-02      ...       1.269669e-02   \n",
       "NumMosquitos -1.558804e-02  1.840583e-03      ...      -4.183374e-02   \n",
       "WnvPresent   -1.304697e-03 -3.602414e-02      ...      -5.831994e-02   \n",
       "Day_length   -3.517688e-02  1.039972e-01      ...      -2.314760e-01   \n",
       "Tmax          1.848661e-01  1.107499e-02      ...      -7.557791e-01   \n",
       "Tmin          1.259186e-01  1.514263e-01      ...      -6.876115e-01   \n",
       "Tavg          1.644862e-01  8.033201e-02      ...      -7.658424e-01   \n",
       "ResultSpeed   2.132027e-01  9.024422e-01      ...       1.650517e-02   \n",
       "ResultDir     1.000000e+00  2.816556e-01      ...      -1.434181e-01   \n",
       "AvgSpeed      2.816556e-01  1.000000e+00      ...       9.040456e-03   \n",
       "Sunset       -1.215696e-02  8.473892e-02      ...      -2.678778e-01   \n",
       "Sunrise       6.042293e-02 -1.217758e-01      ...       1.888458e-01   \n",
       "Heat         -1.434181e-01  9.040456e-03      ...       1.000000e+00   \n",
       "Depart        1.318604e-01  1.007949e-01      ...      -5.516605e-01   \n",
       "DewPoint     -2.162505e-15  1.088234e-14      ...      -4.161765e-15   \n",
       "WetBulb       2.060986e-01  5.970099e-02      ...      -6.264656e-01   \n",
       "Cool          1.471115e-01  1.112657e-01      ...      -5.193361e-01   \n",
       "PrecipTotal   3.381726e-03  2.870751e-01      ...      -2.331548e-02   \n",
       "StnPressure   1.354420e-01 -5.372855e-02      ...       5.166455e-02   \n",
       "Latitude     -1.422650e-02 -1.271181e-02      ...       1.426793e-02   \n",
       "Longitude     2.341085e-02  2.978722e-02      ...      -3.655905e-02   \n",
       "Month         5.168287e-02 -1.740464e-01      ...       9.580074e-02   \n",
       "\n",
       "                    Depart      DewPoint       WetBulb          Cool  \\\n",
       "Unnamed: 0   -1.066102e-01  0.000000e+00 -1.074710e-01 -1.531190e-01   \n",
       "NumMosquitos  3.683174e-02 -2.396084e-15  5.863445e-02  6.625508e-02   \n",
       "WnvPresent    6.536316e-02 -1.071897e-14  9.440782e-02  7.500012e-02   \n",
       "Day_length   -2.806494e-01 -6.226171e-15  1.086087e-01  1.564293e-01   \n",
       "Tmax          8.166832e-01  9.780629e-15  7.620599e-01  8.858615e-01   \n",
       "Tmin          7.039355e-01  4.367318e-15  8.055124e-01  9.038195e-01   \n",
       "Tavg          8.068591e-01  1.362211e-14  8.283671e-01  9.472424e-01   \n",
       "ResultSpeed   2.608823e-02 -7.726295e-14 -2.490492e-02  2.168739e-02   \n",
       "ResultDir     1.318604e-01 -2.162505e-15  2.060986e-01  1.471115e-01   \n",
       "AvgSpeed      1.007949e-01  1.088234e-14  5.970099e-02  1.112657e-01   \n",
       "Sunset       -2.511116e-01 -2.056988e-15  1.576253e-01  2.062562e-01   \n",
       "Sunrise       3.016481e-01 -1.050996e-14 -5.932239e-02 -1.133366e-01   \n",
       "Heat         -5.516605e-01 -4.161765e-15 -6.264656e-01 -5.193361e-01   \n",
       "Depart        1.000000e+00 -1.142955e-16  6.652952e-01  7.973217e-01   \n",
       "DewPoint     -1.142955e-16  1.000000e+00  1.066134e-14 -3.590274e-15   \n",
       "WetBulb       6.652952e-01  1.066134e-14  1.000000e+00  7.886186e-01   \n",
       "Cool          7.973217e-01 -3.590274e-15  7.886186e-01  1.000000e+00   \n",
       "PrecipTotal   1.055199e-01 -1.505665e-14  2.941847e-01  2.095519e-01   \n",
       "StnPressure  -8.766830e-02  9.959951e-14  3.917680e-01 -1.192642e-01   \n",
       "Latitude     -2.159602e-02 -2.318116e-12 -2.016838e-02 -2.002563e-02   \n",
       "Longitude     4.985409e-02  2.776079e-11  4.307510e-02  4.317828e-02   \n",
       "Month         3.029238e-01 -3.064770e-16  3.829252e-02 -1.521321e-02   \n",
       "\n",
       "               PrecipTotal   StnPressure      Latitude     Longitude  \\\n",
       "Unnamed: 0   -1.254354e-01  5.354666e-02  1.573416e-03 -3.183688e-02   \n",
       "NumMosquitos -1.521408e-02  7.917151e-03 -5.701232e-02 -2.493159e-03   \n",
       "WnvPresent   -7.025656e-03  2.492389e-02  3.229781e-02 -7.711310e-02   \n",
       "Day_length    1.649567e-01 -1.437130e-01  2.737976e-02 -2.446524e-02   \n",
       "Tmax          9.180543e-02 -7.965560e-02 -1.228149e-02  4.067485e-02   \n",
       "Tmin          2.284177e-01 -1.290074e-01 -2.761859e-02  4.722244e-02   \n",
       "Tavg          1.664239e-01 -1.091188e-01 -2.041983e-02  4.620182e-02   \n",
       "ResultSpeed   1.526857e-01 -3.895319e-02  1.027285e-03  1.339934e-02   \n",
       "ResultDir     3.381726e-03  1.354420e-01 -1.422650e-02  2.341085e-02   \n",
       "AvgSpeed      2.870751e-01 -5.372855e-02 -1.271181e-02  2.978722e-02   \n",
       "Sunset        1.489995e-01 -1.262157e-01  1.748182e-02 -1.711397e-02   \n",
       "Sunrise      -1.678213e-01  1.385447e-01 -2.973554e-02  2.733672e-02   \n",
       "Heat         -2.331548e-02  5.166455e-02  1.426793e-02 -3.655905e-02   \n",
       "Depart        1.055199e-01 -8.766830e-02 -2.159602e-02  4.985409e-02   \n",
       "DewPoint     -1.505665e-14  9.959951e-14 -2.318116e-12  2.776079e-11   \n",
       "WetBulb       2.941847e-01  3.917680e-01 -2.016838e-02  4.307510e-02   \n",
       "Cool          2.095519e-01 -1.192642e-01 -2.002563e-02  4.317828e-02   \n",
       "PrecipTotal   1.000000e+00  1.567597e-02  2.427080e-02 -5.561630e-03   \n",
       "StnPressure   1.567597e-02  1.000000e+00 -2.555150e-02  1.984337e-02   \n",
       "Latitude      2.427080e-02 -2.555150e-02  1.000000e+00 -6.425060e-01   \n",
       "Longitude    -5.561630e-03  1.984337e-02 -6.425060e-01  1.000000e+00   \n",
       "Month        -1.714909e-01  1.825333e-01 -3.998282e-02  3.658801e-02   \n",
       "\n",
       "                     Month  \n",
       "Unnamed: 0    8.523277e-02  \n",
       "NumMosquitos -8.198467e-03  \n",
       "WnvPresent    9.886850e-02  \n",
       "Day_length   -9.211585e-01  \n",
       "Tmax         -1.065289e-02  \n",
       "Tmin         -8.514082e-02  \n",
       "Tavg         -4.737868e-02  \n",
       "ResultSpeed  -1.609664e-01  \n",
       "ResultDir     5.168287e-02  \n",
       "AvgSpeed     -1.740464e-01  \n",
       "Sunset       -8.652102e-01  \n",
       "Sunrise       8.995888e-01  \n",
       "Heat          9.580074e-02  \n",
       "Depart        3.029238e-01  \n",
       "DewPoint     -3.064770e-16  \n",
       "WetBulb       3.829252e-02  \n",
       "Cool         -1.521321e-02  \n",
       "PrecipTotal  -1.714909e-01  \n",
       "StnPressure   1.825333e-01  \n",
       "Latitude     -3.998282e-02  \n",
       "Longitude     3.658801e-02  \n",
       "Month         1.000000e+00  \n",
       "\n",
       "[22 rows x 22 columns]"
      ]
     },
     "execution_count": 4,
     "metadata": {},
     "output_type": "execute_result"
    },
    {
     "data": {
      "text/plain": [
       "<Figure size 1080x1080 with 0 Axes>"
      ]
     },
     "metadata": {},
     "output_type": "display_data"
    }
   ],
   "source": [
    "plt.figure(figsize=(15,15))\n",
    "df.corr()"
   ]
  },
  {
   "cell_type": "code",
   "execution_count": 5,
   "metadata": {},
   "outputs": [
    {
     "data": {
      "text/plain": [
       "RangeIndex(start=84, stop=8643, step=1)"
      ]
     },
     "execution_count": 5,
     "metadata": {},
     "output_type": "execute_result"
    }
   ],
   "source": [
    "df['Day_length'].index[84:]"
   ]
  },
  {
   "cell_type": "code",
   "execution_count": 6,
   "metadata": {},
   "outputs": [
    {
     "data": {
      "text/plain": [
       "array([[1.        , 0.06561948],\n",
       "       [0.06561948, 1.        ]])"
      ]
     },
     "execution_count": 6,
     "metadata": {},
     "output_type": "execute_result"
    }
   ],
   "source": [
    "np.corrcoef(df['Tavg'].rolling(3).mean().shift(14).dropna(), df['NumMosquitos'].drop(df.index[0:16]))"
   ]
  },
  {
   "cell_type": "markdown",
   "metadata": {},
   "source": [
    "### 'Grid Searching' Through Rolling & Shifted Feature Means\n",
    "\n",
    "We created a function that will help us search through different permutations of rolling means, along with shifted days, to see which configuration will give us the highest correlation. Further, we plotted the best scoring correlations to see the relationships in more detail."
   ]
  },
  {
   "cell_type": "code",
   "execution_count": 7,
   "metadata": {},
   "outputs": [],
   "source": [
    "def hi_corr(f1, f2, rm_min=3, rm_max=7, min_val=1, max_val=30):\n",
    "    corr_array = []\n",
    "    new_array = []\n",
    "    for k in range(rm_min, rm_max + 1):\n",
    "        for i in range(min_val, max_val + 1):\n",
    "            new_array.append(np.corrcoef(f1.rolling(k).mean().shift(i).dropna(), f2.drop(f2.index[:i+k-1]))[0,1])\n",
    "            corr_array.append(np.corrcoef(f1.rolling(k).mean().shift(i).dropna(), f2.drop(f2.index[:i+k-1]))[0,1])\n",
    "            new_array.append('Rolling Mean: {}'.format(k))\n",
    "            new_array.append('Shifted Value: {}'.format(i))\n",
    "    corr_max = max(corr_array)\n",
    "    corr_min = min(corr_array)\n",
    "    if abs(corr_min) > corr_max:\n",
    "        windex = new_array.index(corr_min)\n",
    "        print(corr_min, new_array[windex + 1], new_array[windex + 2])\n",
    "    else:\n",
    "        windex = new_array.index(corr_max)\n",
    "        print(corr_max, new_array[windex + 1], new_array[windex + 2])\n",
    "    return"
   ]
  },
  {
   "cell_type": "markdown",
   "metadata": {},
   "source": [
    "Best Daylength Rolling Mean"
   ]
  },
  {
   "cell_type": "code",
   "execution_count": 8,
   "metadata": {},
   "outputs": [
    {
     "name": "stdout",
     "output_type": "stream",
     "text": [
      "0.03351765362052723 Rolling Mean: 1 Shifted Value: 40\n"
     ]
    }
   ],
   "source": [
    "hi_corr(df['Day_length'], df['NumMosquitos'], rm_min=1, rm_max=7, min_val=21, max_val=42)"
   ]
  },
  {
   "cell_type": "code",
   "execution_count": 41,
   "metadata": {},
   "outputs": [
    {
     "data": {
      "text/plain": [
       "array([[1.        , 0.04006146],\n",
       "       [0.04006146, 1.        ]])"
      ]
     },
     "execution_count": 41,
     "metadata": {},
     "output_type": "execute_result"
    }
   ],
   "source": [
    "np.corrcoef(df['Day_length'].expanding().mean(), df['NumMosquitos'])"
   ]
  },
  {
   "cell_type": "code",
   "execution_count": 9,
   "metadata": {},
   "outputs": [
    {
     "data": {
      "text/plain": [
       "<matplotlib.axes._subplots.AxesSubplot at 0x1105ac080>"
      ]
     },
     "execution_count": 9,
     "metadata": {},
     "output_type": "execute_result"
    },
    {
     "data": {
      "image/png": "[encoded data removed]",
      "text/plain": [
       "<Figure size 432x288 with 1 Axes>"
      ]
     },
     "metadata": {},
     "output_type": "display_data"
    }
   ],
   "source": [
    "sns.scatterplot(df['Day_length'].rolling(1).mean().shift(40).dropna(), df['NumMosquitos'].drop(df['NumMosquitos'].index[:40]))"
   ]
  },
  {
   "cell_type": "markdown",
   "metadata": {},
   "source": [
    "### Temperature Related"
   ]
  },
  {
   "cell_type": "markdown",
   "metadata": {},
   "source": [
    "Best Temperature Rolling Mean"
   ]
  },
  {
   "cell_type": "code",
   "execution_count": 10,
   "metadata": {},
   "outputs": [
    {
     "name": "stdout",
     "output_type": "stream",
     "text": [
      "0.0666091429540884 Rolling Mean: 1 Shifted Value: 7\n"
     ]
    }
   ],
   "source": [
    "hi_corr(df['Tavg'], df['NumMosquitos'], rm_min=1, rm_max=7, min_val=7, max_val=21)"
   ]
  },
  {
   "cell_type": "code",
   "execution_count": 42,
   "metadata": {},
   "outputs": [
    {
     "data": {
      "text/plain": [
       "array([[1.        , 0.05431909],\n",
       "       [0.05431909, 1.        ]])"
      ]
     },
     "execution_count": 42,
     "metadata": {},
     "output_type": "execute_result"
    }
   ],
   "source": [
    "np.corrcoef(df['Tavg'].expanding().mean(), df['NumMosquitos'])"
   ]
  },
  {
   "cell_type": "code",
   "execution_count": 11,
   "metadata": {},
   "outputs": [
    {
     "data": {
      "image/png": "[encoded data removed]",
      "text/plain": [
       "<Figure size 432x288 with 1 Axes>"
      ]
     },
     "metadata": {},
     "output_type": "display_data"
    }
   ],
   "source": [
    "sns.scatterplot(df['Tavg'].rolling(1).mean().shift(7).dropna(), df['NumMosquitos'].drop(df['NumMosquitos'].index[:7]));"
   ]
  },
  {
   "cell_type": "code",
   "execution_count": 12,
   "metadata": {},
   "outputs": [
    {
     "name": "stdout",
     "output_type": "stream",
     "text": [
      "-0.041308292774105575 Rolling Mean: 7 Shifted Value: 8\n"
     ]
    }
   ],
   "source": [
    "hi_corr(df['Heat'], df['NumMosquitos'], rm_min=1, rm_max=7, min_val=7, max_val=21)"
   ]
  },
  {
   "cell_type": "code",
   "execution_count": 43,
   "metadata": {},
   "outputs": [
    {
     "data": {
      "text/plain": [
       "array([[ 1.        , -0.04675775],\n",
       "       [-0.04675775,  1.        ]])"
      ]
     },
     "execution_count": 43,
     "metadata": {},
     "output_type": "execute_result"
    }
   ],
   "source": [
    "np.corrcoef(df['Heat'].expanding().mean(), df['NumMosquitos'])"
   ]
  },
  {
   "cell_type": "code",
   "execution_count": 48,
   "metadata": {},
   "outputs": [
    {
     "name": "stdout",
     "output_type": "stream",
     "text": [
      "0.06816173690042639 Rolling Mean: 1 Shifted Value: 7\n"
     ]
    }
   ],
   "source": [
    "hi_corr(df['Cool'], df['NumMosquitos'], rm_min=1, rm_max=7, min_val=7, max_val=21)"
   ]
  },
  {
   "cell_type": "code",
   "execution_count": 49,
   "metadata": {},
   "outputs": [
    {
     "data": {
      "text/plain": [
       "array([[1.        , 0.05245493],\n",
       "       [0.05245493, 1.        ]])"
      ]
     },
     "execution_count": 49,
     "metadata": {},
     "output_type": "execute_result"
    }
   ],
   "source": [
    "np.corrcoef(df['Cool'].expanding().mean(), df['NumMosquitos'])"
   ]
  },
  {
   "cell_type": "code",
   "execution_count": 50,
   "metadata": {},
   "outputs": [
    {
     "name": "stdout",
     "output_type": "stream",
     "text": [
      "0.059233391961211114 Rolling Mean: 1 Shifted Value: 7\n"
     ]
    }
   ],
   "source": [
    "hi_corr(df['Tmax'], df['NumMosquitos'], rm_min=1, rm_max=7, min_val=7, max_val=21)"
   ]
  },
  {
   "cell_type": "code",
   "execution_count": 54,
   "metadata": {},
   "outputs": [
    {
     "data": {
      "text/plain": [
       "array([[1.        , 0.05710975],\n",
       "       [0.05710975, 1.        ]])"
      ]
     },
     "execution_count": 54,
     "metadata": {},
     "output_type": "execute_result"
    }
   ],
   "source": [
    "np.corrcoef(df['Tmax'], df['NumMosquitos'])"
   ]
  },
  {
   "cell_type": "code",
   "execution_count": 51,
   "metadata": {},
   "outputs": [
    {
     "data": {
      "text/plain": [
       "array([[1.       , 0.0469504],\n",
       "       [0.0469504, 1.       ]])"
      ]
     },
     "execution_count": 51,
     "metadata": {},
     "output_type": "execute_result"
    }
   ],
   "source": [
    "np.corrcoef(df['Tmax'].expanding().mean(), df['NumMosquitos'])"
   ]
  },
  {
   "cell_type": "code",
   "execution_count": 52,
   "metadata": {},
   "outputs": [
    {
     "name": "stdout",
     "output_type": "stream",
     "text": [
      "0.06767516243864329 Rolling Mean: 1 Shifted Value: 10\n"
     ]
    }
   ],
   "source": [
    "hi_corr(df['Tmin'], df['NumMosquitos'], rm_min=1, rm_max=7, min_val=7, max_val=21)"
   ]
  },
  {
   "cell_type": "code",
   "execution_count": 53,
   "metadata": {},
   "outputs": [
    {
     "data": {
      "text/plain": [
       "array([[1.        , 0.05988869],\n",
       "       [0.05988869, 1.        ]])"
      ]
     },
     "execution_count": 53,
     "metadata": {},
     "output_type": "execute_result"
    }
   ],
   "source": [
    "np.corrcoef(df['Tmin'].expanding().mean(), df['NumMosquitos'])"
   ]
  },
  {
   "cell_type": "markdown",
   "metadata": {},
   "source": [
    "Best Departure Rolling Mean"
   ]
  },
  {
   "cell_type": "code",
   "execution_count": 13,
   "metadata": {},
   "outputs": [
    {
     "name": "stdout",
     "output_type": "stream",
     "text": [
      "0.037569483464707176 Rolling Mean: 1 Shifted Value: 7\n"
     ]
    }
   ],
   "source": [
    "hi_corr(df['Depart'], df['NumMosquitos'], rm_min=1, rm_max=7, min_val=7, max_val=21)"
   ]
  },
  {
   "cell_type": "code",
   "execution_count": 44,
   "metadata": {},
   "outputs": [
    {
     "data": {
      "text/plain": [
       "array([[1.        , 0.00508592],\n",
       "       [0.00508592, 1.        ]])"
      ]
     },
     "execution_count": 44,
     "metadata": {},
     "output_type": "execute_result"
    }
   ],
   "source": [
    "np.corrcoef(df['Depart'].expanding().mean(), df['NumMosquitos'])"
   ]
  },
  {
   "cell_type": "markdown",
   "metadata": {},
   "source": [
    "### Wind Related"
   ]
  },
  {
   "cell_type": "markdown",
   "metadata": {},
   "source": [
    "Best Wind Speed Rolling Mean"
   ]
  },
  {
   "cell_type": "code",
   "execution_count": 14,
   "metadata": {},
   "outputs": [
    {
     "name": "stdout",
     "output_type": "stream",
     "text": [
      "-0.009319060722963545 Rolling Mean: 7 Shifted Value: 28\n"
     ]
    }
   ],
   "source": [
    "hi_corr(df['ResultSpeed'], df['NumMosquitos'], rm_min=1, rm_max=7, min_val=14, max_val=28)"
   ]
  },
  {
   "cell_type": "code",
   "execution_count": 45,
   "metadata": {},
   "outputs": [
    {
     "data": {
      "text/plain": [
       "array([[ 1.        , -0.00656348],\n",
       "       [-0.00656348,  1.        ]])"
      ]
     },
     "execution_count": 45,
     "metadata": {},
     "output_type": "execute_result"
    }
   ],
   "source": [
    "np.corrcoef(df['ResultSpeed'].expanding().mean(), df['NumMosquitos'])"
   ]
  },
  {
   "cell_type": "code",
   "execution_count": 15,
   "metadata": {},
   "outputs": [
    {
     "data": {
      "image/png": "[encoded data removed]",
      "text/plain": [
       "<Figure size 432x288 with 1 Axes>"
      ]
     },
     "metadata": {},
     "output_type": "display_data"
    }
   ],
   "source": [
    "sns.scatterplot(df['ResultSpeed'].rolling(7).mean().shift(28).dropna(), df['NumMosquitos'].drop(df['NumMosquitos'].index[:34]));"
   ]
  },
  {
   "cell_type": "code",
   "execution_count": 16,
   "metadata": {},
   "outputs": [
    {
     "name": "stdout",
     "output_type": "stream",
     "text": [
      "0.00422555406684047 Rolling Mean: 1 Shifted Value: 18\n"
     ]
    }
   ],
   "source": [
    "hi_corr(df['ResultDir'], df['NumMosquitos'], rm_min=1, rm_max=7, min_val=14, max_val=28)"
   ]
  },
  {
   "cell_type": "code",
   "execution_count": 46,
   "metadata": {},
   "outputs": [
    {
     "data": {
      "text/plain": [
       "array([[1.       , 0.0291355],\n",
       "       [0.0291355, 1.       ]])"
      ]
     },
     "execution_count": 46,
     "metadata": {},
     "output_type": "execute_result"
    }
   ],
   "source": [
    "np.corrcoef(df['ResultDir'].expanding().mean(), df['NumMosquitos'])"
   ]
  },
  {
   "cell_type": "markdown",
   "metadata": {},
   "source": [
    "### Precipitation Related"
   ]
  },
  {
   "cell_type": "markdown",
   "metadata": {},
   "source": [
    "Best Total Precipitation"
   ]
  },
  {
   "cell_type": "code",
   "execution_count": 17,
   "metadata": {},
   "outputs": [
    {
     "name": "stdout",
     "output_type": "stream",
     "text": [
      "0.06796524984931208 Rolling Mean: 50 Shifted Value: 42\n"
     ]
    }
   ],
   "source": [
    "hi_corr(df['PrecipTotal'], df['NumMosquitos'], rm_min=1, rm_max=100, min_val=7, max_val=100)"
   ]
  },
  {
   "cell_type": "code",
   "execution_count": 47,
   "metadata": {},
   "outputs": [
    {
     "data": {
      "text/plain": [
       "array([[1.        , 0.07840287],\n",
       "       [0.07840287, 1.        ]])"
      ]
     },
     "execution_count": 47,
     "metadata": {},
     "output_type": "execute_result"
    }
   ],
   "source": [
    "np.corrcoef(df['PrecipTotal'].expanding().mean(), df['NumMosquitos'])"
   ]
  },
  {
   "cell_type": "code",
   "execution_count": 18,
   "metadata": {},
   "outputs": [
    {
     "data": {
      "image/png": "[encoded data removed]",
      "text/plain": [
       "<Figure size 432x288 with 1 Axes>"
      ]
     },
     "metadata": {},
     "output_type": "display_data"
    }
   ],
   "source": [
    "sns.scatterplot(df['PrecipTotal'].rolling(45).mean().shift(47), df['NumMosquitos'].drop(df['NumMosquitos'].index[:91]));"
   ]
  },
  {
   "cell_type": "code",
   "execution_count": 30,
   "metadata": {},
   "outputs": [
    {
     "data": {
      "text/plain": [
       "0.000    5071\n",
       "0.005     335\n",
       "0.010     101\n",
       "0.015      93\n",
       "0.025      52\n",
       "0.030     124\n",
       "0.075      18\n",
       "0.080     117\n",
       "0.085      35\n",
       "0.090     206\n",
       "0.100      87\n",
       "0.105      87\n",
       "0.130      77\n",
       "0.140      18\n",
       "0.165      83\n",
       "0.220     183\n",
       "0.255      19\n",
       "0.260     127\n",
       "0.280     120\n",
       "0.290     134\n",
       "0.295     153\n",
       "0.345      61\n",
       "0.420     108\n",
       "0.450     105\n",
       "0.480      45\n",
       "0.530     354\n",
       "0.625      61\n",
       "0.670     103\n",
       "0.685     184\n",
       "0.740      64\n",
       "0.755      63\n",
       "1.070      50\n",
       "1.235     116\n",
       "2.420      89\n",
       "Name: PrecipTotal, dtype: int64"
      ]
     },
     "execution_count": 30,
     "metadata": {},
     "output_type": "execute_result"
    }
   ],
   "source": [
    "df['PrecipTotal'].value_counts().sort_index(ascending=True)"
   ]
  },
  {
   "cell_type": "markdown",
   "metadata": {},
   "source": [
    "The best rolling mean values for `PrecipTotal` tend to be the max passed through it. Given that, it appears that an expanding mean for total precipitation may give us the best results."
   ]
  },
  {
   "cell_type": "markdown",
   "metadata": {},
   "source": [
    "Best Wetbulb Rolling Mean\n",
    ">The lowest temperature that can be reached by evaporating water into the air. Note: the wet bulb temperature will always be less than or equal to the temperature. It feels more comfortable when wet-bulb temperature is low. [Source] (http://apollo.lsc.vsc.edu/classes/met130/notes/chapter4/wet_bulb.html)"
   ]
  },
  {
   "cell_type": "code",
   "execution_count": 20,
   "metadata": {},
   "outputs": [
    {
     "name": "stdout",
     "output_type": "stream",
     "text": [
      "0.07067325274604591 Rolling Mean: 100 Shifted Value: 7\n"
     ]
    }
   ],
   "source": [
    "hi_corr(df['WetBulb'], df['NumMosquitos'], rm_min=1, rm_max=100, min_val=7, max_val=100)"
   ]
  },
  {
   "cell_type": "code",
   "execution_count": 40,
   "metadata": {},
   "outputs": [
    {
     "data": {
      "text/plain": [
       "array([[1.        , 0.05825479],\n",
       "       [0.05825479, 1.        ]])"
      ]
     },
     "execution_count": 40,
     "metadata": {},
     "output_type": "execute_result"
    }
   ],
   "source": [
    "np.corrcoef(df['WetBulb'].expanding().mean(), df['NumMosquitos'])"
   ]
  },
  {
   "cell_type": "markdown",
   "metadata": {},
   "source": [
    "Best Dewpoint Rolling Mean\n",
    " > the atmospheric temperature (varying according to pressure and humidity) below which water droplets begin to condense and dew can form."
   ]
  },
  {
   "cell_type": "code",
   "execution_count": 38,
   "metadata": {},
   "outputs": [
    {
     "name": "stderr",
     "output_type": "stream",
     "text": [
      "/Users/jonjohnson/anaconda3/lib/python3.6/site-packages/numpy/lib/function_base.py:3183: RuntimeWarning: invalid value encountered in true_divide\n",
      "  c /= stddev[:, None]\n",
      "/Users/jonjohnson/anaconda3/lib/python3.6/site-packages/numpy/lib/function_base.py:3184: RuntimeWarning: invalid value encountered in true_divide\n",
      "  c /= stddev[None, :]\n"
     ]
    },
    {
     "name": "stdout",
     "output_type": "stream",
     "text": [
      "-0.002170705197829583 Rolling Mean: 9 Shifted Value: 74\n"
     ]
    }
   ],
   "source": [
    "hi_corr(df['DewPoint'], df['NumMosquitos'], rm_min=1, rm_max=100, min_val=7, max_val=100)"
   ]
  },
  {
   "cell_type": "code",
   "execution_count": 39,
   "metadata": {},
   "outputs": [
    {
     "data": {
      "text/plain": [
       "array([[1.00000000e+00, 8.56341637e-04],\n",
       "       [8.56341637e-04, 1.00000000e+00]])"
      ]
     },
     "execution_count": 39,
     "metadata": {},
     "output_type": "execute_result"
    }
   ],
   "source": [
    "np.corrcoef(df['DewPoint'].expanding().mean(), df['NumMosquitos'])"
   ]
  },
  {
   "cell_type": "code",
   "execution_count": 22,
   "metadata": {},
   "outputs": [],
   "source": [
    "# features = ['Tavg']\n",
    "\n",
    "# new_df = df[['WnvPresent']].set_index(df['Date'])\n",
    "\n",
    "# for f in features:\n",
    "#     for roll in [1,2,3,4,5,6,7]:\n",
    "#         columns = list(new_df.columns)\n",
    "#         columns.append(f\"{f}_with_roll_of_{roll}\")\n",
    "#         new_df = pd.concat([new_df, df[[f]].rolling(roll).mean().set_index(df['Date']).replace()], axis=1)\n",
    "#         new_df.columns = columns    \n",
    "# sns.heatmap(new_df.corr())"
   ]
  },
  {
   "cell_type": "markdown",
   "metadata": {},
   "source": [
    "### Ensuring DataFrames are Correctly Setup"
   ]
  },
  {
   "cell_type": "code",
   "execution_count": 23,
   "metadata": {},
   "outputs": [],
   "source": [
    "weather = pd.read_csv('../data/weather.csv')"
   ]
  },
  {
   "cell_type": "code",
   "execution_count": 24,
   "metadata": {},
   "outputs": [
    {
     "data": {
      "text/html": [
       "<div>\n",
       "<style scoped>\n",
       "    .dataframe tbody tr th:only-of-type {\n",
       "        vertical-align: middle;\n",
       "    }\n",
       "\n",
       "    .dataframe tbody tr th {\n",
       "        vertical-align: top;\n",
       "    }\n",
       "\n",
       "    .dataframe thead th {\n",
       "        text-align: right;\n",
       "    }\n",
       "</style>\n",
       "<table border=\"1\" class=\"dataframe\">\n",
       "  <thead>\n",
       "    <tr style=\"text-align: right;\">\n",
       "      <th></th>\n",
       "      <th>Station</th>\n",
       "      <th>Tmax</th>\n",
       "      <th>Tmin</th>\n",
       "      <th>DewPoint</th>\n",
       "      <th>ResultSpeed</th>\n",
       "      <th>ResultDir</th>\n",
       "    </tr>\n",
       "  </thead>\n",
       "  <tbody>\n",
       "    <tr>\n",
       "      <th>count</th>\n",
       "      <td>2944.000000</td>\n",
       "      <td>2944.000000</td>\n",
       "      <td>2944.000000</td>\n",
       "      <td>2944.000000</td>\n",
       "      <td>2944.000000</td>\n",
       "      <td>2944.000000</td>\n",
       "    </tr>\n",
       "    <tr>\n",
       "      <th>mean</th>\n",
       "      <td>1.500000</td>\n",
       "      <td>76.166101</td>\n",
       "      <td>57.810462</td>\n",
       "      <td>53.457880</td>\n",
       "      <td>6.960666</td>\n",
       "      <td>17.494905</td>\n",
       "    </tr>\n",
       "    <tr>\n",
       "      <th>std</th>\n",
       "      <td>0.500085</td>\n",
       "      <td>11.461970</td>\n",
       "      <td>10.381939</td>\n",
       "      <td>10.675181</td>\n",
       "      <td>3.587527</td>\n",
       "      <td>10.063609</td>\n",
       "    </tr>\n",
       "    <tr>\n",
       "      <th>min</th>\n",
       "      <td>1.000000</td>\n",
       "      <td>41.000000</td>\n",
       "      <td>29.000000</td>\n",
       "      <td>22.000000</td>\n",
       "      <td>0.100000</td>\n",
       "      <td>1.000000</td>\n",
       "    </tr>\n",
       "    <tr>\n",
       "      <th>25%</th>\n",
       "      <td>1.000000</td>\n",
       "      <td>69.000000</td>\n",
       "      <td>50.000000</td>\n",
       "      <td>46.000000</td>\n",
       "      <td>4.300000</td>\n",
       "      <td>7.000000</td>\n",
       "    </tr>\n",
       "    <tr>\n",
       "      <th>50%</th>\n",
       "      <td>1.500000</td>\n",
       "      <td>78.000000</td>\n",
       "      <td>59.000000</td>\n",
       "      <td>54.000000</td>\n",
       "      <td>6.400000</td>\n",
       "      <td>19.000000</td>\n",
       "    </tr>\n",
       "    <tr>\n",
       "      <th>75%</th>\n",
       "      <td>2.000000</td>\n",
       "      <td>85.000000</td>\n",
       "      <td>66.000000</td>\n",
       "      <td>62.000000</td>\n",
       "      <td>9.200000</td>\n",
       "      <td>25.000000</td>\n",
       "    </tr>\n",
       "    <tr>\n",
       "      <th>max</th>\n",
       "      <td>2.000000</td>\n",
       "      <td>104.000000</td>\n",
       "      <td>83.000000</td>\n",
       "      <td>75.000000</td>\n",
       "      <td>24.100000</td>\n",
       "      <td>36.000000</td>\n",
       "    </tr>\n",
       "  </tbody>\n",
       "</table>\n",
       "</div>"
      ],
      "text/plain": [
       "           Station         Tmax         Tmin     DewPoint  ResultSpeed  \\\n",
       "count  2944.000000  2944.000000  2944.000000  2944.000000  2944.000000   \n",
       "mean      1.500000    76.166101    57.810462    53.457880     6.960666   \n",
       "std       0.500085    11.461970    10.381939    10.675181     3.587527   \n",
       "min       1.000000    41.000000    29.000000    22.000000     0.100000   \n",
       "25%       1.000000    69.000000    50.000000    46.000000     4.300000   \n",
       "50%       1.500000    78.000000    59.000000    54.000000     6.400000   \n",
       "75%       2.000000    85.000000    66.000000    62.000000     9.200000   \n",
       "max       2.000000   104.000000    83.000000    75.000000    24.100000   \n",
       "\n",
       "         ResultDir  \n",
       "count  2944.000000  \n",
       "mean     17.494905  \n",
       "std      10.063609  \n",
       "min       1.000000  \n",
       "25%       7.000000  \n",
       "50%      19.000000  \n",
       "75%      25.000000  \n",
       "max      36.000000  "
      ]
     },
     "execution_count": 24,
     "metadata": {},
     "output_type": "execute_result"
    }
   ],
   "source": [
    "weather.describe()"
   ]
  },
  {
   "cell_type": "code",
   "execution_count": 25,
   "metadata": {},
   "outputs": [
    {
     "data": {
      "text/html": [
       "<div>\n",
       "<style scoped>\n",
       "    .dataframe tbody tr th:only-of-type {\n",
       "        vertical-align: middle;\n",
       "    }\n",
       "\n",
       "    .dataframe tbody tr th {\n",
       "        vertical-align: top;\n",
       "    }\n",
       "\n",
       "    .dataframe thead th {\n",
       "        text-align: right;\n",
       "    }\n",
       "</style>\n",
       "<table border=\"1\" class=\"dataframe\">\n",
       "  <thead>\n",
       "    <tr style=\"text-align: right;\">\n",
       "      <th></th>\n",
       "      <th>Station</th>\n",
       "      <th>Date</th>\n",
       "      <th>Tmax</th>\n",
       "      <th>Tmin</th>\n",
       "      <th>Tavg</th>\n",
       "      <th>Depart</th>\n",
       "      <th>DewPoint</th>\n",
       "      <th>WetBulb</th>\n",
       "      <th>Heat</th>\n",
       "      <th>Cool</th>\n",
       "      <th>...</th>\n",
       "      <th>CodeSum</th>\n",
       "      <th>Depth</th>\n",
       "      <th>Water1</th>\n",
       "      <th>SnowFall</th>\n",
       "      <th>PrecipTotal</th>\n",
       "      <th>StnPressure</th>\n",
       "      <th>SeaLevel</th>\n",
       "      <th>ResultSpeed</th>\n",
       "      <th>ResultDir</th>\n",
       "      <th>AvgSpeed</th>\n",
       "    </tr>\n",
       "  </thead>\n",
       "  <tbody>\n",
       "    <tr>\n",
       "      <th>0</th>\n",
       "      <td>1</td>\n",
       "      <td>2007-05-01</td>\n",
       "      <td>83</td>\n",
       "      <td>50</td>\n",
       "      <td>67</td>\n",
       "      <td>14</td>\n",
       "      <td>51</td>\n",
       "      <td>56</td>\n",
       "      <td>0</td>\n",
       "      <td>2</td>\n",
       "      <td>...</td>\n",
       "      <td></td>\n",
       "      <td>0</td>\n",
       "      <td>M</td>\n",
       "      <td>0.0</td>\n",
       "      <td>0.00</td>\n",
       "      <td>29.10</td>\n",
       "      <td>29.82</td>\n",
       "      <td>1.7</td>\n",
       "      <td>27</td>\n",
       "      <td>9.2</td>\n",
       "    </tr>\n",
       "    <tr>\n",
       "      <th>1</th>\n",
       "      <td>2</td>\n",
       "      <td>2007-05-01</td>\n",
       "      <td>84</td>\n",
       "      <td>52</td>\n",
       "      <td>68</td>\n",
       "      <td>M</td>\n",
       "      <td>51</td>\n",
       "      <td>57</td>\n",
       "      <td>0</td>\n",
       "      <td>3</td>\n",
       "      <td>...</td>\n",
       "      <td></td>\n",
       "      <td>M</td>\n",
       "      <td>M</td>\n",
       "      <td>M</td>\n",
       "      <td>0.00</td>\n",
       "      <td>29.18</td>\n",
       "      <td>29.82</td>\n",
       "      <td>2.7</td>\n",
       "      <td>25</td>\n",
       "      <td>9.6</td>\n",
       "    </tr>\n",
       "    <tr>\n",
       "      <th>2</th>\n",
       "      <td>1</td>\n",
       "      <td>2007-05-02</td>\n",
       "      <td>59</td>\n",
       "      <td>42</td>\n",
       "      <td>51</td>\n",
       "      <td>-3</td>\n",
       "      <td>42</td>\n",
       "      <td>47</td>\n",
       "      <td>14</td>\n",
       "      <td>0</td>\n",
       "      <td>...</td>\n",
       "      <td>BR</td>\n",
       "      <td>0</td>\n",
       "      <td>M</td>\n",
       "      <td>0.0</td>\n",
       "      <td>0.00</td>\n",
       "      <td>29.38</td>\n",
       "      <td>30.09</td>\n",
       "      <td>13.0</td>\n",
       "      <td>4</td>\n",
       "      <td>13.4</td>\n",
       "    </tr>\n",
       "    <tr>\n",
       "      <th>3</th>\n",
       "      <td>2</td>\n",
       "      <td>2007-05-02</td>\n",
       "      <td>60</td>\n",
       "      <td>43</td>\n",
       "      <td>52</td>\n",
       "      <td>M</td>\n",
       "      <td>42</td>\n",
       "      <td>47</td>\n",
       "      <td>13</td>\n",
       "      <td>0</td>\n",
       "      <td>...</td>\n",
       "      <td>BR HZ</td>\n",
       "      <td>M</td>\n",
       "      <td>M</td>\n",
       "      <td>M</td>\n",
       "      <td>0.00</td>\n",
       "      <td>29.44</td>\n",
       "      <td>30.08</td>\n",
       "      <td>13.3</td>\n",
       "      <td>2</td>\n",
       "      <td>13.4</td>\n",
       "    </tr>\n",
       "    <tr>\n",
       "      <th>4</th>\n",
       "      <td>1</td>\n",
       "      <td>2007-05-03</td>\n",
       "      <td>66</td>\n",
       "      <td>46</td>\n",
       "      <td>56</td>\n",
       "      <td>2</td>\n",
       "      <td>40</td>\n",
       "      <td>48</td>\n",
       "      <td>9</td>\n",
       "      <td>0</td>\n",
       "      <td>...</td>\n",
       "      <td></td>\n",
       "      <td>0</td>\n",
       "      <td>M</td>\n",
       "      <td>0.0</td>\n",
       "      <td>0.00</td>\n",
       "      <td>29.39</td>\n",
       "      <td>30.12</td>\n",
       "      <td>11.7</td>\n",
       "      <td>7</td>\n",
       "      <td>11.9</td>\n",
       "    </tr>\n",
       "  </tbody>\n",
       "</table>\n",
       "<p>5 rows × 22 columns</p>\n",
       "</div>"
      ],
      "text/plain": [
       "   Station        Date  Tmax  Tmin Tavg Depart  DewPoint WetBulb Heat Cool  \\\n",
       "0        1  2007-05-01    83    50   67     14        51      56    0    2   \n",
       "1        2  2007-05-01    84    52   68      M        51      57    0    3   \n",
       "2        1  2007-05-02    59    42   51     -3        42      47   14    0   \n",
       "3        2  2007-05-02    60    43   52      M        42      47   13    0   \n",
       "4        1  2007-05-03    66    46   56      2        40      48    9    0   \n",
       "\n",
       "     ...    CodeSum Depth Water1 SnowFall PrecipTotal StnPressure SeaLevel  \\\n",
       "0    ...                0      M      0.0        0.00       29.10    29.82   \n",
       "1    ...                M      M        M        0.00       29.18    29.82   \n",
       "2    ...         BR     0      M      0.0        0.00       29.38    30.09   \n",
       "3    ...      BR HZ     M      M        M        0.00       29.44    30.08   \n",
       "4    ...                0      M      0.0        0.00       29.39    30.12   \n",
       "\n",
       "  ResultSpeed ResultDir  AvgSpeed  \n",
       "0         1.7        27       9.2  \n",
       "1         2.7        25       9.6  \n",
       "2        13.0         4      13.4  \n",
       "3        13.3         2      13.4  \n",
       "4        11.7         7      11.9  \n",
       "\n",
       "[5 rows x 22 columns]"
      ]
     },
     "execution_count": 25,
     "metadata": {},
     "output_type": "execute_result"
    }
   ],
   "source": [
    "weather.head()"
   ]
  },
  {
   "cell_type": "code",
   "execution_count": 26,
   "metadata": {},
   "outputs": [
    {
     "data": {
      "text/plain": [
       "  T      318\n",
       "0.00    1577\n",
       "0.01     127\n",
       "0.02      63\n",
       "0.03      46\n",
       "Name: PrecipTotal, dtype: int64"
      ]
     },
     "execution_count": 26,
     "metadata": {},
     "output_type": "execute_result"
    }
   ],
   "source": [
    "weather['PrecipTotal'].value_counts().sort_index(ascending=True)[:5]"
   ]
  },
  {
   "cell_type": "code",
   "execution_count": 37,
   "metadata": {},
   "outputs": [
    {
     "data": {
      "text/plain": [
       "Index(['Trap', 'Species', 'NumMosquitos', 'WnvPresent', 'Day_length', 'Tmax',\n",
       "       'Tmin', 'Tavg', 'ResultSpeed', 'ResultDir', 'AvgSpeed', 'Sunset',\n",
       "       'Sunrise', 'Heat', 'Depart', 'DewPoint', 'WetBulb', 'Cool', 'CodeSum',\n",
       "       'PrecipTotal', 'StnPressure', 'Date', 'Latitude', 'Longitude', 'Month'],\n",
       "      dtype='object')"
      ]
     },
     "execution_count": 37,
     "metadata": {},
     "output_type": "execute_result"
    }
   ],
   "source": [
    "df.columns"
   ]
  },
  {
   "cell_type": "code",
   "execution_count": 32,
   "metadata": {},
   "outputs": [
    {
     "data": {
      "text/plain": [
       "40980     20\n",
       "41820    183\n",
       "42360     64\n",
       "42480     54\n",
       "43140     89\n",
       "43320    132\n",
       "43500    157\n",
       "43680    101\n",
       "44340    200\n",
       "44460     98\n",
       "44700    118\n",
       "44880    111\n",
       "45300    102\n",
       "45660    381\n",
       "46620    148\n",
       "46800     58\n",
       "46920     91\n",
       "47100     51\n",
       "47280     33\n",
       "47400     62\n",
       "47880    114\n",
       "48060     29\n",
       "48180     50\n",
       "48360    103\n",
       "48540     70\n",
       "48660    183\n",
       "49020    214\n",
       "49200    184\n",
       "49500    110\n",
       "49800     21\n",
       "        ... \n",
       "51060    174\n",
       "51180    304\n",
       "51480    130\n",
       "51720      2\n",
       "51840     79\n",
       "51960    433\n",
       "52140    117\n",
       "52380    116\n",
       "52620    139\n",
       "52800    294\n",
       "52920     83\n",
       "53400    169\n",
       "53520    116\n",
       "53640    144\n",
       "53700     57\n",
       "53760     25\n",
       "53820    144\n",
       "53940     43\n",
       "54060    226\n",
       "54120    270\n",
       "54180      4\n",
       "54240     87\n",
       "54300    103\n",
       "54360    136\n",
       "54420    174\n",
       "54600     45\n",
       "54660    163\n",
       "54720    322\n",
       "54780    322\n",
       "54840    283\n",
       "Name: Day_length, Length: 65, dtype: int64"
      ]
     },
     "execution_count": 32,
     "metadata": {},
     "output_type": "execute_result"
    }
   ],
   "source": [
    "df['Day_length'].value_counts().sort_index(ascending=True)"
   ]
  },
  {
   "cell_type": "code",
   "execution_count": 33,
   "metadata": {},
   "outputs": [
    {
     "data": {
      "text/plain": [
       "10     267\n",
       "9     1986\n",
       "8     2808\n",
       "7     2136\n",
       "6     1364\n",
       "5       82\n",
       "Name: Month, dtype: int64"
      ]
     },
     "execution_count": 33,
     "metadata": {},
     "output_type": "execute_result"
    }
   ],
   "source": [
    "df['Month'].value_counts().sort_index(ascending=False)"
   ]
  },
  {
   "cell_type": "code",
   "execution_count": 35,
   "metadata": {},
   "outputs": [
    {
     "data": {
      "text/plain": [
       "                       4338\n",
       "RA BR                   763\n",
       "RA                      707\n",
       "HZ                      696\n",
       "TSRA RA BR              353\n",
       "BR HZ                   323\n",
       "TSRA RA                 291\n",
       "BR                      273\n",
       "TS BR                   134\n",
       "RA BR HZ                132\n",
       "TSRA RA BR VCTS         116\n",
       "RA DZ BR                114\n",
       "TS TSRA RA FG BR HZ     108\n",
       "TS TSRA BR               89\n",
       "TSRA BR HZ VCTS          69\n",
       "TS TSRA RA               61\n",
       "DZ BR                    35\n",
       "RA HZ                    23\n",
       "TS RA                    18\n",
       "Name: CodeSum, dtype: int64"
      ]
     },
     "execution_count": 35,
     "metadata": {},
     "output_type": "execute_result"
    }
   ],
   "source": [
    "df['CodeSum'].value_counts()"
   ]
  }
 ],
 "metadata": {
  "kernelspec": {
   "display_name": "Python 3",
   "language": "python",
   "name": "python3"
  },
  "language_info": {
   "codemirror_mode": {
    "name": "ipython",
    "version": 3
   },
   "file_extension": ".py",
   "mimetype": "text/x-python",
   "name": "python",
   "nbconvert_exporter": "python",
   "pygments_lexer": "ipython3",
   "version": "3.6.5"
  }
 },
 "nbformat": 4,
 "nbformat_minor": 2
}
