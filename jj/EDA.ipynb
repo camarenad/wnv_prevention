{
 "cells": [
  {
   "cell_type": "markdown",
   "metadata": {},
   "source": [
    "## 01_EDA\n",
    "\n",
    "JJ's Mission: Clean up the Train & Test Datasets"
   ]
  },
  {
   "cell_type": "code",
   "execution_count": 15,
   "metadata": {},
   "outputs": [],
   "source": [
    "import pandas as pd\n",
    "import numpy as np\n",
    "import datetime\n",
    "import matplotlib.pyplot as plt\n",
    "\n",
    "%matplotlib inline"
   ]
  },
  {
   "cell_type": "code",
   "execution_count": 2,
   "metadata": {},
   "outputs": [],
   "source": [
    "df = pd.read_csv('../data/train.csv', parse_dates=['Date'])\n",
    "df_t = pd.read_csv('../data/test.csv', parse_dates=['Date'])"
   ]
  },
  {
   "cell_type": "code",
   "execution_count": 3,
   "metadata": {},
   "outputs": [
    {
     "name": "stdout",
     "output_type": "stream",
     "text": [
      "<class 'pandas.core.frame.DataFrame'>\n",
      "RangeIndex: 10506 entries, 0 to 10505\n",
      "Data columns (total 12 columns):\n",
      "Date                      10506 non-null datetime64[ns]\n",
      "Address                   10506 non-null object\n",
      "Species                   10506 non-null object\n",
      "Block                     10506 non-null int64\n",
      "Street                    10506 non-null object\n",
      "Trap                      10506 non-null object\n",
      "AddressNumberAndStreet    10506 non-null object\n",
      "Latitude                  10506 non-null float64\n",
      "Longitude                 10506 non-null float64\n",
      "AddressAccuracy           10506 non-null int64\n",
      "NumMosquitos              10506 non-null int64\n",
      "WnvPresent                10506 non-null int64\n",
      "dtypes: datetime64[ns](1), float64(2), int64(4), object(5)\n",
      "memory usage: 985.0+ KB\n"
     ]
    }
   ],
   "source": [
    "df.info()"
   ]
  },
  {
   "cell_type": "code",
   "execution_count": 4,
   "metadata": {},
   "outputs": [
    {
     "data": {
      "text/html": [
       "<div>\n",
       "<style scoped>\n",
       "    .dataframe tbody tr th:only-of-type {\n",
       "        vertical-align: middle;\n",
       "    }\n",
       "\n",
       "    .dataframe tbody tr th {\n",
       "        vertical-align: top;\n",
       "    }\n",
       "\n",
       "    .dataframe thead th {\n",
       "        text-align: right;\n",
       "    }\n",
       "</style>\n",
       "<table border=\"1\" class=\"dataframe\">\n",
       "  <thead>\n",
       "    <tr style=\"text-align: right;\">\n",
       "      <th></th>\n",
       "      <th>Date</th>\n",
       "      <th>Address</th>\n",
       "      <th>Species</th>\n",
       "      <th>Block</th>\n",
       "      <th>Street</th>\n",
       "      <th>Trap</th>\n",
       "      <th>AddressNumberAndStreet</th>\n",
       "      <th>Latitude</th>\n",
       "      <th>Longitude</th>\n",
       "      <th>AddressAccuracy</th>\n",
       "      <th>NumMosquitos</th>\n",
       "      <th>WnvPresent</th>\n",
       "    </tr>\n",
       "  </thead>\n",
       "  <tbody>\n",
       "    <tr>\n",
       "      <th>0</th>\n",
       "      <td>2007-05-29</td>\n",
       "      <td>4100 North Oak Park Avenue, Chicago, IL 60634,...</td>\n",
       "      <td>CULEX PIPIENS/RESTUANS</td>\n",
       "      <td>41</td>\n",
       "      <td>N OAK PARK AVE</td>\n",
       "      <td>T002</td>\n",
       "      <td>4100  N OAK PARK AVE, Chicago, IL</td>\n",
       "      <td>41.954690</td>\n",
       "      <td>-87.800991</td>\n",
       "      <td>9</td>\n",
       "      <td>1</td>\n",
       "      <td>0</td>\n",
       "    </tr>\n",
       "    <tr>\n",
       "      <th>1</th>\n",
       "      <td>2007-05-29</td>\n",
       "      <td>4100 North Oak Park Avenue, Chicago, IL 60634,...</td>\n",
       "      <td>CULEX RESTUANS</td>\n",
       "      <td>41</td>\n",
       "      <td>N OAK PARK AVE</td>\n",
       "      <td>T002</td>\n",
       "      <td>4100  N OAK PARK AVE, Chicago, IL</td>\n",
       "      <td>41.954690</td>\n",
       "      <td>-87.800991</td>\n",
       "      <td>9</td>\n",
       "      <td>1</td>\n",
       "      <td>0</td>\n",
       "    </tr>\n",
       "    <tr>\n",
       "      <th>2</th>\n",
       "      <td>2007-05-29</td>\n",
       "      <td>6200 North Mandell Avenue, Chicago, IL 60646, USA</td>\n",
       "      <td>CULEX RESTUANS</td>\n",
       "      <td>62</td>\n",
       "      <td>N MANDELL AVE</td>\n",
       "      <td>T007</td>\n",
       "      <td>6200  N MANDELL AVE, Chicago, IL</td>\n",
       "      <td>41.994991</td>\n",
       "      <td>-87.769279</td>\n",
       "      <td>9</td>\n",
       "      <td>1</td>\n",
       "      <td>0</td>\n",
       "    </tr>\n",
       "    <tr>\n",
       "      <th>3</th>\n",
       "      <td>2007-05-29</td>\n",
       "      <td>7900 West Foster Avenue, Chicago, IL 60656, USA</td>\n",
       "      <td>CULEX PIPIENS/RESTUANS</td>\n",
       "      <td>79</td>\n",
       "      <td>W FOSTER AVE</td>\n",
       "      <td>T015</td>\n",
       "      <td>7900  W FOSTER AVE, Chicago, IL</td>\n",
       "      <td>41.974089</td>\n",
       "      <td>-87.824812</td>\n",
       "      <td>8</td>\n",
       "      <td>1</td>\n",
       "      <td>0</td>\n",
       "    </tr>\n",
       "    <tr>\n",
       "      <th>4</th>\n",
       "      <td>2007-05-29</td>\n",
       "      <td>7900 West Foster Avenue, Chicago, IL 60656, USA</td>\n",
       "      <td>CULEX RESTUANS</td>\n",
       "      <td>79</td>\n",
       "      <td>W FOSTER AVE</td>\n",
       "      <td>T015</td>\n",
       "      <td>7900  W FOSTER AVE, Chicago, IL</td>\n",
       "      <td>41.974089</td>\n",
       "      <td>-87.824812</td>\n",
       "      <td>8</td>\n",
       "      <td>4</td>\n",
       "      <td>0</td>\n",
       "    </tr>\n",
       "  </tbody>\n",
       "</table>\n",
       "</div>"
      ],
      "text/plain": [
       "        Date                                            Address  \\\n",
       "0 2007-05-29  4100 North Oak Park Avenue, Chicago, IL 60634,...   \n",
       "1 2007-05-29  4100 North Oak Park Avenue, Chicago, IL 60634,...   \n",
       "2 2007-05-29  6200 North Mandell Avenue, Chicago, IL 60646, USA   \n",
       "3 2007-05-29    7900 West Foster Avenue, Chicago, IL 60656, USA   \n",
       "4 2007-05-29    7900 West Foster Avenue, Chicago, IL 60656, USA   \n",
       "\n",
       "                  Species  Block           Street  Trap  \\\n",
       "0  CULEX PIPIENS/RESTUANS     41   N OAK PARK AVE  T002   \n",
       "1          CULEX RESTUANS     41   N OAK PARK AVE  T002   \n",
       "2          CULEX RESTUANS     62    N MANDELL AVE  T007   \n",
       "3  CULEX PIPIENS/RESTUANS     79     W FOSTER AVE  T015   \n",
       "4          CULEX RESTUANS     79     W FOSTER AVE  T015   \n",
       "\n",
       "              AddressNumberAndStreet   Latitude  Longitude  AddressAccuracy  \\\n",
       "0  4100  N OAK PARK AVE, Chicago, IL  41.954690 -87.800991                9   \n",
       "1  4100  N OAK PARK AVE, Chicago, IL  41.954690 -87.800991                9   \n",
       "2   6200  N MANDELL AVE, Chicago, IL  41.994991 -87.769279                9   \n",
       "3    7900  W FOSTER AVE, Chicago, IL  41.974089 -87.824812                8   \n",
       "4    7900  W FOSTER AVE, Chicago, IL  41.974089 -87.824812                8   \n",
       "\n",
       "   NumMosquitos  WnvPresent  \n",
       "0             1           0  \n",
       "1             1           0  \n",
       "2             1           0  \n",
       "3             1           0  \n",
       "4             4           0  "
      ]
     },
     "execution_count": 4,
     "metadata": {},
     "output_type": "execute_result"
    }
   ],
   "source": [
    "df.head()"
   ]
  },
  {
   "cell_type": "code",
   "execution_count": 5,
   "metadata": {},
   "outputs": [
    {
     "data": {
      "text/plain": [
       "0    9955\n",
       "1     551\n",
       "Name: WnvPresent, dtype: int64"
      ]
     },
     "execution_count": 5,
     "metadata": {},
     "output_type": "execute_result"
    }
   ],
   "source": [
    "df['WnvPresent'].value_counts()"
   ]
  },
  {
   "cell_type": "code",
   "execution_count": 6,
   "metadata": {},
   "outputs": [
    {
     "data": {
      "text/plain": [
       "2007-08-01    551\n",
       "2007-08-15    276\n",
       "2007-08-24    186\n",
       "2007-08-21    186\n",
       "2013-08-01    186\n",
       "2007-10-04    185\n",
       "2007-08-07    184\n",
       "2013-07-12    182\n",
       "2013-07-19    182\n",
       "2013-08-08    181\n",
       "2011-07-25    179\n",
       "2011-07-15    177\n",
       "2007-09-24    167\n",
       "2013-08-22    167\n",
       "2009-07-17    164\n",
       "2013-08-15    157\n",
       "2013-07-25    153\n",
       "2007-07-11    152\n",
       "2011-07-11    146\n",
       "2013-09-06    143\n",
       "2013-08-29    143\n",
       "2011-08-05    140\n",
       "2013-09-12    139\n",
       "2007-08-22    139\n",
       "2009-07-31    139\n",
       "2011-09-12    138\n",
       "2011-07-29    138\n",
       "2007-08-02    137\n",
       "2007-09-12    135\n",
       "2009-08-07    131\n",
       "             ... \n",
       "2009-07-27     83\n",
       "2013-06-07     77\n",
       "2009-06-05     77\n",
       "2007-07-02     74\n",
       "2009-07-13     71\n",
       "2007-06-26     70\n",
       "2009-10-01     65\n",
       "2013-06-27     62\n",
       "2011-06-10     62\n",
       "2011-09-01     62\n",
       "2011-09-30     61\n",
       "2013-06-28     60\n",
       "2007-06-05     60\n",
       "2009-05-28     59\n",
       "2009-09-03     55\n",
       "2007-08-17     54\n",
       "2009-08-27     54\n",
       "2009-06-22     52\n",
       "2007-09-06     50\n",
       "2011-09-02     50\n",
       "2007-06-29     46\n",
       "2007-07-19     45\n",
       "2009-06-15     32\n",
       "2009-06-29     31\n",
       "2007-08-09     26\n",
       "2007-10-09     26\n",
       "2007-05-29     25\n",
       "2007-09-25     23\n",
       "2009-06-03     14\n",
       "2007-08-03      5\n",
       "Name: Date, Length: 95, dtype: int64"
      ]
     },
     "execution_count": 6,
     "metadata": {},
     "output_type": "execute_result"
    }
   ],
   "source": [
    "df['Date'].value_counts()"
   ]
  },
  {
   "cell_type": "code",
   "execution_count": 7,
   "metadata": {},
   "outputs": [
    {
     "data": {
      "text/plain": [
       "CULEX PIPIENS/RESTUANS    4752\n",
       "CULEX RESTUANS            2740\n",
       "CULEX PIPIENS             2699\n",
       "CULEX TERRITANS            222\n",
       "CULEX SALINARIUS            86\n",
       "CULEX TARSALIS               6\n",
       "CULEX ERRATICUS              1\n",
       "Name: Species, dtype: int64"
      ]
     },
     "execution_count": 7,
     "metadata": {},
     "output_type": "execute_result"
    }
   ],
   "source": [
    "df['Species'].value_counts()\n",
    "\n",
    "# plt.hist(df['Species'])"
   ]
  },
  {
   "cell_type": "markdown",
   "metadata": {},
   "source": [
    "**Looking into Mosquito Species**\n",
    "\n",
    "Culex (from Wikipedia): Culex is a genus of mosquitoes, several species of which serve as vectors of one or more important diseases of birds, humans, and other animals. The diseases they vector include arbovirus infections such as West Nile virus, Japanese encephalitis, or St. Louis encephalitis, but also filariasis and avian malaria. They occur worldwide except for the extreme northern parts of the temperate zone, and are the most common form of mosquito encountered in some major US cities such as Los Angeles. \n",
    "\n",
    "Species Bionomics (from http://www.wrbu.org/index.html):\n",
    "\n",
    "- **CULEX RESTUANS**: The larvae are found in a wide variety of aquatic habitats, such as ditches, pools in streams, woodland pools, and artificial containers. The females are regarded as troublesome biters by some observers, although others say that they rarely bite man. (Carpenter and LaCasse 1955:290)\n",
    "- **CULEX PIPIENS**:  Larvae are found in numerous and variable breeding places ranging from highly polluted cesspits to clear water pools and containers. This species usually breeds in stagnant water in either shaded or unshaded situations. Females readily attack man both indoors and outdoors (Harbach 1988).\n",
    "  - Medical Importance:  It has been found naturally infected with Sindbis virus and West Nile viruses in Israel, West Nile and Rift Valley Fever in Egypt, and is a primary vector of periodic Bancroftian filariasis (Harbach 1988).\n",
    "- **CULEX TERRITANS**: Description- http://vectorbio.rutgers.edu/outreach/species/terr.htm\n",
    "- **CULEX SALINARIUS**: Description- http://vectorbio.rutgers.edu/outreach/species/sp11a.htm\n",
    "- **CULEX TARSALIS**: The larvae are found in clear or foul water in a variety of habitats including ditches, irrigation systems, ground pools, marshes, pools in stream beds, rain barrels, hoofprints, and ornamental pools. Foul water in corrals and around slaughter yards appear to be favorite larval habitats in many localities. Cx. tarsalis are biters, attacking at dusk and after dark, and readily entering dwellings for blood meals. Domestic and wild birds seem to be the preferred hosts. and man, cows, and horses are generally incidental hosts. (Carpenter and LaCasse 1955:296)\n",
    "  - Medical Importance: Culex tarsalis is believed to be the chief vector of western equine encephalitis virus under natural conditions. The virus has been isolated from wild-caught C. tarsalis on several occasions in areas in which the disease was both epidemic and epizoitic. The viruses of both St. Louis and California encephalitis have been isolated from this mosquito. (Carpenter and LaCasse 1955:296) It also a vector of West Nile Virus (Hayes et al. 2005)\n",
    "- **CULEX ERRATICUS**: The larvae have been found in semipermanent and permanent pools including ditches, floodwater areas, grassy pools, streams, and occasionally in bilge water of boats and other artificial collections of water. (Carpenter and LaCasse 1955:315305)"
   ]
  },
  {
   "cell_type": "code",
   "execution_count": 8,
   "metadata": {},
   "outputs": [
    {
     "data": {
      "text/plain": [
       "10    1722\n",
       "11     736\n",
       "12     605\n",
       "22     500\n",
       "13     345\n",
       "Name: Block, dtype: int64"
      ]
     },
     "execution_count": 8,
     "metadata": {},
     "output_type": "execute_result"
    }
   ],
   "source": [
    "df['Block'].value_counts().head()"
   ]
  },
  {
   "cell_type": "code",
   "execution_count": 9,
   "metadata": {},
   "outputs": [
    {
     "data": {
      "text/plain": [
       "T900    750\n",
       "T115    542\n",
       "T138    314\n",
       "T002    185\n",
       "T135    183\n",
       "Name: Trap, dtype: int64"
      ]
     },
     "execution_count": 9,
     "metadata": {},
     "output_type": "execute_result"
    }
   ],
   "source": [
    "df['Trap'].value_counts().head()"
   ]
  },
  {
   "cell_type": "code",
   "execution_count": 10,
   "metadata": {},
   "outputs": [
    {
     "data": {
      "text/plain": [
       "1     2307\n",
       "2     1300\n",
       "50    1019\n",
       "3      896\n",
       "4      593\n",
       "Name: NumMosquitos, dtype: int64"
      ]
     },
     "execution_count": 10,
     "metadata": {},
     "output_type": "execute_result"
    }
   ],
   "source": [
    "df['NumMosquitos'].value_counts().head()"
   ]
  },
  {
   "cell_type": "code",
   "execution_count": 11,
   "metadata": {},
   "outputs": [
    {
     "data": {
      "text/plain": [
       "8    4628\n",
       "9    3980\n",
       "5    1807\n",
       "3      91\n",
       "Name: AddressAccuracy, dtype: int64"
      ]
     },
     "execution_count": 11,
     "metadata": {},
     "output_type": "execute_result"
    }
   ],
   "source": [
    "df['AddressAccuracy'].value_counts()"
   ]
  },
  {
   "cell_type": "code",
   "execution_count": 12,
   "metadata": {},
   "outputs": [
    {
     "data": {
      "text/plain": [
       "1000  W OHARE AIRPORT, Chicago, IL                  750\n",
       "1200  S DOTY AVE, Chicago, IL                       542\n",
       "1000  S STONY ISLAND AVE, Chicago, IL               314\n",
       "4100  N OAK PARK AVE, Chicago, IL                   185\n",
       "4200  W 127TH PL, Chicago, IL                       183\n",
       "2200  N CANNON DR, Chicago, IL                      163\n",
       "2400  E 105TH ST, Chicago, IL                       160\n",
       "7000   W ARMITAGE AVENUE, Chicago, IL               156\n",
       "3700  E 118TH ST, Chicago, IL                       152\n",
       "1100  S ASHLAND AVE, Chicago, IL                    151\n",
       "5200  S KOLMAR, Chicago, IL                         148\n",
       "3500  W 116TH ST, Chicago, IL                       147\n",
       "5000  S CENTRAL AVE, Chicago, IL                    146\n",
       "1100  W ROOSEVELT, Chicago, IL                      146\n",
       "1000  W OHARE, Chicago, IL                          140\n",
       "7000  N MOSELL AVE, Chicago, IL                     139\n",
       "3600  N PITTSBURGH AVE, Chicago, IL                 133\n",
       "1300  S BRANDON, Chicago, IL                        130\n",
       "1300  S TORRENCE AVE, Chicago, IL                   129\n",
       "1000  E 67TH ST, Chicago, IL                        128\n",
       "1000  N CENTRAL PARK DR, Chicago, IL                126\n",
       "4600  N MILWAUKEE AVE, Chicago, IL                  122\n",
       "1700  W 95TH ST, Chicago, IL                        121\n",
       "5800  N WESTERN AVE, Chicago, IL                    117\n",
       "6700  S KEDZIE AVE, Chicago, IL                     116\n",
       "3900  S ASHLAND AVE, Chicago, IL                    115\n",
       "1100  S CALIFORNIA, Chicago, IL                     114\n",
       "4000  E 130TH ST, Chicago, IL                       112\n",
       "1000  S COTTAGE GROVE, Chicago, IL                  112\n",
       "8900  S CARPENTER ST, Chicago, IL                   111\n",
       "2500  W GRAND AVE, Chicago, IL                      110\n",
       "5200  W 63RD ST, Chicago, IL                        109\n",
       "6100  N LEMONT AVE, Chicago, IL                     105\n",
       "6100  W FULLERTON AVE, Chicago, IL                  104\n",
       "3700  S PULASKI RD, Chicago, IL                     104\n",
       "8200  S KOSTNER AVE, Chicago, IL                    103\n",
       "2200  W 51ST ST, Chicago, IL                        103\n",
       "5000  S UNION AVE, Chicago, IL                       98\n",
       "4500  N CAMPBELL AVE, Chicago, IL                    98\n",
       "2800  N FRANCISCO AVE, Chicago, IL                   98\n",
       "1400  N HUMBOLDT DR, Chicago, IL                     97\n",
       "5800  N PULASKI RD, Chicago, IL                      93\n",
       "2500  S MILLARD AVE, Chicago, IL                     93\n",
       "7700  S EBERHART AVE, Chicago, IL                    92\n",
       "1000  S VINCENNES, Chicago, IL                       91\n",
       "1100  S ARTESIAN AVE, Chicago, IL                    91\n",
       "4300  N ASHLAND AVE OVERPASS, Chicago, IL            91\n",
       "3300  W 104TH ST, Chicago, IL                        90\n",
       "5100  N MONT CLARE AVE, Chicago, IL                  87\n",
       "2200  W 113TH ST, Chicago, IL                        86\n",
       "6300  W 64TH ST, Chicago, IL                         86\n",
       "1100  W CHICAGO, Chicago, IL                         85\n",
       "7100  S SOUTH SHORE DR, Chicago, IL                  83\n",
       "2200  W 69TH ST, Chicago, IL                         83\n",
       "1100  S AVENUE L, Chicago, IL                        83\n",
       "3500  W 51ST ST, Chicago, IL                         82\n",
       "9100  W HIGGINS RD, Chicago, IL                      80\n",
       "1700  N PULASKI RD, Chicago, IL                      80\n",
       "6500  E 91ST PL, Chicago, IL                         78\n",
       "6000  W MONTROSE DR, Chicago, IL                     78\n",
       "9000  W GARFIELD BLVD, Chicago, IL                   77\n",
       "3300  N RUTHERFORD AVE, Chicago, IL                  74\n",
       "3700  N KEDVALE AVE, Chicago, IL                     74\n",
       "7900  S CHICAGO AVE, Chicago, IL                     74\n",
       "7500  N OAKLEY AVE, Chicago, IL                      69\n",
       "7200  N OKETO AVE, Chicago, IL                       66\n",
       "1300  N LARAMIE AVE, Chicago, IL                     65\n",
       "3000  W 18TH ST, Chicago, IL                         63\n",
       "1200  W GREENLEAF AVE, Chicago, IL                   63\n",
       "4200  W 65TH ST, Chicago, IL                         62\n",
       "3900  N SPRINGFIELD AVE, Chicago, IL                 62\n",
       "4800  W MONTANA ST, Chicago, IL                      60\n",
       "1700  W ADDISON ST, Chicago, IL                      54\n",
       "2200  W 89TH ST, Chicago, IL                         50\n",
       "1700  N ASHLAND AVE, Chicago, IL                     50\n",
       "7100  N HARLEM AVE, Chicago, IL                      50\n",
       "8900  S MUSKEGON AVE, Chicago, IL                    46\n",
       "5100  W 72ND ST, Chicago, IL                         45\n",
       "3800  E 115TH ST, Chicago, IL                        45\n",
       "4000  S DEARBORN ST, Chicago, IL                     44\n",
       "5800  N RIDGE AVE, Chicago, IL                       42\n",
       "1500  N LONG AVE, Chicago, IL                        41\n",
       "1500  W WEBSTER AVE, Chicago, IL                     35\n",
       "7900  W FOSTER AVE, Chicago, IL                      35\n",
       "6200  N MCCLELLAN AVE, Chicago, IL                   33\n",
       "6400  S STONY ISLAND AVE, Chicago, IL                33\n",
       "1000  W 95TH ST, Chicago, IL                         33\n",
       "1100  S PEORIA ST, Chicago, IL                       32\n",
       "6500  N OAK PARK AVE, Chicago, IL                    31\n",
       "9100  W HIGGINS AVE, Chicago, IL                     31\n",
       "4200  N RICHMOND ST, Chicago, IL                     31\n",
       "7300  S CICERO AVE, Chicago, IL                      30\n",
       "6400  W STRONG ST, Chicago, IL                       30\n",
       "6800  W BELDEN AVE, Chicago, IL                      29\n",
       "5300  N STREETER DR, Chicago, IL                     29\n",
       "1000  S CALIFORNIA AVE, Chicago, IL                  28\n",
       "3000  S HOYNE AVE, Chicago, IL                       27\n",
       "4900  W BALMORAL AVE, Chicago, IL                    27\n",
       "1100  S STATE ST, Chicago, IL                        26\n",
       "9600  S HOYNE AVE, Chicago, IL                       26\n",
       "2000  E 111TH ST, Chicago, IL                        25\n",
       "6000  N AVONDALE AVE, Chicago, IL                    24\n",
       "4200  W 31ST ST, Chicago, IL                         24\n",
       "9800  S AVENUE G, Chicago, IL                        23\n",
       "6200  N MANDELL AVE, Chicago, IL                     23\n",
       "3800  N CALIFORNIA AVE, Chicago, IL                  23\n",
       "5300  W AGATITE AVE, Chicago, IL                     22\n",
       "1800  W FARWELL AVE, Chicago, IL                     22\n",
       "8100  E 91ST ST, Chicago, IL                         22\n",
       "1800  W LELAND AVE, Chicago, IL                      21\n",
       "6600  S KILPATRICK AVE, Chicago, IL                  21\n",
       "2100  N LAWLER AVE, Chicago, IL                      21\n",
       "1300  S MACKINAW, Chicago, IL                        21\n",
       "9300  S DR MARTIN LUTHER KING JR DR, Chicago, IL     21\n",
       "4700  S CORNELL AVE, Chicago, IL                     20\n",
       "5200  S NORDICA, Chicago, IL                         20\n",
       "6100  S MELVINA AVE, Chicago, IL                     19\n",
       "4000  N AUSTIN AVE, Chicago, IL                      18\n",
       "8200  E 138TH ST, Chicago, IL                        17\n",
       "2700  S WESTERN AVE, Chicago, IL                     17\n",
       "2100  N STAVE ST, Chicago, IL                        17\n",
       "3300  E RANDOLPH ST, Chicago, IL                     15\n",
       "4000  N TRIPP AVE, Chicago, IL                       15\n",
       "2200  W PERSHING RD, Chicago, IL                     15\n",
       "2500  S THROOP, Chicago, IL                          15\n",
       "1500  W GRANVILLE AVE, Chicago, IL                   14\n",
       "8100  W 37TH PL., Chicago, IL                        14\n",
       "6000  W ROSCOE ST, Chicago, IL                       14\n",
       "8000  S KEDZIE AVE, Chicago, IL                      13\n",
       "4900  W SUNNYSIDE AVE, Chicago, IL                   12\n",
       "2100  N CANNON DR, Chicago, IL                        9\n",
       "1100  S WALLACE ST, Chicago, IL                       8\n",
       "6500  S RACINE AVE, Chicago, IL                       8\n",
       "3400  W 77TH ST, Chicago, IL                          7\n",
       "9600  S LONGWOOD DR, Chicago, IL                      5\n",
       "5500  S DR MARTIN LUTHER KING JR DR, Chicago, IL      5\n",
       "2900  W 85TH ST, Chicago, IL                          3\n",
       "2100  S HAMLIN AVE, Chicago, IL                       2\n",
       "Name: AddressNumberAndStreet, dtype: int64"
      ]
     },
     "execution_count": 12,
     "metadata": {},
     "output_type": "execute_result"
    }
   ],
   "source": [
    "pd.options.display.max_rows = 138\n",
    "df['AddressNumberAndStreet'].value_counts()"
   ]
  },
  {
   "cell_type": "markdown",
   "metadata": {},
   "source": [
    "**Examining Test Data**"
   ]
  },
  {
   "cell_type": "code",
   "execution_count": 14,
   "metadata": {},
   "outputs": [
    {
     "name": "stdout",
     "output_type": "stream",
     "text": [
      "<class 'pandas.core.frame.DataFrame'>\n",
      "RangeIndex: 116293 entries, 0 to 116292\n",
      "Data columns (total 11 columns):\n",
      "Id                        116293 non-null int64\n",
      "Date                      116293 non-null datetime64[ns]\n",
      "Address                   116293 non-null object\n",
      "Species                   116293 non-null object\n",
      "Block                     116293 non-null int64\n",
      "Street                    116293 non-null object\n",
      "Trap                      116293 non-null object\n",
      "AddressNumberAndStreet    116293 non-null object\n",
      "Latitude                  116293 non-null float64\n",
      "Longitude                 116293 non-null float64\n",
      "AddressAccuracy           116293 non-null int64\n",
      "dtypes: datetime64[ns](1), float64(2), int64(3), object(5)\n",
      "memory usage: 9.8+ MB\n"
     ]
    }
   ],
   "source": [
    "df_t.info()"
   ]
  },
  {
   "cell_type": "code",
   "execution_count": 13,
   "metadata": {},
   "outputs": [
    {
     "data": {
      "text/html": [
       "<div>\n",
       "<style scoped>\n",
       "    .dataframe tbody tr th:only-of-type {\n",
       "        vertical-align: middle;\n",
       "    }\n",
       "\n",
       "    .dataframe tbody tr th {\n",
       "        vertical-align: top;\n",
       "    }\n",
       "\n",
       "    .dataframe thead th {\n",
       "        text-align: right;\n",
       "    }\n",
       "</style>\n",
       "<table border=\"1\" class=\"dataframe\">\n",
       "  <thead>\n",
       "    <tr style=\"text-align: right;\">\n",
       "      <th></th>\n",
       "      <th>Id</th>\n",
       "      <th>Date</th>\n",
       "      <th>Address</th>\n",
       "      <th>Species</th>\n",
       "      <th>Block</th>\n",
       "      <th>Street</th>\n",
       "      <th>Trap</th>\n",
       "      <th>AddressNumberAndStreet</th>\n",
       "      <th>Latitude</th>\n",
       "      <th>Longitude</th>\n",
       "      <th>AddressAccuracy</th>\n",
       "    </tr>\n",
       "  </thead>\n",
       "  <tbody>\n",
       "    <tr>\n",
       "      <th>0</th>\n",
       "      <td>1</td>\n",
       "      <td>2008-06-11</td>\n",
       "      <td>4100 North Oak Park Avenue, Chicago, IL 60634,...</td>\n",
       "      <td>CULEX PIPIENS/RESTUANS</td>\n",
       "      <td>41</td>\n",
       "      <td>N OAK PARK AVE</td>\n",
       "      <td>T002</td>\n",
       "      <td>4100  N OAK PARK AVE, Chicago, IL</td>\n",
       "      <td>41.95469</td>\n",
       "      <td>-87.800991</td>\n",
       "      <td>9</td>\n",
       "    </tr>\n",
       "    <tr>\n",
       "      <th>1</th>\n",
       "      <td>2</td>\n",
       "      <td>2008-06-11</td>\n",
       "      <td>4100 North Oak Park Avenue, Chicago, IL 60634,...</td>\n",
       "      <td>CULEX RESTUANS</td>\n",
       "      <td>41</td>\n",
       "      <td>N OAK PARK AVE</td>\n",
       "      <td>T002</td>\n",
       "      <td>4100  N OAK PARK AVE, Chicago, IL</td>\n",
       "      <td>41.95469</td>\n",
       "      <td>-87.800991</td>\n",
       "      <td>9</td>\n",
       "    </tr>\n",
       "    <tr>\n",
       "      <th>2</th>\n",
       "      <td>3</td>\n",
       "      <td>2008-06-11</td>\n",
       "      <td>4100 North Oak Park Avenue, Chicago, IL 60634,...</td>\n",
       "      <td>CULEX PIPIENS</td>\n",
       "      <td>41</td>\n",
       "      <td>N OAK PARK AVE</td>\n",
       "      <td>T002</td>\n",
       "      <td>4100  N OAK PARK AVE, Chicago, IL</td>\n",
       "      <td>41.95469</td>\n",
       "      <td>-87.800991</td>\n",
       "      <td>9</td>\n",
       "    </tr>\n",
       "    <tr>\n",
       "      <th>3</th>\n",
       "      <td>4</td>\n",
       "      <td>2008-06-11</td>\n",
       "      <td>4100 North Oak Park Avenue, Chicago, IL 60634,...</td>\n",
       "      <td>CULEX SALINARIUS</td>\n",
       "      <td>41</td>\n",
       "      <td>N OAK PARK AVE</td>\n",
       "      <td>T002</td>\n",
       "      <td>4100  N OAK PARK AVE, Chicago, IL</td>\n",
       "      <td>41.95469</td>\n",
       "      <td>-87.800991</td>\n",
       "      <td>9</td>\n",
       "    </tr>\n",
       "    <tr>\n",
       "      <th>4</th>\n",
       "      <td>5</td>\n",
       "      <td>2008-06-11</td>\n",
       "      <td>4100 North Oak Park Avenue, Chicago, IL 60634,...</td>\n",
       "      <td>CULEX TERRITANS</td>\n",
       "      <td>41</td>\n",
       "      <td>N OAK PARK AVE</td>\n",
       "      <td>T002</td>\n",
       "      <td>4100  N OAK PARK AVE, Chicago, IL</td>\n",
       "      <td>41.95469</td>\n",
       "      <td>-87.800991</td>\n",
       "      <td>9</td>\n",
       "    </tr>\n",
       "  </tbody>\n",
       "</table>\n",
       "</div>"
      ],
      "text/plain": [
       "   Id       Date                                            Address  \\\n",
       "0   1 2008-06-11  4100 North Oak Park Avenue, Chicago, IL 60634,...   \n",
       "1   2 2008-06-11  4100 North Oak Park Avenue, Chicago, IL 60634,...   \n",
       "2   3 2008-06-11  4100 North Oak Park Avenue, Chicago, IL 60634,...   \n",
       "3   4 2008-06-11  4100 North Oak Park Avenue, Chicago, IL 60634,...   \n",
       "4   5 2008-06-11  4100 North Oak Park Avenue, Chicago, IL 60634,...   \n",
       "\n",
       "                  Species  Block           Street  Trap  \\\n",
       "0  CULEX PIPIENS/RESTUANS     41   N OAK PARK AVE  T002   \n",
       "1          CULEX RESTUANS     41   N OAK PARK AVE  T002   \n",
       "2           CULEX PIPIENS     41   N OAK PARK AVE  T002   \n",
       "3        CULEX SALINARIUS     41   N OAK PARK AVE  T002   \n",
       "4         CULEX TERRITANS     41   N OAK PARK AVE  T002   \n",
       "\n",
       "              AddressNumberAndStreet  Latitude  Longitude  AddressAccuracy  \n",
       "0  4100  N OAK PARK AVE, Chicago, IL  41.95469 -87.800991                9  \n",
       "1  4100  N OAK PARK AVE, Chicago, IL  41.95469 -87.800991                9  \n",
       "2  4100  N OAK PARK AVE, Chicago, IL  41.95469 -87.800991                9  \n",
       "3  4100  N OAK PARK AVE, Chicago, IL  41.95469 -87.800991                9  \n",
       "4  4100  N OAK PARK AVE, Chicago, IL  41.95469 -87.800991                9  "
      ]
     },
     "execution_count": 13,
     "metadata": {},
     "output_type": "execute_result"
    }
   ],
   "source": [
    "df_t.head()"
   ]
  }
 ],
 "metadata": {
  "kernelspec": {
   "display_name": "Python 3",
   "language": "python",
   "name": "python3"
  },
  "language_info": {
   "codemirror_mode": {
    "name": "ipython",
    "version": 3
   },
   "file_extension": ".py",
   "mimetype": "text/x-python",
   "name": "python",
   "nbconvert_exporter": "python",
   "pygments_lexer": "ipython3",
   "version": "3.6.5"
  }
 },
 "nbformat": 4,
 "nbformat_minor": 2
}
