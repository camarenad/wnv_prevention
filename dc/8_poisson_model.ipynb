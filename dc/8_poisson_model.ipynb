{
 "cells": [
  {
   "cell_type": "markdown",
   "metadata": {},
   "source": [
    "# Poisson GLM\n"
   ]
  },
  {
   "cell_type": "code",
   "execution_count": 26,
   "metadata": {},
   "outputs": [],
   "source": [
    "%matplotlib inline\n",
    "\n",
    "from __future__ import print_function\n",
    "import numpy as np\n",
    "import statsmodels.api as sm\n",
    "from scipy import stats\n",
    "from matplotlib import pyplot as plt\n",
    "import pandas as pd\n",
    "import pickle\n",
    "from sklearn.preprocessing import StandardScaler"
   ]
  },
  {
   "cell_type": "code",
   "execution_count": 27,
   "metadata": {},
   "outputs": [],
   "source": [
    "X_train = pd.read_pickle('../assets/X_train.pkl')\n",
    "X_test = pd.read_pickle('../assets/X_test.pkl')\n",
    "y_train = pd.read_pickle('../assets/y_train.pkl')\n",
    "y_test = pd.read_pickle('../assets/y_test.pkl')"
   ]
  },
  {
   "cell_type": "code",
   "execution_count": 28,
   "metadata": {},
   "outputs": [],
   "source": [
    "X_train = sm.add_constant(X_train, prepend=False)"
   ]
  },
  {
   "cell_type": "code",
   "execution_count": 29,
   "metadata": {},
   "outputs": [],
   "source": [
    "# ss = StandardScaler()"
   ]
  },
  {
   "cell_type": "code",
   "execution_count": 30,
   "metadata": {},
   "outputs": [],
   "source": [
    "# X_train = ss.fit_transform(X_train)"
   ]
  },
  {
   "cell_type": "code",
   "execution_count": 31,
   "metadata": {},
   "outputs": [
    {
     "name": "stdout",
     "output_type": "stream",
     "text": [
      "                 Generalized Linear Model Regression Results                  \n",
      "==============================================================================\n",
      "Dep. Variable:             WnvPresent   No. Observations:                 6483\n",
      "Model:                            GLM   Df Residuals:                     6452\n",
      "Model Family:                 Poisson   Df Model:                           30\n",
      "Link Function:                    log   Scale:                          1.0000\n",
      "Method:                          IRLS   Log-Likelihood:                -855.61\n",
      "Date:                Mon, 24 Sep 2018   Deviance:                       1189.2\n",
      "Time:                        10:48:35   Pearson chi2:                 5.14e+03\n",
      "No. Iterations:                    23   Covariance Type:             nonrobust\n",
      "==================================================================================================\n",
      "                                     coef    std err          z      P>|z|      [0.025      0.975]\n",
      "--------------------------------------------------------------------------------------------------\n",
      "Day_length                        -0.0008      0.000     -2.794      0.005      -0.001      -0.000\n",
      "Tmax                               0.6902      0.270      2.558      0.011       0.161       1.219\n",
      "Tmin                               0.6455      0.259      2.492      0.013       0.138       1.153\n",
      "Tavg                              -3.7244    131.314     -0.028      0.977    -261.095     253.646\n",
      "ResultSpeed                        0.0301      0.075      0.401      0.688      -0.117       0.177\n",
      "ResultDir                         -0.0225      0.013     -1.744      0.081      -0.048       0.003\n",
      "AvgSpeed                           0.0411      0.099      0.413      0.679      -0.154       0.236\n",
      "Sunset                             0.0012      0.009      0.132      0.895      -0.017       0.020\n",
      "Heat                              -2.5630    131.313     -0.020      0.984    -259.933     254.807\n",
      "Depart                            -0.1510      0.133     -1.137      0.256      -0.411       0.109\n",
      "DewPoint                          -7.2521    323.988     -0.022      0.982    -642.256     627.752\n",
      "Cool                               2.5306    131.313      0.019      0.985    -254.839     259.900\n",
      "PrecipTotal                       -0.1150      0.374     -0.308      0.758      -0.848       0.618\n",
      "StnPressure                        0.8723      1.214      0.718      0.473      -1.508       3.252\n",
      "Latitude                          -3.0649      0.777     -3.946      0.000      -4.587      -1.543\n",
      "Longitude                         -7.3207      0.995     -7.361      0.000      -9.270      -5.372\n",
      "Month                             -0.8168      0.375     -2.176      0.030      -1.553      -0.081\n",
      "Day_length_exp                     0.0004      0.000      3.113      0.002       0.000       0.001\n",
      "Tavg_shift                         0.3210      0.181      1.777      0.076      -0.033       0.675\n",
      "Heat_exp                          -1.9624      0.597     -3.286      0.001      -3.133      -0.792\n",
      "Cool_shift                         0.2152      0.138      1.556      0.120      -0.056       0.486\n",
      "Tmax_shift                        -0.0651      0.087     -0.747      0.455      -0.236       0.106\n",
      "Tmin_shift                        -0.0249      0.058     -0.429      0.668      -0.139       0.089\n",
      "Depart_shift                      -0.3712      0.106     -3.516      0.000      -0.578      -0.164\n",
      "ResultSpeed_shift                 -0.0860      0.038     -2.279      0.023      -0.160      -0.012\n",
      "ResultDir_exp                     -0.1681      0.139     -1.209      0.227      -0.441       0.104\n",
      "PrecipTotal_exp                   -0.8207      3.473     -0.236      0.813      -7.627       5.986\n",
      "Species_CULEX ERRATICUS          4.43e-15   3.67e-11      0.000      1.000   -7.19e-11    7.19e-11\n",
      "Species_CULEX PIPIENS             11.5890   2.59e+04      0.000      1.000   -5.07e+04    5.07e+04\n",
      "Species_CULEX PIPIENS/RESTUANS    11.4696   2.59e+04      0.000      1.000   -5.07e+04    5.07e+04\n",
      "Species_CULEX RESTUANS            10.8022   2.59e+04      0.000      1.000   -5.07e+04    5.07e+04\n",
      "Species_CULEX SALINARIUS         -11.2834   3.56e+04     -0.000      1.000   -6.97e+04    6.97e+04\n",
      "Species_CULEX TARSALIS           -11.2150   1.26e+05   -8.9e-05      1.000   -2.47e+05    2.47e+05\n",
      "Species_CULEX TERRITANS          -11.4981   3.02e+04     -0.000      1.000   -5.93e+04    5.92e+04\n",
      "==================================================================================================\n"
     ]
    }
   ],
   "source": [
    "glm_poisson = sm.GLM(y_train, X_train, family=sm.families.Poisson())\n",
    "res = glm_poisson.fit()\n",
    "print(res.summary())"
   ]
  },
  {
   "cell_type": "code",
   "execution_count": 32,
   "metadata": {},
   "outputs": [
    {
     "name": "stdout",
     "output_type": "stream",
     "text": [
      "T-values:  Day_length                       -2.794450\n",
      "Tmax                              2.558324\n",
      "Tmin                              2.491671\n",
      "Tavg                             -0.028362\n",
      "ResultSpeed                       0.401234\n",
      "ResultDir                        -1.744007\n",
      "AvgSpeed                          0.413214\n",
      "Sunset                            0.131645\n",
      "Heat                             -0.019518\n",
      "Depart                           -1.136607\n",
      "DewPoint                         -0.022384\n",
      "Cool                              0.019272\n",
      "PrecipTotal                      -0.307709\n",
      "StnPressure                       0.718403\n",
      "Latitude                         -3.946284\n",
      "Longitude                        -7.361196\n",
      "Month                            -2.175948\n",
      "Day_length_exp                    3.112754\n",
      "Tavg_shift                        1.776634\n",
      "Heat_exp                         -3.285568\n",
      "Cool_shift                        1.556053\n",
      "Tmax_shift                       -0.747323\n",
      "Tmin_shift                       -0.428626\n",
      "Depart_shift                     -3.515711\n",
      "ResultSpeed_shift                -2.279192\n",
      "ResultDir_exp                    -1.209150\n",
      "PrecipTotal_exp                  -0.236309\n",
      "Species_CULEX ERRATICUS           0.000121\n",
      "Species_CULEX PIPIENS             0.000448\n",
      "Species_CULEX PIPIENS/RESTUANS    0.000444\n",
      "Species_CULEX RESTUANS            0.000418\n",
      "Species_CULEX SALINARIUS         -0.000317\n",
      "Species_CULEX TARSALIS           -0.000089\n",
      "Species_CULEX TERRITANS          -0.000380\n",
      "dtype: float64\n"
     ]
    }
   ],
   "source": [
    "print('T-values: ', res.tvalues)"
   ]
  },
  {
   "cell_type": "code",
   "execution_count": 33,
   "metadata": {},
   "outputs": [
    {
     "data": {
      "image/png": "[encoded data removed]",
      "text/plain": [
       "<Figure size 432x288 with 1 Axes>"
      ]
     },
     "metadata": {},
     "output_type": "display_data"
    }
   ],
   "source": [
    "from scipy import stats\n",
    "\n",
    "fig, ax = plt.subplots()\n",
    "\n",
    "resid = res.resid_deviance.copy()\n",
    "resid_std = stats.zscore(resid)\n",
    "ax.hist(resid_std, bins=25)\n",
    "ax.set_title('Histogram of standardized deviance residuals');"
   ]
  },
  {
   "cell_type": "code",
   "execution_count": 34,
   "metadata": {},
   "outputs": [],
   "source": [
    "with open('../assets/poisson_model','wb+') as f:\n",
    "    pickle.dump(res,f)"
   ]
  },
  {
   "cell_type": "code",
   "execution_count": null,
   "metadata": {},
   "outputs": [],
   "source": []
  },
  {
   "cell_type": "code",
   "execution_count": null,
   "metadata": {},
   "outputs": [],
   "source": []
  }
 ],
 "metadata": {
  "kernelspec": {
   "display_name": "Python 3",
   "language": "python",
   "name": "python3"
  },
  "language_info": {
   "codemirror_mode": {
    "name": "ipython",
    "version": 3
   },
   "file_extension": ".py",
   "mimetype": "text/x-python",
   "name": "python",
   "nbconvert_exporter": "python",
   "pygments_lexer": "ipython3",
   "version": "3.6.5"
  }
 },
 "nbformat": 4,
 "nbformat_minor": 2
}
