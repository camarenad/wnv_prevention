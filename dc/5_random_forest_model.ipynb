{
 "cells": [
  {
   "cell_type": "markdown",
   "metadata": {},
   "source": [
    "# Random Forest\n",
    "A Random Forest Classifier is a decision based ensemble method that uses a series of decision trees to determine the class of our input variables. It works by selecting a random set of features at each node then averaging them together. This helps reduce overfitting by not emphasizing any one particular feature over another. We felt this was our next best choice after Logistic Regression because decision trees make no assumptions about the spread of the data and are very quick to train. Though this was not our production model we did spend a good amount of time searching through hyperparameters to find an optimum fit. Our results with this modelexhibited overfitting with a low amount of\n",
    "predictive power on unseen data.\n"
   ]
  },
  {
   "cell_type": "code",
   "execution_count": 17,
   "metadata": {},
   "outputs": [],
   "source": [
    "import numpy as np\n",
    "import pandas as pd\n",
    "import pickle\n",
    "from sklearn.preprocessing import StandardScaler\n",
    "from sklearn.pipeline import Pipeline\n",
    "from sklearn.model_selection import GridSearchCV, TimeSeriesSplit\n",
    "from sklearn.ensemble import RandomForestClassifier"
   ]
  },
  {
   "cell_type": "code",
   "execution_count": null,
   "metadata": {},
   "outputs": [],
   "source": []
  },
  {
   "cell_type": "markdown",
   "metadata": {},
   "source": [
    "# Importing the Time Series split assets"
   ]
  },
  {
   "cell_type": "code",
   "execution_count": 18,
   "metadata": {},
   "outputs": [],
   "source": [
    "X_train = pd.read_pickle('../assets/X_train.pkl')\n",
    "X_test = pd.read_pickle('../assets/X_test.pkl')\n",
    "y_train = pd.read_pickle('../assets/y_train.pkl')\n",
    "y_test = pd.read_pickle('../assets/y_test.pkl')"
   ]
  },
  {
   "cell_type": "code",
   "execution_count": 19,
   "metadata": {},
   "outputs": [
    {
     "data": {
      "text/html": [
       "<div>\n",
       "<style scoped>\n",
       "    .dataframe tbody tr th:only-of-type {\n",
       "        vertical-align: middle;\n",
       "    }\n",
       "\n",
       "    .dataframe tbody tr th {\n",
       "        vertical-align: top;\n",
       "    }\n",
       "\n",
       "    .dataframe thead th {\n",
       "        text-align: right;\n",
       "    }\n",
       "</style>\n",
       "<table border=\"1\" class=\"dataframe\">\n",
       "  <thead>\n",
       "    <tr style=\"text-align: right;\">\n",
       "      <th></th>\n",
       "      <th>Day_length</th>\n",
       "      <th>Tmax</th>\n",
       "      <th>Tmin</th>\n",
       "      <th>Tavg</th>\n",
       "      <th>ResultSpeed</th>\n",
       "      <th>ResultDir</th>\n",
       "      <th>AvgSpeed</th>\n",
       "      <th>Sunset</th>\n",
       "      <th>Sunrise</th>\n",
       "      <th>Heat</th>\n",
       "      <th>...</th>\n",
       "      <th>ResultDir_exp</th>\n",
       "      <th>PrecipTotal_exp</th>\n",
       "      <th>WetBulb_exp</th>\n",
       "      <th>Species_CULEX ERRATICUS</th>\n",
       "      <th>Species_CULEX PIPIENS</th>\n",
       "      <th>Species_CULEX PIPIENS/RESTUANS</th>\n",
       "      <th>Species_CULEX RESTUANS</th>\n",
       "      <th>Species_CULEX SALINARIUS</th>\n",
       "      <th>Species_CULEX TARSALIS</th>\n",
       "      <th>Species_CULEX TERRITANS</th>\n",
       "    </tr>\n",
       "  </thead>\n",
       "  <tbody>\n",
       "    <tr>\n",
       "      <th>0</th>\n",
       "      <td>53760</td>\n",
       "      <td>88.0</td>\n",
       "      <td>62.5</td>\n",
       "      <td>75.5</td>\n",
       "      <td>5.8</td>\n",
       "      <td>17.0</td>\n",
       "      <td>6.95</td>\n",
       "      <td>1917</td>\n",
       "      <td>421</td>\n",
       "      <td>0.0</td>\n",
       "      <td>...</td>\n",
       "      <td>17.0</td>\n",
       "      <td>0.0</td>\n",
       "      <td>65.5</td>\n",
       "      <td>0</td>\n",
       "      <td>0</td>\n",
       "      <td>1</td>\n",
       "      <td>0</td>\n",
       "      <td>0</td>\n",
       "      <td>0</td>\n",
       "      <td>0</td>\n",
       "    </tr>\n",
       "    <tr>\n",
       "      <th>1</th>\n",
       "      <td>53760</td>\n",
       "      <td>88.0</td>\n",
       "      <td>62.5</td>\n",
       "      <td>75.5</td>\n",
       "      <td>5.8</td>\n",
       "      <td>17.0</td>\n",
       "      <td>6.95</td>\n",
       "      <td>1917</td>\n",
       "      <td>421</td>\n",
       "      <td>0.0</td>\n",
       "      <td>...</td>\n",
       "      <td>17.0</td>\n",
       "      <td>0.0</td>\n",
       "      <td>65.5</td>\n",
       "      <td>0</td>\n",
       "      <td>0</td>\n",
       "      <td>0</td>\n",
       "      <td>1</td>\n",
       "      <td>0</td>\n",
       "      <td>0</td>\n",
       "      <td>0</td>\n",
       "    </tr>\n",
       "    <tr>\n",
       "      <th>2</th>\n",
       "      <td>53760</td>\n",
       "      <td>88.0</td>\n",
       "      <td>62.5</td>\n",
       "      <td>75.5</td>\n",
       "      <td>5.8</td>\n",
       "      <td>17.0</td>\n",
       "      <td>6.95</td>\n",
       "      <td>1917</td>\n",
       "      <td>421</td>\n",
       "      <td>0.0</td>\n",
       "      <td>...</td>\n",
       "      <td>17.0</td>\n",
       "      <td>0.0</td>\n",
       "      <td>65.5</td>\n",
       "      <td>0</td>\n",
       "      <td>0</td>\n",
       "      <td>0</td>\n",
       "      <td>1</td>\n",
       "      <td>0</td>\n",
       "      <td>0</td>\n",
       "      <td>0</td>\n",
       "    </tr>\n",
       "    <tr>\n",
       "      <th>3</th>\n",
       "      <td>53760</td>\n",
       "      <td>88.0</td>\n",
       "      <td>62.5</td>\n",
       "      <td>75.5</td>\n",
       "      <td>5.8</td>\n",
       "      <td>17.0</td>\n",
       "      <td>6.95</td>\n",
       "      <td>1917</td>\n",
       "      <td>421</td>\n",
       "      <td>0.0</td>\n",
       "      <td>...</td>\n",
       "      <td>17.0</td>\n",
       "      <td>0.0</td>\n",
       "      <td>65.5</td>\n",
       "      <td>0</td>\n",
       "      <td>0</td>\n",
       "      <td>1</td>\n",
       "      <td>0</td>\n",
       "      <td>0</td>\n",
       "      <td>0</td>\n",
       "      <td>0</td>\n",
       "    </tr>\n",
       "    <tr>\n",
       "      <th>4</th>\n",
       "      <td>53760</td>\n",
       "      <td>88.0</td>\n",
       "      <td>62.5</td>\n",
       "      <td>75.5</td>\n",
       "      <td>5.8</td>\n",
       "      <td>17.0</td>\n",
       "      <td>6.95</td>\n",
       "      <td>1917</td>\n",
       "      <td>421</td>\n",
       "      <td>0.0</td>\n",
       "      <td>...</td>\n",
       "      <td>17.0</td>\n",
       "      <td>0.0</td>\n",
       "      <td>65.5</td>\n",
       "      <td>0</td>\n",
       "      <td>0</td>\n",
       "      <td>0</td>\n",
       "      <td>1</td>\n",
       "      <td>0</td>\n",
       "      <td>0</td>\n",
       "      <td>0</td>\n",
       "    </tr>\n",
       "  </tbody>\n",
       "</table>\n",
       "<p>5 rows × 37 columns</p>\n",
       "</div>"
      ],
      "text/plain": [
       "   Day_length  Tmax  Tmin  Tavg  ResultSpeed  ResultDir  AvgSpeed  Sunset  \\\n",
       "0       53760  88.0  62.5  75.5          5.8       17.0      6.95    1917   \n",
       "1       53760  88.0  62.5  75.5          5.8       17.0      6.95    1917   \n",
       "2       53760  88.0  62.5  75.5          5.8       17.0      6.95    1917   \n",
       "3       53760  88.0  62.5  75.5          5.8       17.0      6.95    1917   \n",
       "4       53760  88.0  62.5  75.5          5.8       17.0      6.95    1917   \n",
       "\n",
       "   Sunrise  Heat           ...             ResultDir_exp  PrecipTotal_exp  \\\n",
       "0      421   0.0           ...                      17.0              0.0   \n",
       "1      421   0.0           ...                      17.0              0.0   \n",
       "2      421   0.0           ...                      17.0              0.0   \n",
       "3      421   0.0           ...                      17.0              0.0   \n",
       "4      421   0.0           ...                      17.0              0.0   \n",
       "\n",
       "   WetBulb_exp  Species_CULEX ERRATICUS  Species_CULEX PIPIENS  \\\n",
       "0         65.5                        0                      0   \n",
       "1         65.5                        0                      0   \n",
       "2         65.5                        0                      0   \n",
       "3         65.5                        0                      0   \n",
       "4         65.5                        0                      0   \n",
       "\n",
       "   Species_CULEX PIPIENS/RESTUANS  Species_CULEX RESTUANS  \\\n",
       "0                               1                       0   \n",
       "1                               0                       1   \n",
       "2                               0                       1   \n",
       "3                               1                       0   \n",
       "4                               0                       1   \n",
       "\n",
       "   Species_CULEX SALINARIUS  Species_CULEX TARSALIS  Species_CULEX TERRITANS  \n",
       "0                         0                       0                        0  \n",
       "1                         0                       0                        0  \n",
       "2                         0                       0                        0  \n",
       "3                         0                       0                        0  \n",
       "4                         0                       0                        0  \n",
       "\n",
       "[5 rows x 37 columns]"
      ]
     },
     "execution_count": 19,
     "metadata": {},
     "output_type": "execute_result"
    }
   ],
   "source": [
    "X_train.head()"
   ]
  },
  {
   "cell_type": "markdown",
   "metadata": {},
   "source": [
    "# Running a pipeline\n",
    "With a standard scaler and a Random Forest Classifier"
   ]
  },
  {
   "cell_type": "code",
   "execution_count": 20,
   "metadata": {},
   "outputs": [],
   "source": [
    "pipe = Pipeline([\n",
    "    ('ss',StandardScaler()),\n",
    "    ('rfc',RandomForestClassifier(n_jobs=3,random_state=42))   \n",
    "])"
   ]
  },
  {
   "cell_type": "markdown",
   "metadata": {},
   "source": [
    "# Setting the range of hyperparameters "
   ]
  },
  {
   "cell_type": "code",
   "execution_count": 21,
   "metadata": {},
   "outputs": [],
   "source": [
    "param_grid =  {\n",
    "    'rfc__n_estimators': [100,500,1000],\n",
    "    'rfc__min_samples_split': [2, 7, 10, 20]\n",
    "        \n",
    "}"
   ]
  },
  {
   "cell_type": "markdown",
   "metadata": {},
   "source": [
    "# Gridsearching with  timeseries split\n",
    "We used roc_auc as our scoring metric paired with a timeseries split."
   ]
  },
  {
   "cell_type": "code",
   "execution_count": 22,
   "metadata": {},
   "outputs": [],
   "source": [
    "gs = GridSearchCV(pipe, param_grid=param_grid,verbose=1,scoring='roc_auc', cv=TimeSeriesSplit())"
   ]
  },
  {
   "cell_type": "code",
   "execution_count": 23,
   "metadata": {},
   "outputs": [
    {
     "name": "stdout",
     "output_type": "stream",
     "text": [
      "Fitting 3 folds for each of 12 candidates, totalling 36 fits\n"
     ]
    },
    {
     "name": "stderr",
     "output_type": "stream",
     "text": [
      "[Parallel(n_jobs=1)]: Done  36 out of  36 | elapsed:   47.9s finished\n"
     ]
    },
    {
     "data": {
      "text/plain": [
       "GridSearchCV(cv=TimeSeriesSplit(max_train_size=None, n_splits=3),\n",
       "       error_score='raise',\n",
       "       estimator=Pipeline(memory=None,\n",
       "     steps=[('ss', StandardScaler(copy=True, with_mean=True, with_std=True)), ('rfc', RandomForestClassifier(bootstrap=True, class_weight=None, criterion='gini',\n",
       "            max_depth=None, max_features='auto', max_leaf_nodes=None,\n",
       "            min_impurity_decrease=0....timators=10, n_jobs=3,\n",
       "            oob_score=False, random_state=42, verbose=0, warm_start=False))]),\n",
       "       fit_params=None, iid=True, n_jobs=1,\n",
       "       param_grid={'rfc__n_estimators': [100, 500, 1000], 'rfc__min_samples_split': [2, 7, 10, 20]},\n",
       "       pre_dispatch='2*n_jobs', refit=True, return_train_score='warn',\n",
       "       scoring='roc_auc', verbose=1)"
      ]
     },
     "execution_count": 23,
     "metadata": {},
     "output_type": "execute_result"
    }
   ],
   "source": [
    "gs.fit(X_train,y_train)"
   ]
  },
  {
   "cell_type": "markdown",
   "metadata": {},
   "source": [
    "# Scoring\n",
    "Our data was routinely overfit with this model. "
   ]
  },
  {
   "cell_type": "code",
   "execution_count": 24,
   "metadata": {},
   "outputs": [
    {
     "data": {
      "text/plain": [
       "0.9889989913432868"
      ]
     },
     "execution_count": 24,
     "metadata": {},
     "output_type": "execute_result"
    }
   ],
   "source": [
    "gs.score(X_train,y_train)"
   ]
  },
  {
   "cell_type": "code",
   "execution_count": 25,
   "metadata": {
    "scrolled": true
   },
   "outputs": [
    {
     "data": {
      "text/plain": [
       "0.7533411993440045"
      ]
     },
     "execution_count": 25,
     "metadata": {},
     "output_type": "execute_result"
    }
   ],
   "source": [
    "gs.score(X_test,y_test)"
   ]
  },
  {
   "cell_type": "code",
   "execution_count": 26,
   "metadata": {},
   "outputs": [],
   "source": [
    "X_train_preds = gs.predict(X_train)"
   ]
  },
  {
   "cell_type": "code",
   "execution_count": 27,
   "metadata": {},
   "outputs": [],
   "source": [
    "preds = pd.DataFrame({\n",
    "    \"preds\":X_train_preds,\n",
    "    \"truth\":y_train\n",
    "})\n"
   ]
  },
  {
   "cell_type": "code",
   "execution_count": 28,
   "metadata": {},
   "outputs": [
    {
     "data": {
      "text/plain": [
       "preds     37\n",
       "truth    261\n",
       "dtype: int64"
      ]
     },
     "execution_count": 28,
     "metadata": {},
     "output_type": "execute_result"
    }
   ],
   "source": [
    "preds.sum()"
   ]
  },
  {
   "cell_type": "code",
   "execution_count": 29,
   "metadata": {},
   "outputs": [
    {
     "data": {
      "text/plain": [
       "{'rfc__min_samples_split': 20, 'rfc__n_estimators': 1000}"
      ]
     },
     "execution_count": 29,
     "metadata": {},
     "output_type": "execute_result"
    }
   ],
   "source": [
    "gs.best_params_"
   ]
  },
  {
   "cell_type": "code",
   "execution_count": 30,
   "metadata": {},
   "outputs": [],
   "source": [
    "# with open('../assets/random_forest_model_0924_1247.pkl','wb+') as f:\n",
    "#     pickle.dump(gs,f)"
   ]
  },
  {
   "cell_type": "markdown",
   "metadata": {},
   "source": [
    "# Feature importances\n",
    "The first 7 features account for most of the information in our model."
   ]
  },
  {
   "cell_type": "code",
   "execution_count": 31,
   "metadata": {},
   "outputs": [],
   "source": [
    "feat_importances = pd.DataFrame(gs.best_estimator_.named_steps['rfc'].feature_importances_, X_train.columns, columns=['importance'])"
   ]
  },
  {
   "cell_type": "code",
   "execution_count": 32,
   "metadata": {},
   "outputs": [
    {
     "data": {
      "text/html": [
       "<div>\n",
       "<style scoped>\n",
       "    .dataframe tbody tr th:only-of-type {\n",
       "        vertical-align: middle;\n",
       "    }\n",
       "\n",
       "    .dataframe tbody tr th {\n",
       "        vertical-align: top;\n",
       "    }\n",
       "\n",
       "    .dataframe thead th {\n",
       "        text-align: right;\n",
       "    }\n",
       "</style>\n",
       "<table border=\"1\" class=\"dataframe\">\n",
       "  <thead>\n",
       "    <tr style=\"text-align: right;\">\n",
       "      <th></th>\n",
       "      <th>importance</th>\n",
       "    </tr>\n",
       "  </thead>\n",
       "  <tbody>\n",
       "    <tr>\n",
       "      <th>Heat_exp</th>\n",
       "      <td>0.123869</td>\n",
       "    </tr>\n",
       "    <tr>\n",
       "      <th>Longitude</th>\n",
       "      <td>0.116530</td>\n",
       "    </tr>\n",
       "    <tr>\n",
       "      <th>PrecipTotal_exp</th>\n",
       "      <td>0.113432</td>\n",
       "    </tr>\n",
       "    <tr>\n",
       "      <th>WetBulb_exp</th>\n",
       "      <td>0.113345</td>\n",
       "    </tr>\n",
       "    <tr>\n",
       "      <th>Day_length_exp</th>\n",
       "      <td>0.100534</td>\n",
       "    </tr>\n",
       "    <tr>\n",
       "      <th>ResultDir_exp</th>\n",
       "      <td>0.096082</td>\n",
       "    </tr>\n",
       "    <tr>\n",
       "      <th>Latitude</th>\n",
       "      <td>0.086649</td>\n",
       "    </tr>\n",
       "    <tr>\n",
       "      <th>Sunrise</th>\n",
       "      <td>0.016541</td>\n",
       "    </tr>\n",
       "    <tr>\n",
       "      <th>ResultDir</th>\n",
       "      <td>0.015922</td>\n",
       "    </tr>\n",
       "    <tr>\n",
       "      <th>ResultSpeed_shift</th>\n",
       "      <td>0.015830</td>\n",
       "    </tr>\n",
       "    <tr>\n",
       "      <th>Sunset</th>\n",
       "      <td>0.015717</td>\n",
       "    </tr>\n",
       "    <tr>\n",
       "      <th>Day_length</th>\n",
       "      <td>0.015609</td>\n",
       "    </tr>\n",
       "    <tr>\n",
       "      <th>WetBulb</th>\n",
       "      <td>0.014343</td>\n",
       "    </tr>\n",
       "    <tr>\n",
       "      <th>Species_CULEX PIPIENS</th>\n",
       "      <td>0.014281</td>\n",
       "    </tr>\n",
       "    <tr>\n",
       "      <th>Tmin_shift</th>\n",
       "      <td>0.012778</td>\n",
       "    </tr>\n",
       "    <tr>\n",
       "      <th>Tavg_shift</th>\n",
       "      <td>0.009619</td>\n",
       "    </tr>\n",
       "    <tr>\n",
       "      <th>Depart_shift</th>\n",
       "      <td>0.009316</td>\n",
       "    </tr>\n",
       "    <tr>\n",
       "      <th>Species_CULEX PIPIENS/RESTUANS</th>\n",
       "      <td>0.009251</td>\n",
       "    </tr>\n",
       "    <tr>\n",
       "      <th>Tmax_shift</th>\n",
       "      <td>0.009232</td>\n",
       "    </tr>\n",
       "    <tr>\n",
       "      <th>Cool_shift</th>\n",
       "      <td>0.009203</td>\n",
       "    </tr>\n",
       "    <tr>\n",
       "      <th>AvgSpeed</th>\n",
       "      <td>0.008982</td>\n",
       "    </tr>\n",
       "    <tr>\n",
       "      <th>Tmax</th>\n",
       "      <td>0.008784</td>\n",
       "    </tr>\n",
       "    <tr>\n",
       "      <th>Tmin</th>\n",
       "      <td>0.008365</td>\n",
       "    </tr>\n",
       "    <tr>\n",
       "      <th>Tavg</th>\n",
       "      <td>0.007990</td>\n",
       "    </tr>\n",
       "    <tr>\n",
       "      <th>StnPressure</th>\n",
       "      <td>0.007957</td>\n",
       "    </tr>\n",
       "    <tr>\n",
       "      <th>Cool</th>\n",
       "      <td>0.007908</td>\n",
       "    </tr>\n",
       "    <tr>\n",
       "      <th>ResultSpeed</th>\n",
       "      <td>0.007400</td>\n",
       "    </tr>\n",
       "    <tr>\n",
       "      <th>Species_CULEX RESTUANS</th>\n",
       "      <td>0.006225</td>\n",
       "    </tr>\n",
       "    <tr>\n",
       "      <th>Month</th>\n",
       "      <td>0.005507</td>\n",
       "    </tr>\n",
       "    <tr>\n",
       "      <th>Depart</th>\n",
       "      <td>0.005494</td>\n",
       "    </tr>\n",
       "    <tr>\n",
       "      <th>PrecipTotal</th>\n",
       "      <td>0.005256</td>\n",
       "    </tr>\n",
       "    <tr>\n",
       "      <th>Species_CULEX TERRITANS</th>\n",
       "      <td>0.001590</td>\n",
       "    </tr>\n",
       "    <tr>\n",
       "      <th>Heat</th>\n",
       "      <td>0.000299</td>\n",
       "    </tr>\n",
       "    <tr>\n",
       "      <th>Species_CULEX SALINARIUS</th>\n",
       "      <td>0.000160</td>\n",
       "    </tr>\n",
       "    <tr>\n",
       "      <th>Species_CULEX TARSALIS</th>\n",
       "      <td>0.000002</td>\n",
       "    </tr>\n",
       "    <tr>\n",
       "      <th>Species_CULEX ERRATICUS</th>\n",
       "      <td>0.000000</td>\n",
       "    </tr>\n",
       "    <tr>\n",
       "      <th>DewPoint</th>\n",
       "      <td>0.000000</td>\n",
       "    </tr>\n",
       "  </tbody>\n",
       "</table>\n",
       "</div>"
      ],
      "text/plain": [
       "                                importance\n",
       "Heat_exp                          0.123869\n",
       "Longitude                         0.116530\n",
       "PrecipTotal_exp                   0.113432\n",
       "WetBulb_exp                       0.113345\n",
       "Day_length_exp                    0.100534\n",
       "ResultDir_exp                     0.096082\n",
       "Latitude                          0.086649\n",
       "Sunrise                           0.016541\n",
       "ResultDir                         0.015922\n",
       "ResultSpeed_shift                 0.015830\n",
       "Sunset                            0.015717\n",
       "Day_length                        0.015609\n",
       "WetBulb                           0.014343\n",
       "Species_CULEX PIPIENS             0.014281\n",
       "Tmin_shift                        0.012778\n",
       "Tavg_shift                        0.009619\n",
       "Depart_shift                      0.009316\n",
       "Species_CULEX PIPIENS/RESTUANS    0.009251\n",
       "Tmax_shift                        0.009232\n",
       "Cool_shift                        0.009203\n",
       "AvgSpeed                          0.008982\n",
       "Tmax                              0.008784\n",
       "Tmin                              0.008365\n",
       "Tavg                              0.007990\n",
       "StnPressure                       0.007957\n",
       "Cool                              0.007908\n",
       "ResultSpeed                       0.007400\n",
       "Species_CULEX RESTUANS            0.006225\n",
       "Month                             0.005507\n",
       "Depart                            0.005494\n",
       "PrecipTotal                       0.005256\n",
       "Species_CULEX TERRITANS           0.001590\n",
       "Heat                              0.000299\n",
       "Species_CULEX SALINARIUS          0.000160\n",
       "Species_CULEX TARSALIS            0.000002\n",
       "Species_CULEX ERRATICUS           0.000000\n",
       "DewPoint                          0.000000"
      ]
     },
     "execution_count": 32,
     "metadata": {},
     "output_type": "execute_result"
    }
   ],
   "source": [
    "feat_importances.sort_values('importance', ascending=False)"
   ]
  },
  {
   "cell_type": "code",
   "execution_count": null,
   "metadata": {},
   "outputs": [],
   "source": []
  }
 ],
 "metadata": {
  "kernelspec": {
   "display_name": "Python 3",
   "language": "python",
   "name": "python3"
  },
  "language_info": {
   "codemirror_mode": {
    "name": "ipython",
    "version": 3
   },
   "file_extension": ".py",
   "mimetype": "text/x-python",
   "name": "python",
   "nbconvert_exporter": "python",
   "pygments_lexer": "ipython3",
   "version": "3.6.5"
  }
 },
 "nbformat": 4,
 "nbformat_minor": 2
}
