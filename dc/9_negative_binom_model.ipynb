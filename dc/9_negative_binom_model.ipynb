{
 "cells": [
  {
   "cell_type": "code",
   "execution_count": 50,
   "metadata": {},
   "outputs": [],
   "source": [
    "%matplotlib inline\n",
    "\n",
    "from __future__ import print_function\n",
    "import numpy as np\n",
    "import statsmodels.api as sm\n",
    "from scipy import stats\n",
    "from matplotlib import pyplot as plt\n",
    "import pandas as pd\n",
    "import pickle\n",
    "from sklearn.preprocessing import StandardScaler\n"
   ]
  },
  {
   "cell_type": "code",
   "execution_count": 45,
   "metadata": {},
   "outputs": [],
   "source": [
    "X_train = pd.read_pickle('../assets/X_train.pkl')\n",
    "X_test = pd.read_pickle('../assets/X_test.pkl')\n",
    "y_train = pd.read_pickle('../assets/y_train.pkl')\n",
    "y_test = pd.read_pickle('../assets/y_test.pkl')"
   ]
  },
  {
   "cell_type": "code",
   "execution_count": 46,
   "metadata": {},
   "outputs": [],
   "source": [
    "ss= StandardScaler()"
   ]
  },
  {
   "cell_type": "code",
   "execution_count": 47,
   "metadata": {},
   "outputs": [],
   "source": [
    "# X_train = ss.fit_transform(X_train)"
   ]
  },
  {
   "cell_type": "code",
   "execution_count": 48,
   "metadata": {},
   "outputs": [],
   "source": [
    "X_train = sm.add_constant(X_train, prepend=False)"
   ]
  },
  {
   "cell_type": "code",
   "execution_count": 49,
   "metadata": {},
   "outputs": [
    {
     "name": "stdout",
     "output_type": "stream",
     "text": [
      "                 Generalized Linear Model Regression Results                  \n",
      "==============================================================================\n",
      "Dep. Variable:             WnvPresent   No. Observations:                 6483\n",
      "Model:                            GLM   Df Residuals:                     6452\n",
      "Model Family:        NegativeBinomial   Df Model:                           30\n",
      "Link Function:                    log   Scale:                          1.0000\n",
      "Method:                          IRLS   Log-Likelihood:                -873.84\n",
      "Date:                Mon, 24 Sep 2018   Deviance:                       1024.0\n",
      "Time:                        10:28:37   Pearson chi2:                 4.70e+03\n",
      "No. Iterations:                    23   Covariance Type:             nonrobust\n",
      "==================================================================================================\n",
      "                                     coef    std err          z      P>|z|      [0.025      0.975]\n",
      "--------------------------------------------------------------------------------------------------\n",
      "Day_length                        -0.0008      0.000     -2.660      0.008      -0.001      -0.000\n",
      "Tmax                               0.6749      0.282      2.390      0.017       0.121       1.228\n",
      "Tmin                               0.6293      0.270      2.328      0.020       0.099       1.159\n",
      "Tavg                              -3.7414    188.403     -0.020      0.984    -373.004     365.521\n",
      "ResultSpeed                        0.0381      0.078      0.486      0.627      -0.116       0.192\n",
      "ResultDir                         -0.0202      0.013     -1.504      0.133      -0.047       0.006\n",
      "AvgSpeed                           0.0224      0.104      0.215      0.830      -0.181       0.226\n",
      "Sunset                             0.0017      0.010      0.170      0.865      -0.017       0.021\n",
      "Heat                              -2.5803    188.402     -0.014      0.989    -371.842     366.682\n",
      "Depart                            -0.1249      0.141     -0.888      0.375      -0.401       0.151\n",
      "DewPoint                          -7.3057    464.842     -0.016      0.987    -918.380     903.769\n",
      "Cool                               2.5614    188.402      0.014      0.989    -366.700     371.823\n",
      "PrecipTotal                       -0.0946      0.391     -0.242      0.809      -0.861       0.672\n",
      "StnPressure                        0.7012      1.255      0.559      0.576      -1.759       3.161\n",
      "Latitude                          -3.2341      0.828     -3.905      0.000      -4.858      -1.611\n",
      "Longitude                         -7.4979      1.058     -7.084      0.000      -9.572      -5.423\n",
      "Month                             -0.7730      0.392     -1.972      0.049      -1.541      -0.005\n",
      "Day_length_exp                     0.0004      0.000      2.966      0.003       0.000       0.001\n",
      "Tavg_shift                         0.3451      0.194      1.777      0.075      -0.035       0.726\n",
      "Heat_exp                          -1.9324      0.621     -3.114      0.002      -3.149      -0.716\n",
      "Cool_shift                         0.1939      0.147      1.316      0.188      -0.095       0.483\n",
      "Tmax_shift                        -0.0665      0.093     -0.717      0.473      -0.248       0.115\n",
      "Tmin_shift                        -0.0280      0.061     -0.459      0.646      -0.148       0.092\n",
      "Depart_shift                      -0.3808      0.116     -3.288      0.001      -0.608      -0.154\n",
      "ResultSpeed_shift                 -0.0863      0.039     -2.187      0.029      -0.164      -0.009\n",
      "ResultDir_exp                     -0.1713      0.147     -1.168      0.243      -0.459       0.116\n",
      "PrecipTotal_exp                   -0.3825      3.631     -0.105      0.916      -7.500       6.735\n",
      "Species_CULEX ERRATICUS        -3.921e-14   6.56e-10  -5.98e-05      1.000   -1.29e-09    1.29e-09\n",
      "Species_CULEX PIPIENS             11.5909   3.71e+04      0.000      1.000   -7.27e+04    7.27e+04\n",
      "Species_CULEX PIPIENS/RESTUANS    11.4858   3.71e+04      0.000      1.000   -7.27e+04    7.27e+04\n",
      "Species_CULEX RESTUANS            10.8230   3.71e+04      0.000      1.000   -7.27e+04    7.27e+04\n",
      "Species_CULEX SALINARIUS         -11.3885   4.51e+04     -0.000      1.000   -8.85e+04    8.85e+04\n",
      "Species_CULEX TARSALIS           -11.1047   1.83e+05  -6.07e-05      1.000   -3.59e+05    3.59e+05\n",
      "Species_CULEX TERRITANS          -11.5431   4.04e+04     -0.000      1.000   -7.92e+04    7.92e+04\n",
      "==================================================================================================\n"
     ]
    }
   ],
   "source": [
    "neg_binom = sm.GLM(y_train, X_train, family=sm.families.NegativeBinomial())\n",
    "res = neg_binom.fit()\n",
    "print(res.summary())"
   ]
  },
  {
   "cell_type": "code",
   "execution_count": 16,
   "metadata": {},
   "outputs": [],
   "source": [
    "predict = res.predict()"
   ]
  },
  {
   "cell_type": "code",
   "execution_count": 19,
   "metadata": {},
   "outputs": [
    {
     "data": {
      "text/plain": [
       "array([3.91211979e-11, 2.01619453e-11, 1.39528612e-11, ...,\n",
       "       3.02164932e-03, 1.17168587e-02, 9.28244762e-03])"
      ]
     },
     "execution_count": 19,
     "metadata": {},
     "output_type": "execute_result"
    }
   ],
   "source": [
    "predict.so"
   ]
  },
  {
   "cell_type": "code",
   "execution_count": 21,
   "metadata": {},
   "outputs": [
    {
     "data": {
      "text/plain": [
       "'nonrobust'"
      ]
     },
     "execution_count": 21,
     "metadata": {},
     "output_type": "execute_result"
    }
   ],
   "source": [
    "res.cov_type"
   ]
  },
  {
   "cell_type": "code",
   "execution_count": null,
   "metadata": {},
   "outputs": [],
   "source": []
  }
 ],
 "metadata": {
  "kernelspec": {
   "display_name": "Python 3",
   "language": "python",
   "name": "python3"
  },
  "language_info": {
   "codemirror_mode": {
    "name": "ipython",
    "version": 3
   },
   "file_extension": ".py",
   "mimetype": "text/x-python",
   "name": "python",
   "nbconvert_exporter": "python",
   "pygments_lexer": "ipython3",
   "version": "3.6.5"
  }
 },
 "nbformat": 4,
 "nbformat_minor": 2
}
