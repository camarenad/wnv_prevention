{
 "cells": [
  {
   "cell_type": "code",
   "execution_count": 34,
   "metadata": {},
   "outputs": [],
   "source": [
    "from sklearn.model_selection import train_test_split\n",
    "import numpy as np \n",
    "import pandas as pd\n",
    "import pickle\n",
    "from sklearn.model_selection import TimeSeriesSplit"
   ]
  },
  {
   "cell_type": "code",
   "execution_count": 18,
   "metadata": {},
   "outputs": [],
   "source": [
    "df = pd.read_csv('../data/final_dataframe_features.csv',index_col=0)\n"
   ]
  },
  {
   "cell_type": "code",
   "execution_count": 23,
   "metadata": {},
   "outputs": [],
   "source": [
    "# df.drop(['CodeSum'],axis=1,inplace=True)"
   ]
  },
  {
   "cell_type": "code",
   "execution_count": 24,
   "metadata": {},
   "outputs": [
    {
     "data": {
      "text/plain": [
       "Index(['Trap', 'Species', 'NumMosquitos', 'WnvPresent', 'Day_length', 'Tmax',\n",
       "       'Tmin', 'Tavg', 'ResultSpeed', 'ResultDir', 'AvgSpeed', 'Sunset',\n",
       "       'Sunrise', 'Heat', 'Depart', 'DewPoint', 'WetBulb', 'Cool',\n",
       "       'PrecipTotal', 'StnPressure', 'Date', 'Latitude', 'Longitude', 'Month',\n",
       "       'Day_length_exp', 'Tavg_shift', 'Heat_exp', 'Cool_shift', 'Tmax_shift',\n",
       "       'Tmin_shift', 'Depart_shift', 'ResultSpeed_shift', 'ResultDir_exp',\n",
       "       'PrecipTotal_exp', 'WetBulb_shift', 'DewPoint_shift'],\n",
       "      dtype='object')"
      ]
     },
     "execution_count": 24,
     "metadata": {},
     "output_type": "execute_result"
    }
   ],
   "source": [
    "df.columns"
   ]
  },
  {
   "cell_type": "code",
   "execution_count": 25,
   "metadata": {},
   "outputs": [],
   "source": [
    "df_object = pd.get_dummies(df[['Trap','Species']],columns = df[['Trap','Species']].columns)"
   ]
  },
  {
   "cell_type": "code",
   "execution_count": 27,
   "metadata": {},
   "outputs": [
    {
     "data": {
      "text/plain": [
       "(8537, 143)"
      ]
     },
     "execution_count": 27,
     "metadata": {},
     "output_type": "execute_result"
    }
   ],
   "source": [
    "df_object.shape"
   ]
  },
  {
   "cell_type": "code",
   "execution_count": 28,
   "metadata": {},
   "outputs": [],
   "source": [
    "df = pd.concat([df,df_object], axis=1, join = 'outer')"
   ]
  },
  {
   "cell_type": "code",
   "execution_count": 31,
   "metadata": {},
   "outputs": [],
   "source": [
    "df.drop(['Trap', 'Species'], axis=1, inplace = True)"
   ]
  },
  {
   "cell_type": "code",
   "execution_count": 32,
   "metadata": {},
   "outputs": [
    {
     "data": {
      "text/html": [
       "<div>\n",
       "<style scoped>\n",
       "    .dataframe tbody tr th:only-of-type {\n",
       "        vertical-align: middle;\n",
       "    }\n",
       "\n",
       "    .dataframe tbody tr th {\n",
       "        vertical-align: top;\n",
       "    }\n",
       "\n",
       "    .dataframe thead th {\n",
       "        text-align: right;\n",
       "    }\n",
       "</style>\n",
       "<table border=\"1\" class=\"dataframe\">\n",
       "  <thead>\n",
       "    <tr style=\"text-align: right;\">\n",
       "      <th></th>\n",
       "      <th>NumMosquitos</th>\n",
       "      <th>WnvPresent</th>\n",
       "      <th>Day_length</th>\n",
       "      <th>Tmax</th>\n",
       "      <th>Tmin</th>\n",
       "      <th>Tavg</th>\n",
       "      <th>ResultSpeed</th>\n",
       "      <th>ResultDir</th>\n",
       "      <th>AvgSpeed</th>\n",
       "      <th>Sunset</th>\n",
       "      <th>...</th>\n",
       "      <th>Trap_T238</th>\n",
       "      <th>Trap_T900</th>\n",
       "      <th>Trap_T903</th>\n",
       "      <th>Species_CULEX ERRATICUS</th>\n",
       "      <th>Species_CULEX PIPIENS</th>\n",
       "      <th>Species_CULEX PIPIENS/RESTUANS</th>\n",
       "      <th>Species_CULEX RESTUANS</th>\n",
       "      <th>Species_CULEX SALINARIUS</th>\n",
       "      <th>Species_CULEX TARSALIS</th>\n",
       "      <th>Species_CULEX TERRITANS</th>\n",
       "    </tr>\n",
       "  </thead>\n",
       "  <tbody>\n",
       "    <tr>\n",
       "      <th>106</th>\n",
       "      <td>2</td>\n",
       "      <td>0</td>\n",
       "      <td>54780</td>\n",
       "      <td>91.5</td>\n",
       "      <td>71.5</td>\n",
       "      <td>81.5</td>\n",
       "      <td>6.7</td>\n",
       "      <td>21.5</td>\n",
       "      <td>7.6</td>\n",
       "      <td>1931</td>\n",
       "      <td>...</td>\n",
       "      <td>0</td>\n",
       "      <td>0</td>\n",
       "      <td>0</td>\n",
       "      <td>0</td>\n",
       "      <td>0</td>\n",
       "      <td>1</td>\n",
       "      <td>0</td>\n",
       "      <td>0</td>\n",
       "      <td>0</td>\n",
       "      <td>0</td>\n",
       "    </tr>\n",
       "    <tr>\n",
       "      <th>107</th>\n",
       "      <td>3</td>\n",
       "      <td>0</td>\n",
       "      <td>54780</td>\n",
       "      <td>91.5</td>\n",
       "      <td>71.5</td>\n",
       "      <td>81.5</td>\n",
       "      <td>6.7</td>\n",
       "      <td>21.5</td>\n",
       "      <td>7.6</td>\n",
       "      <td>1931</td>\n",
       "      <td>...</td>\n",
       "      <td>0</td>\n",
       "      <td>0</td>\n",
       "      <td>0</td>\n",
       "      <td>0</td>\n",
       "      <td>0</td>\n",
       "      <td>0</td>\n",
       "      <td>1</td>\n",
       "      <td>0</td>\n",
       "      <td>0</td>\n",
       "      <td>0</td>\n",
       "    </tr>\n",
       "    <tr>\n",
       "      <th>108</th>\n",
       "      <td>1</td>\n",
       "      <td>0</td>\n",
       "      <td>54780</td>\n",
       "      <td>91.5</td>\n",
       "      <td>71.5</td>\n",
       "      <td>81.5</td>\n",
       "      <td>6.7</td>\n",
       "      <td>21.5</td>\n",
       "      <td>7.6</td>\n",
       "      <td>1931</td>\n",
       "      <td>...</td>\n",
       "      <td>0</td>\n",
       "      <td>0</td>\n",
       "      <td>0</td>\n",
       "      <td>0</td>\n",
       "      <td>0</td>\n",
       "      <td>0</td>\n",
       "      <td>1</td>\n",
       "      <td>0</td>\n",
       "      <td>0</td>\n",
       "      <td>0</td>\n",
       "    </tr>\n",
       "    <tr>\n",
       "      <th>109</th>\n",
       "      <td>1</td>\n",
       "      <td>0</td>\n",
       "      <td>54780</td>\n",
       "      <td>91.5</td>\n",
       "      <td>71.5</td>\n",
       "      <td>81.5</td>\n",
       "      <td>6.7</td>\n",
       "      <td>21.5</td>\n",
       "      <td>7.6</td>\n",
       "      <td>1931</td>\n",
       "      <td>...</td>\n",
       "      <td>0</td>\n",
       "      <td>0</td>\n",
       "      <td>0</td>\n",
       "      <td>0</td>\n",
       "      <td>0</td>\n",
       "      <td>0</td>\n",
       "      <td>1</td>\n",
       "      <td>0</td>\n",
       "      <td>0</td>\n",
       "      <td>0</td>\n",
       "    </tr>\n",
       "    <tr>\n",
       "      <th>110</th>\n",
       "      <td>5</td>\n",
       "      <td>0</td>\n",
       "      <td>54780</td>\n",
       "      <td>91.5</td>\n",
       "      <td>71.5</td>\n",
       "      <td>81.5</td>\n",
       "      <td>6.7</td>\n",
       "      <td>21.5</td>\n",
       "      <td>7.6</td>\n",
       "      <td>1931</td>\n",
       "      <td>...</td>\n",
       "      <td>0</td>\n",
       "      <td>0</td>\n",
       "      <td>0</td>\n",
       "      <td>0</td>\n",
       "      <td>0</td>\n",
       "      <td>1</td>\n",
       "      <td>0</td>\n",
       "      <td>0</td>\n",
       "      <td>0</td>\n",
       "      <td>0</td>\n",
       "    </tr>\n",
       "  </tbody>\n",
       "</table>\n",
       "<p>5 rows × 177 columns</p>\n",
       "</div>"
      ],
      "text/plain": [
       "     NumMosquitos  WnvPresent  Day_length  Tmax  Tmin  Tavg  ResultSpeed  \\\n",
       "106             2           0       54780  91.5  71.5  81.5          6.7   \n",
       "107             3           0       54780  91.5  71.5  81.5          6.7   \n",
       "108             1           0       54780  91.5  71.5  81.5          6.7   \n",
       "109             1           0       54780  91.5  71.5  81.5          6.7   \n",
       "110             5           0       54780  91.5  71.5  81.5          6.7   \n",
       "\n",
       "     ResultDir  AvgSpeed  Sunset           ...             Trap_T238  \\\n",
       "106       21.5       7.6    1931           ...                     0   \n",
       "107       21.5       7.6    1931           ...                     0   \n",
       "108       21.5       7.6    1931           ...                     0   \n",
       "109       21.5       7.6    1931           ...                     0   \n",
       "110       21.5       7.6    1931           ...                     0   \n",
       "\n",
       "     Trap_T900  Trap_T903  Species_CULEX ERRATICUS  Species_CULEX PIPIENS  \\\n",
       "106          0          0                        0                      0   \n",
       "107          0          0                        0                      0   \n",
       "108          0          0                        0                      0   \n",
       "109          0          0                        0                      0   \n",
       "110          0          0                        0                      0   \n",
       "\n",
       "     Species_CULEX PIPIENS/RESTUANS  Species_CULEX RESTUANS  \\\n",
       "106                               1                       0   \n",
       "107                               0                       1   \n",
       "108                               0                       1   \n",
       "109                               0                       1   \n",
       "110                               1                       0   \n",
       "\n",
       "     Species_CULEX SALINARIUS Species_CULEX TARSALIS  Species_CULEX TERRITANS  \n",
       "106                         0                      0                        0  \n",
       "107                         0                      0                        0  \n",
       "108                         0                      0                        0  \n",
       "109                         0                      0                        0  \n",
       "110                         0                      0                        0  \n",
       "\n",
       "[5 rows x 177 columns]"
      ]
     },
     "execution_count": 32,
     "metadata": {},
     "output_type": "execute_result"
    }
   ],
   "source": [
    "df.head()"
   ]
  },
  {
   "cell_type": "code",
   "execution_count": 33,
   "metadata": {},
   "outputs": [],
   "source": [
    "X = df.loc[:, df.columns != 'WnvPresent']\n",
    "y = df['WnvPresent']\n"
   ]
  },
  {
   "cell_type": "code",
   "execution_count": 39,
   "metadata": {},
   "outputs": [],
   "source": [
    "tss = TimeSeriesSplit(n_splits = 3)"
   ]
  },
  {
   "cell_type": "code",
   "execution_count": 51,
   "metadata": {},
   "outputs": [],
   "source": [
    "for train_index, test_index in tss.split(X):\n",
    "    X_train, X_test = X.iloc[train_index, :], X.iloc[test_index,:]\n",
    "    y_train, y_test = y.iloc[train_index], y.iloc[test_index]"
   ]
  },
  {
   "cell_type": "code",
   "execution_count": 52,
   "metadata": {},
   "outputs": [],
   "source": [
    "pd.to_pickle(X_train,'../data/X_train.pkl')"
   ]
  },
  {
   "cell_type": "code",
   "execution_count": 56,
   "metadata": {},
   "outputs": [],
   "source": [
    "pd.to_pickle(X_test,'../data/X_test.pkl')"
   ]
  },
  {
   "cell_type": "code",
   "execution_count": 57,
   "metadata": {},
   "outputs": [],
   "source": [
    "pd.to_pickle(y_train,'../data/y_train.pkl')"
   ]
  },
  {
   "cell_type": "code",
   "execution_count": 58,
   "metadata": {},
   "outputs": [],
   "source": [
    "pd.to_pickle(y_test,'../data/y_test.pkl')"
   ]
  },
  {
   "cell_type": "code",
   "execution_count": null,
   "metadata": {},
   "outputs": [],
   "source": []
  }
 ],
 "metadata": {
  "kernelspec": {
   "display_name": "Python 3",
   "language": "python",
   "name": "python3"
  },
  "language_info": {
   "codemirror_mode": {
    "name": "ipython",
    "version": 3
   },
   "file_extension": ".py",
   "mimetype": "text/x-python",
   "name": "python",
   "nbconvert_exporter": "python",
   "pygments_lexer": "ipython3",
   "version": "3.6.5"
  }
 },
 "nbformat": 4,
 "nbformat_minor": 2
}
