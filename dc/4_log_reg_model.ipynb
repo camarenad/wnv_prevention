{
 "cells": [
  {
   "cell_type": "markdown",
   "metadata": {},
   "source": [
    "# Logistic Regression Model\n",
    "We opted to fit a logistic regression first because of it's fast compute time and straightforaward implementation. \n"
   ]
  },
  {
   "cell_type": "code",
   "execution_count": 8,
   "metadata": {},
   "outputs": [],
   "source": [
    "import numpy as np\n",
    "import pandas as pd\n",
    "import pickle\n",
    "from sklearn.preprocessing import StandardScaler\n",
    "from sklearn.pipeline import Pipeline\n",
    "from sklearn.grid_search import GridSearchCV\n",
    "from sklearn.linear_model import LogisticRegression"
   ]
  },
  {
   "cell_type": "markdown",
   "metadata": {},
   "source": [
    "# Loading in the pickled data"
   ]
  },
  {
   "cell_type": "code",
   "execution_count": 9,
   "metadata": {},
   "outputs": [],
   "source": [
    "X_train = pd.read_pickle('../assets/X_train.pkl')\n",
    "X_test = pd.read_pickle('../assets/X_test.pkl')\n",
    "y_train = pd.read_pickle('../assets/y_train.pkl')\n",
    "y_test = pd.read_pickle('../assets/y_test.pkl')"
   ]
  },
  {
   "cell_type": "code",
   "execution_count": 10,
   "metadata": {},
   "outputs": [
    {
     "data": {
      "text/plain": [
       "Index(['Day_length', 'Tmax', 'Tmin', 'Tavg', 'ResultSpeed', 'ResultDir',\n",
       "       'AvgSpeed', 'Sunset', 'Sunrise', 'Heat', 'Depart', 'DewPoint',\n",
       "       'WetBulb', 'Cool', 'PrecipTotal', 'StnPressure', 'Latitude',\n",
       "       'Longitude', 'Month', 'Day_length_exp', 'Tavg_shift', 'Heat_exp',\n",
       "       'Cool_shift', 'Tmax_shift', 'Tmin_shift', 'Depart_shift',\n",
       "       'ResultSpeed_shift', 'ResultDir_exp', 'PrecipTotal_exp', 'WetBulb_exp',\n",
       "       'Species_CULEX ERRATICUS', 'Species_CULEX PIPIENS',\n",
       "       'Species_CULEX PIPIENS/RESTUANS', 'Species_CULEX RESTUANS',\n",
       "       'Species_CULEX SALINARIUS', 'Species_CULEX TARSALIS',\n",
       "       'Species_CULEX TERRITANS'],\n",
       "      dtype='object')"
      ]
     },
     "execution_count": 10,
     "metadata": {},
     "output_type": "execute_result"
    }
   ],
   "source": [
    "X_train.columns\n"
   ]
  },
  {
   "cell_type": "markdown",
   "metadata": {},
   "source": [
    "# Setting up the pipeline\n",
    "We're optimizing the model first by scaling our values.\n",
    "Next we cycle through both L1 and L2 penalties to determine the optimum loss function for our model.\n",
    "Finally we iterate through c values between .001 and .95 which cycles through the the min and max of acceptable ranges. "
   ]
  },
  {
   "cell_type": "code",
   "execution_count": 11,
   "metadata": {},
   "outputs": [],
   "source": [
    "pipe = Pipeline([\n",
    "    ('ss',StandardScaler()),\n",
    "    ('lr',LogisticRegression(solver='liblinear')),    \n",
    "])"
   ]
  },
  {
   "cell_type": "code",
   "execution_count": 12,
   "metadata": {},
   "outputs": [],
   "source": [
    "param_grid =  {\n",
    "    'lr__penalty':['l1','l2'],\n",
    "    'lr__C': np.linspace(.001,.95,50)\n",
    "        \n",
    "}"
   ]
  },
  {
   "cell_type": "code",
   "execution_count": 16,
   "metadata": {},
   "outputs": [],
   "source": [
    "gs = GridSearchCV(pipe, param_grid=param_grid,verbose=1,scoring='roc_auc')"
   ]
  },
  {
   "cell_type": "code",
   "execution_count": null,
   "metadata": {},
   "outputs": [
    {
     "name": "stdout",
     "output_type": "stream",
     "text": [
      "Fitting 3 folds for each of 100 candidates, totalling 300 fits\n"
     ]
    }
   ],
   "source": [
    "gs.fit(X_train,y_train)"
   ]
  },
  {
   "cell_type": "markdown",
   "metadata": {},
   "source": [
    "# Scoring our model"
   ]
  },
  {
   "cell_type": "code",
   "execution_count": null,
   "metadata": {},
   "outputs": [],
   "source": [
    "gs.score(X_train,y_train)"
   ]
  },
  {
   "cell_type": "code",
   "execution_count": null,
   "metadata": {},
   "outputs": [],
   "source": [
    "gs.score(X_test,y_test)"
   ]
  },
  {
   "cell_type": "code",
   "execution_count": null,
   "metadata": {},
   "outputs": [],
   "source": [
    "X_train_preds = gs.predict(X_train)"
   ]
  },
  {
   "cell_type": "markdown",
   "metadata": {},
   "source": [
    "# Making a predictions dataframe"
   ]
  },
  {
   "cell_type": "code",
   "execution_count": null,
   "metadata": {},
   "outputs": [],
   "source": [
    "preds = pd.DataFrame({\n",
    "    \"preds\":X_train_preds,\n",
    "    \"truth\":y_train\n",
    "})\n"
   ]
  },
  {
   "cell_type": "code",
   "execution_count": null,
   "metadata": {},
   "outputs": [],
   "source": [
    "preds.sum()"
   ]
  },
  {
   "cell_type": "markdown",
   "metadata": {},
   "source": [
    "Inspecting the best params"
   ]
  },
  {
   "cell_type": "code",
   "execution_count": 13,
   "metadata": {},
   "outputs": [
    {
     "data": {
      "text/plain": [
       "{'lr__C': 0.001, 'lr__penalty': 'l2'}"
      ]
     },
     "execution_count": 13,
     "metadata": {},
     "output_type": "execute_result"
    }
   ],
   "source": [
    "gs.best_params_"
   ]
  },
  {
   "cell_type": "code",
   "execution_count": 14,
   "metadata": {},
   "outputs": [
    {
     "data": {
      "text/plain": [
       "(8189,)"
      ]
     },
     "execution_count": 14,
     "metadata": {},
     "output_type": "execute_result"
    }
   ],
   "source": [
    "y_train.shape"
   ]
  },
  {
   "cell_type": "code",
   "execution_count": 15,
   "metadata": {},
   "outputs": [
    {
     "data": {
      "text/plain": [
       "(8189, 37)"
      ]
     },
     "execution_count": 15,
     "metadata": {},
     "output_type": "execute_result"
    }
   ],
   "source": [
    "X_train.shape"
   ]
  },
  {
   "cell_type": "code",
   "execution_count": 16,
   "metadata": {},
   "outputs": [
    {
     "data": {
      "text/plain": [
       "(8189,)"
      ]
     },
     "execution_count": 16,
     "metadata": {},
     "output_type": "execute_result"
    }
   ],
   "source": [
    "X_train_preds.shape"
   ]
  },
  {
   "cell_type": "code",
   "execution_count": 17,
   "metadata": {},
   "outputs": [
    {
     "data": {
      "text/html": [
       "<div>\n",
       "<style scoped>\n",
       "    .dataframe tbody tr th:only-of-type {\n",
       "        vertical-align: middle;\n",
       "    }\n",
       "\n",
       "    .dataframe tbody tr th {\n",
       "        vertical-align: top;\n",
       "    }\n",
       "\n",
       "    .dataframe thead th {\n",
       "        text-align: right;\n",
       "    }\n",
       "</style>\n",
       "<table border=\"1\" class=\"dataframe\">\n",
       "  <thead>\n",
       "    <tr style=\"text-align: right;\">\n",
       "      <th></th>\n",
       "      <th>preds</th>\n",
       "      <th>truth</th>\n",
       "    </tr>\n",
       "  </thead>\n",
       "  <tbody>\n",
       "    <tr>\n",
       "      <th>0</th>\n",
       "      <td>0</td>\n",
       "      <td>0</td>\n",
       "    </tr>\n",
       "    <tr>\n",
       "      <th>1</th>\n",
       "      <td>0</td>\n",
       "      <td>0</td>\n",
       "    </tr>\n",
       "    <tr>\n",
       "      <th>2</th>\n",
       "      <td>0</td>\n",
       "      <td>0</td>\n",
       "    </tr>\n",
       "    <tr>\n",
       "      <th>3</th>\n",
       "      <td>0</td>\n",
       "      <td>0</td>\n",
       "    </tr>\n",
       "    <tr>\n",
       "      <th>4</th>\n",
       "      <td>0</td>\n",
       "      <td>0</td>\n",
       "    </tr>\n",
       "  </tbody>\n",
       "</table>\n",
       "</div>"
      ],
      "text/plain": [
       "   preds  truth\n",
       "0      0      0\n",
       "1      0      0\n",
       "2      0      0\n",
       "3      0      0\n",
       "4      0      0"
      ]
     },
     "execution_count": 17,
     "metadata": {},
     "output_type": "execute_result"
    }
   ],
   "source": [
    "preds.head()"
   ]
  },
  {
   "cell_type": "code",
   "execution_count": null,
   "metadata": {},
   "outputs": [],
   "source": []
  },
  {
   "cell_type": "code",
   "execution_count": 18,
   "metadata": {},
   "outputs": [],
   "source": [
    "coefs = pd.DataFrame(gs.best_estimator_.named_steps['lr'].coef_,columns=list(X_test.columns))"
   ]
  },
  {
   "cell_type": "code",
   "execution_count": 19,
   "metadata": {},
   "outputs": [],
   "source": [
    "scalar = gs.best_estimator_.steps[0][1].var_"
   ]
  },
  {
   "cell_type": "code",
   "execution_count": 20,
   "metadata": {},
   "outputs": [
    {
     "data": {
      "text/html": [
       "<div>\n",
       "<style scoped>\n",
       "    .dataframe tbody tr th:only-of-type {\n",
       "        vertical-align: middle;\n",
       "    }\n",
       "\n",
       "    .dataframe tbody tr th {\n",
       "        vertical-align: top;\n",
       "    }\n",
       "\n",
       "    .dataframe thead th {\n",
       "        text-align: right;\n",
       "    }\n",
       "</style>\n",
       "<table border=\"1\" class=\"dataframe\">\n",
       "  <thead>\n",
       "    <tr style=\"text-align: right;\">\n",
       "      <th></th>\n",
       "      <th>0</th>\n",
       "    </tr>\n",
       "  </thead>\n",
       "  <tbody>\n",
       "    <tr>\n",
       "      <th>Day_length</th>\n",
       "      <td>-0.010777</td>\n",
       "    </tr>\n",
       "    <tr>\n",
       "      <th>Tmax</th>\n",
       "      <td>-0.005629</td>\n",
       "    </tr>\n",
       "    <tr>\n",
       "      <th>Tmin</th>\n",
       "      <td>0.044464</td>\n",
       "    </tr>\n",
       "    <tr>\n",
       "      <th>Tavg</th>\n",
       "      <td>0.018795</td>\n",
       "    </tr>\n",
       "    <tr>\n",
       "      <th>ResultSpeed</th>\n",
       "      <td>-0.007766</td>\n",
       "    </tr>\n",
       "    <tr>\n",
       "      <th>ResultDir</th>\n",
       "      <td>-0.017823</td>\n",
       "    </tr>\n",
       "    <tr>\n",
       "      <th>AvgSpeed</th>\n",
       "      <td>-0.002121</td>\n",
       "    </tr>\n",
       "    <tr>\n",
       "      <th>Sunset</th>\n",
       "      <td>-0.005906</td>\n",
       "    </tr>\n",
       "    <tr>\n",
       "      <th>Sunrise</th>\n",
       "      <td>0.042930</td>\n",
       "    </tr>\n",
       "    <tr>\n",
       "      <th>Heat</th>\n",
       "      <td>-0.016123</td>\n",
       "    </tr>\n",
       "    <tr>\n",
       "      <th>Depart</th>\n",
       "      <td>-0.029983</td>\n",
       "    </tr>\n",
       "    <tr>\n",
       "      <th>DewPoint</th>\n",
       "      <td>0.860316</td>\n",
       "    </tr>\n",
       "    <tr>\n",
       "      <th>WetBulb</th>\n",
       "      <td>0.037636</td>\n",
       "    </tr>\n",
       "    <tr>\n",
       "      <th>Cool</th>\n",
       "      <td>0.016984</td>\n",
       "    </tr>\n",
       "    <tr>\n",
       "      <th>PrecipTotal</th>\n",
       "      <td>-0.009016</td>\n",
       "    </tr>\n",
       "    <tr>\n",
       "      <th>StnPressure</th>\n",
       "      <td>0.012698</td>\n",
       "    </tr>\n",
       "    <tr>\n",
       "      <th>Latitude</th>\n",
       "      <td>0.004342</td>\n",
       "    </tr>\n",
       "    <tr>\n",
       "      <th>Longitude</th>\n",
       "      <td>-0.064699</td>\n",
       "    </tr>\n",
       "    <tr>\n",
       "      <th>Month</th>\n",
       "      <td>0.024785</td>\n",
       "    </tr>\n",
       "    <tr>\n",
       "      <th>Day_length_exp</th>\n",
       "      <td>0.025728</td>\n",
       "    </tr>\n",
       "    <tr>\n",
       "      <th>Tavg_shift</th>\n",
       "      <td>0.015273</td>\n",
       "    </tr>\n",
       "    <tr>\n",
       "      <th>Heat_exp</th>\n",
       "      <td>-0.023900</td>\n",
       "    </tr>\n",
       "    <tr>\n",
       "      <th>Cool_shift</th>\n",
       "      <td>0.012660</td>\n",
       "    </tr>\n",
       "    <tr>\n",
       "      <th>Tmax_shift</th>\n",
       "      <td>-0.009965</td>\n",
       "    </tr>\n",
       "    <tr>\n",
       "      <th>Tmin_shift</th>\n",
       "      <td>0.038623</td>\n",
       "    </tr>\n",
       "    <tr>\n",
       "      <th>Depart_shift</th>\n",
       "      <td>-0.036648</td>\n",
       "    </tr>\n",
       "    <tr>\n",
       "      <th>ResultSpeed_shift</th>\n",
       "      <td>-0.042878</td>\n",
       "    </tr>\n",
       "    <tr>\n",
       "      <th>ResultDir_exp</th>\n",
       "      <td>0.000712</td>\n",
       "    </tr>\n",
       "    <tr>\n",
       "      <th>PrecipTotal_exp</th>\n",
       "      <td>0.018168</td>\n",
       "    </tr>\n",
       "    <tr>\n",
       "      <th>WetBulb_exp</th>\n",
       "      <td>0.054195</td>\n",
       "    </tr>\n",
       "    <tr>\n",
       "      <th>Species_CULEX ERRATICUS</th>\n",
       "      <td>0.000000</td>\n",
       "    </tr>\n",
       "    <tr>\n",
       "      <th>Species_CULEX PIPIENS</th>\n",
       "      <td>0.045762</td>\n",
       "    </tr>\n",
       "    <tr>\n",
       "      <th>Species_CULEX PIPIENS/RESTUANS</th>\n",
       "      <td>0.015343</td>\n",
       "    </tr>\n",
       "    <tr>\n",
       "      <th>Species_CULEX RESTUANS</th>\n",
       "      <td>-0.041345</td>\n",
       "    </tr>\n",
       "    <tr>\n",
       "      <th>Species_CULEX SALINARIUS</th>\n",
       "      <td>-0.019662</td>\n",
       "    </tr>\n",
       "    <tr>\n",
       "      <th>Species_CULEX TARSALIS</th>\n",
       "      <td>-0.003537</td>\n",
       "    </tr>\n",
       "    <tr>\n",
       "      <th>Species_CULEX TERRITANS</th>\n",
       "      <td>-0.035209</td>\n",
       "    </tr>\n",
       "  </tbody>\n",
       "</table>\n",
       "</div>"
      ],
      "text/plain": [
       "                                       0\n",
       "Day_length                     -0.010777\n",
       "Tmax                           -0.005629\n",
       "Tmin                            0.044464\n",
       "Tavg                            0.018795\n",
       "ResultSpeed                    -0.007766\n",
       "ResultDir                      -0.017823\n",
       "AvgSpeed                       -0.002121\n",
       "Sunset                         -0.005906\n",
       "Sunrise                         0.042930\n",
       "Heat                           -0.016123\n",
       "Depart                         -0.029983\n",
       "DewPoint                        0.860316\n",
       "WetBulb                         0.037636\n",
       "Cool                            0.016984\n",
       "PrecipTotal                    -0.009016\n",
       "StnPressure                     0.012698\n",
       "Latitude                        0.004342\n",
       "Longitude                      -0.064699\n",
       "Month                           0.024785\n",
       "Day_length_exp                  0.025728\n",
       "Tavg_shift                      0.015273\n",
       "Heat_exp                       -0.023900\n",
       "Cool_shift                      0.012660\n",
       "Tmax_shift                     -0.009965\n",
       "Tmin_shift                      0.038623\n",
       "Depart_shift                   -0.036648\n",
       "ResultSpeed_shift              -0.042878\n",
       "ResultDir_exp                   0.000712\n",
       "PrecipTotal_exp                 0.018168\n",
       "WetBulb_exp                     0.054195\n",
       "Species_CULEX ERRATICUS         0.000000\n",
       "Species_CULEX PIPIENS           0.045762\n",
       "Species_CULEX PIPIENS/RESTUANS  0.015343\n",
       "Species_CULEX RESTUANS         -0.041345\n",
       "Species_CULEX SALINARIUS       -0.019662\n",
       "Species_CULEX TARSALIS         -0.003537\n",
       "Species_CULEX TERRITANS        -0.035209"
      ]
     },
     "execution_count": 20,
     "metadata": {},
     "output_type": "execute_result"
    }
   ],
   "source": [
    "coefs.T"
   ]
  },
  {
   "cell_type": "code",
   "execution_count": null,
   "metadata": {},
   "outputs": [],
   "source": []
  },
  {
   "cell_type": "code",
   "execution_count": 21,
   "metadata": {},
   "outputs": [],
   "source": [
    "with open('../assets/logistic_regression.pkl','wb+') as f:\n",
    "    pickle.dump(gs,f)"
   ]
  },
  {
   "cell_type": "code",
   "execution_count": null,
   "metadata": {},
   "outputs": [],
   "source": []
  },
  {
   "cell_type": "code",
   "execution_count": null,
   "metadata": {},
   "outputs": [],
   "source": []
  }
 ],
 "metadata": {
  "kernelspec": {
   "display_name": "Python 3",
   "language": "python",
   "name": "python3"
  },
  "language_info": {
   "codemirror_mode": {
    "name": "ipython",
    "version": 3
   },
   "file_extension": ".py",
   "mimetype": "text/x-python",
   "name": "python",
   "nbconvert_exporter": "python",
   "pygments_lexer": "ipython3",
   "version": "3.6.5"
  }
 },
 "nbformat": 4,
 "nbformat_minor": 2
}
