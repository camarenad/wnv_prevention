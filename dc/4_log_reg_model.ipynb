{
 "cells": [
  {
   "cell_type": "markdown",
   "metadata": {},
   "source": [
    "# Logistic Regression Model\n",
    "We opted to fit a logistic regression first because of it's fast compute time and straightforaward implementation. "
   ]
  },
  {
   "cell_type": "code",
   "execution_count": 1,
   "metadata": {},
   "outputs": [
    {
     "name": "stderr",
     "output_type": "stream",
     "text": [
      "/Applications/anaconda3/lib/python3.6/site-packages/sklearn/cross_validation.py:41: DeprecationWarning: This module was deprecated in version 0.18 in favor of the model_selection module into which all the refactored classes and functions are moved. Also note that the interface of the new CV iterators are different from that of this module. This module will be removed in 0.20.\n",
      "  \"This module will be removed in 0.20.\", DeprecationWarning)\n",
      "/Applications/anaconda3/lib/python3.6/site-packages/sklearn/grid_search.py:42: DeprecationWarning: This module was deprecated in version 0.18 in favor of the model_selection module into which all the refactored classes and functions are moved. This module will be removed in 0.20.\n",
      "  DeprecationWarning)\n"
     ]
    }
   ],
   "source": [
    "import numpy as np\n",
    "import pandas as pd\n",
    "import pickle\n",
    "from sklearn.preprocessing import StandardScaler\n",
    "from sklearn.pipeline import Pipeline\n",
    "from sklearn.grid_search import GridSearchCV\n",
    "from sklearn.linear_model import LogisticRegression"
   ]
  },
  {
   "cell_type": "code",
   "execution_count": 2,
   "metadata": {},
   "outputs": [],
   "source": [
    "X_train = pd.read_pickle('../assets/X_train.pkl')\n",
    "X_test = pd.read_pickle('../assets/X_test.pkl')\n",
    "y_train = pd.read_pickle('../assets/y_train.pkl')\n",
    "y_test = pd.read_pickle('../assets/y_test.pkl')"
   ]
  },
  {
   "cell_type": "code",
   "execution_count": 3,
   "metadata": {},
   "outputs": [
    {
     "data": {
      "text/plain": [
       "Index(['Day_length', 'Tmax', 'Tmin', 'Tavg', 'ResultSpeed', 'ResultDir',\n",
       "       'AvgSpeed', 'Sunset', 'Heat', 'Depart', 'DewPoint', 'Cool',\n",
       "       'PrecipTotal', 'StnPressure', 'Latitude', 'Longitude', 'Month',\n",
       "       'Day_length_exp', 'Tavg_shift', 'Heat_exp', 'Cool_shift', 'Tmax_shift',\n",
       "       'Tmin_shift', 'Depart_shift', 'ResultSpeed_shift', 'ResultDir_exp',\n",
       "       'PrecipTotal_exp', 'Species_CULEX ERRATICUS', 'Species_CULEX PIPIENS',\n",
       "       'Species_CULEX PIPIENS/RESTUANS', 'Species_CULEX RESTUANS',\n",
       "       'Species_CULEX SALINARIUS', 'Species_CULEX TARSALIS',\n",
       "       'Species_CULEX TERRITANS'],\n",
       "      dtype='object')"
      ]
     },
     "execution_count": 3,
     "metadata": {},
     "output_type": "execute_result"
    }
   ],
   "source": [
    "X_train.columns\n"
   ]
  },
  {
   "cell_type": "code",
   "execution_count": 4,
   "metadata": {},
   "outputs": [],
   "source": [
    "pipe = Pipeline([\n",
    "    ('ss',StandardScaler()),\n",
    "    ('lr',LogisticRegression(solver='liblinear')),    \n",
    "])"
   ]
  },
  {
   "cell_type": "code",
   "execution_count": 5,
   "metadata": {},
   "outputs": [],
   "source": [
    "param_grid =  {\n",
    "    'lr__penalty':['l1','l2'],\n",
    "    'lr__C': np.linspace(.001,.95,50)\n",
    "        \n",
    "}"
   ]
  },
  {
   "cell_type": "code",
   "execution_count": 6,
   "metadata": {},
   "outputs": [],
   "source": [
    "gs = GridSearchCV(pipe, param_grid=param_grid,verbose=1,scoring='roc_auc')"
   ]
  },
  {
   "cell_type": "code",
   "execution_count": 7,
   "metadata": {},
   "outputs": [
    {
     "name": "stdout",
     "output_type": "stream",
     "text": [
      "Fitting 3 folds for each of 100 candidates, totalling 300 fits\n"
     ]
    },
    {
     "name": "stderr",
     "output_type": "stream",
     "text": [
      "[Parallel(n_jobs=1)]: Done 300 out of 300 | elapsed:   22.6s finished\n"
     ]
    },
    {
     "data": {
      "text/plain": [
       "GridSearchCV(cv=None, error_score='raise',\n",
       "       estimator=Pipeline(memory=None,\n",
       "     steps=[('ss', StandardScaler(copy=True, with_mean=True, with_std=True)), ('lr', LogisticRegression(C=1.0, class_weight=None, dual=False, fit_intercept=True,\n",
       "          intercept_scaling=1, max_iter=100, multi_class='ovr', n_jobs=1,\n",
       "          penalty='l2', random_state=None, solver='liblinear', tol=0.0001,\n",
       "          verbose=0, warm_start=False))]),\n",
       "       fit_params={}, iid=True, n_jobs=1,\n",
       "       param_grid={'lr__penalty': ['l1', 'l2'], 'lr__C': array([0.001  , 0.02037, 0.03973, 0.0591 , 0.07847, 0.09784, 0.1172 ,\n",
       "       0.13657, 0.15594, 0.17531, 0.19467, 0.21404, 0.23341, 0.25278,\n",
       "       0.27214, 0.29151, 0.31088, 0.33024, 0.34961, 0.36898, 0.38835,\n",
       "       0.40771, 0.42708, 0.44645, 0.4658...69, 0.79506,\n",
       "       0.81443, 0.8338 , 0.85316, 0.87253, 0.8919 , 0.91127, 0.93063,\n",
       "       0.95   ])},\n",
       "       pre_dispatch='2*n_jobs', refit=True, scoring='roc_auc', verbose=1)"
      ]
     },
     "execution_count": 7,
     "metadata": {},
     "output_type": "execute_result"
    }
   ],
   "source": [
    "gs.fit(X_train,y_train)"
   ]
  },
  {
   "cell_type": "code",
   "execution_count": 8,
   "metadata": {},
   "outputs": [
    {
     "data": {
      "text/plain": [
       "0.8477156203854571"
      ]
     },
     "execution_count": 8,
     "metadata": {},
     "output_type": "execute_result"
    }
   ],
   "source": [
    "gs.score(X_train,y_train)"
   ]
  },
  {
   "cell_type": "code",
   "execution_count": 9,
   "metadata": {},
   "outputs": [
    {
     "data": {
      "text/plain": [
       "0.7380049521236992"
      ]
     },
     "execution_count": 9,
     "metadata": {},
     "output_type": "execute_result"
    }
   ],
   "source": [
    "gs.score(X_test,y_test)"
   ]
  },
  {
   "cell_type": "code",
   "execution_count": 10,
   "metadata": {},
   "outputs": [],
   "source": [
    "X_train_preds = gs.predict(X_train)"
   ]
  },
  {
   "cell_type": "code",
   "execution_count": 11,
   "metadata": {},
   "outputs": [],
   "source": [
    "preds = pd.DataFrame({\n",
    "    \"preds\":X_train_preds,\n",
    "    \"truth\":y_train\n",
    "})\n"
   ]
  },
  {
   "cell_type": "code",
   "execution_count": 12,
   "metadata": {},
   "outputs": [
    {
     "data": {
      "text/plain": [
       "preds      0\n",
       "truth    261\n",
       "dtype: int64"
      ]
     },
     "execution_count": 12,
     "metadata": {},
     "output_type": "execute_result"
    }
   ],
   "source": [
    "preds.sum()"
   ]
  },
  {
   "cell_type": "code",
   "execution_count": 13,
   "metadata": {},
   "outputs": [
    {
     "data": {
      "text/plain": [
       "{'lr__C': 0.02036734693877551, 'lr__penalty': 'l2'}"
      ]
     },
     "execution_count": 13,
     "metadata": {},
     "output_type": "execute_result"
    }
   ],
   "source": [
    "gs.best_params_"
   ]
  },
  {
   "cell_type": "code",
   "execution_count": 14,
   "metadata": {},
   "outputs": [
    {
     "data": {
      "text/plain": [
       "(6483,)"
      ]
     },
     "execution_count": 14,
     "metadata": {},
     "output_type": "execute_result"
    }
   ],
   "source": [
    "y_train.shape"
   ]
  },
  {
   "cell_type": "code",
   "execution_count": 15,
   "metadata": {},
   "outputs": [
    {
     "data": {
      "text/plain": [
       "(6483, 34)"
      ]
     },
     "execution_count": 15,
     "metadata": {},
     "output_type": "execute_result"
    }
   ],
   "source": [
    "X_train.shape"
   ]
  },
  {
   "cell_type": "code",
   "execution_count": 16,
   "metadata": {},
   "outputs": [
    {
     "data": {
      "text/plain": [
       "(6483,)"
      ]
     },
     "execution_count": 16,
     "metadata": {},
     "output_type": "execute_result"
    }
   ],
   "source": [
    "X_train_preds.shape"
   ]
  },
  {
   "cell_type": "code",
   "execution_count": 20,
   "metadata": {},
   "outputs": [
    {
     "data": {
      "text/html": [
       "<div>\n",
       "<style scoped>\n",
       "    .dataframe tbody tr th:only-of-type {\n",
       "        vertical-align: middle;\n",
       "    }\n",
       "\n",
       "    .dataframe tbody tr th {\n",
       "        vertical-align: top;\n",
       "    }\n",
       "\n",
       "    .dataframe thead th {\n",
       "        text-align: right;\n",
       "    }\n",
       "</style>\n",
       "<table border=\"1\" class=\"dataframe\">\n",
       "  <thead>\n",
       "    <tr style=\"text-align: right;\">\n",
       "      <th></th>\n",
       "      <th>preds</th>\n",
       "      <th>truth</th>\n",
       "    </tr>\n",
       "  </thead>\n",
       "  <tbody>\n",
       "    <tr>\n",
       "      <th>0</th>\n",
       "      <td>0</td>\n",
       "      <td>0</td>\n",
       "    </tr>\n",
       "    <tr>\n",
       "      <th>1</th>\n",
       "      <td>0</td>\n",
       "      <td>0</td>\n",
       "    </tr>\n",
       "    <tr>\n",
       "      <th>2</th>\n",
       "      <td>0</td>\n",
       "      <td>0</td>\n",
       "    </tr>\n",
       "    <tr>\n",
       "      <th>3</th>\n",
       "      <td>0</td>\n",
       "      <td>0</td>\n",
       "    </tr>\n",
       "    <tr>\n",
       "      <th>4</th>\n",
       "      <td>0</td>\n",
       "      <td>0</td>\n",
       "    </tr>\n",
       "  </tbody>\n",
       "</table>\n",
       "</div>"
      ],
      "text/plain": [
       "   preds  truth\n",
       "0      0      0\n",
       "1      0      0\n",
       "2      0      0\n",
       "3      0      0\n",
       "4      0      0"
      ]
     },
     "execution_count": 20,
     "metadata": {},
     "output_type": "execute_result"
    }
   ],
   "source": [
    "preds.head()"
   ]
  },
  {
   "cell_type": "code",
   "execution_count": 128,
   "metadata": {},
   "outputs": [],
   "source": [
    "coefs = pd.DataFrame(gs.best_estimator_.named_steps['lr'].coef_,columns=list(X_test.columns))"
   ]
  },
  {
   "cell_type": "code",
   "execution_count": 139,
   "metadata": {},
   "outputs": [],
   "source": [
    "scalar = gs.best_estimator_.steps[0][1].var_"
   ]
  },
  {
   "cell_type": "code",
   "execution_count": 144,
   "metadata": {},
   "outputs": [
    {
     "data": {
      "text/html": [
       "<div>\n",
       "<style scoped>\n",
       "    .dataframe tbody tr th:only-of-type {\n",
       "        vertical-align: middle;\n",
       "    }\n",
       "\n",
       "    .dataframe tbody tr th {\n",
       "        vertical-align: top;\n",
       "    }\n",
       "\n",
       "    .dataframe thead th {\n",
       "        text-align: right;\n",
       "    }\n",
       "</style>\n",
       "<table border=\"1\" class=\"dataframe\">\n",
       "  <thead>\n",
       "    <tr style=\"text-align: right;\">\n",
       "      <th></th>\n",
       "      <th>0</th>\n",
       "    </tr>\n",
       "  </thead>\n",
       "  <tbody>\n",
       "    <tr>\n",
       "      <th>Day_length</th>\n",
       "      <td>-0.110032</td>\n",
       "    </tr>\n",
       "    <tr>\n",
       "      <th>Tmax</th>\n",
       "      <td>0.008569</td>\n",
       "    </tr>\n",
       "    <tr>\n",
       "      <th>Tmin</th>\n",
       "      <td>0.092149</td>\n",
       "    </tr>\n",
       "    <tr>\n",
       "      <th>Tavg</th>\n",
       "      <td>0.038730</td>\n",
       "    </tr>\n",
       "    <tr>\n",
       "      <th>ResultSpeed</th>\n",
       "      <td>0.046628</td>\n",
       "    </tr>\n",
       "    <tr>\n",
       "      <th>ResultDir</th>\n",
       "      <td>0.015374</td>\n",
       "    </tr>\n",
       "    <tr>\n",
       "      <th>AvgSpeed</th>\n",
       "      <td>-0.047583</td>\n",
       "    </tr>\n",
       "    <tr>\n",
       "      <th>Sunset</th>\n",
       "      <td>-0.133089</td>\n",
       "    </tr>\n",
       "    <tr>\n",
       "      <th>Heat</th>\n",
       "      <td>0.024957</td>\n",
       "    </tr>\n",
       "    <tr>\n",
       "      <th>Depart</th>\n",
       "      <td>-0.140172</td>\n",
       "    </tr>\n",
       "    <tr>\n",
       "      <th>DewPoint</th>\n",
       "      <td>0.000000</td>\n",
       "    </tr>\n",
       "    <tr>\n",
       "      <th>Cool</th>\n",
       "      <td>0.064983</td>\n",
       "    </tr>\n",
       "    <tr>\n",
       "      <th>PrecipTotal</th>\n",
       "      <td>0.022718</td>\n",
       "    </tr>\n",
       "    <tr>\n",
       "      <th>StnPressure</th>\n",
       "      <td>0.060365</td>\n",
       "    </tr>\n",
       "    <tr>\n",
       "      <th>Latitude</th>\n",
       "      <td>-0.143737</td>\n",
       "    </tr>\n",
       "    <tr>\n",
       "      <th>Longitude</th>\n",
       "      <td>-0.311980</td>\n",
       "    </tr>\n",
       "    <tr>\n",
       "      <th>Month</th>\n",
       "      <td>0.010719</td>\n",
       "    </tr>\n",
       "    <tr>\n",
       "      <th>Day_length_exp</th>\n",
       "      <td>0.130912</td>\n",
       "    </tr>\n",
       "    <tr>\n",
       "      <th>Tavg_shift</th>\n",
       "      <td>0.068165</td>\n",
       "    </tr>\n",
       "    <tr>\n",
       "      <th>Heat_exp</th>\n",
       "      <td>-0.370919</td>\n",
       "    </tr>\n",
       "    <tr>\n",
       "      <th>Cool_shift</th>\n",
       "      <td>0.126425</td>\n",
       "    </tr>\n",
       "    <tr>\n",
       "      <th>Tmax_shift</th>\n",
       "      <td>0.011142</td>\n",
       "    </tr>\n",
       "    <tr>\n",
       "      <th>Tmin_shift</th>\n",
       "      <td>0.100085</td>\n",
       "    </tr>\n",
       "    <tr>\n",
       "      <th>Depart_shift</th>\n",
       "      <td>-0.147522</td>\n",
       "    </tr>\n",
       "    <tr>\n",
       "      <th>ResultSpeed_shift</th>\n",
       "      <td>-0.141361</td>\n",
       "    </tr>\n",
       "    <tr>\n",
       "      <th>ResultDir_exp</th>\n",
       "      <td>-0.242296</td>\n",
       "    </tr>\n",
       "    <tr>\n",
       "      <th>PrecipTotal_exp</th>\n",
       "      <td>0.269322</td>\n",
       "    </tr>\n",
       "    <tr>\n",
       "      <th>Species_CULEX ERRATICUS</th>\n",
       "      <td>0.000000</td>\n",
       "    </tr>\n",
       "    <tr>\n",
       "      <th>Species_CULEX PIPIENS</th>\n",
       "      <td>0.115362</td>\n",
       "    </tr>\n",
       "    <tr>\n",
       "      <th>Species_CULEX PIPIENS/RESTUANS</th>\n",
       "      <td>0.060398</td>\n",
       "    </tr>\n",
       "    <tr>\n",
       "      <th>Species_CULEX RESTUANS</th>\n",
       "      <td>-0.101101</td>\n",
       "    </tr>\n",
       "    <tr>\n",
       "      <th>Species_CULEX SALINARIUS</th>\n",
       "      <td>-0.084298</td>\n",
       "    </tr>\n",
       "    <tr>\n",
       "      <th>Species_CULEX TARSALIS</th>\n",
       "      <td>-0.010735</td>\n",
       "    </tr>\n",
       "    <tr>\n",
       "      <th>Species_CULEX TERRITANS</th>\n",
       "      <td>-0.141237</td>\n",
       "    </tr>\n",
       "  </tbody>\n",
       "</table>\n",
       "</div>"
      ],
      "text/plain": [
       "                                       0\n",
       "Day_length                     -0.110032\n",
       "Tmax                            0.008569\n",
       "Tmin                            0.092149\n",
       "Tavg                            0.038730\n",
       "ResultSpeed                     0.046628\n",
       "ResultDir                       0.015374\n",
       "AvgSpeed                       -0.047583\n",
       "Sunset                         -0.133089\n",
       "Heat                            0.024957\n",
       "Depart                         -0.140172\n",
       "DewPoint                        0.000000\n",
       "Cool                            0.064983\n",
       "PrecipTotal                     0.022718\n",
       "StnPressure                     0.060365\n",
       "Latitude                       -0.143737\n",
       "Longitude                      -0.311980\n",
       "Month                           0.010719\n",
       "Day_length_exp                  0.130912\n",
       "Tavg_shift                      0.068165\n",
       "Heat_exp                       -0.370919\n",
       "Cool_shift                      0.126425\n",
       "Tmax_shift                      0.011142\n",
       "Tmin_shift                      0.100085\n",
       "Depart_shift                   -0.147522\n",
       "ResultSpeed_shift              -0.141361\n",
       "ResultDir_exp                  -0.242296\n",
       "PrecipTotal_exp                 0.269322\n",
       "Species_CULEX ERRATICUS         0.000000\n",
       "Species_CULEX PIPIENS           0.115362\n",
       "Species_CULEX PIPIENS/RESTUANS  0.060398\n",
       "Species_CULEX RESTUANS         -0.101101\n",
       "Species_CULEX SALINARIUS       -0.084298\n",
       "Species_CULEX TARSALIS         -0.010735\n",
       "Species_CULEX TERRITANS        -0.141237"
      ]
     },
     "execution_count": 144,
     "metadata": {},
     "output_type": "execute_result"
    }
   ],
   "source": [
    "coefs.T"
   ]
  },
  {
   "cell_type": "code",
   "execution_count": null,
   "metadata": {},
   "outputs": [],
   "source": []
  },
  {
   "cell_type": "code",
   "execution_count": 18,
   "metadata": {},
   "outputs": [],
   "source": [
    "with open('../assets/logistic_regression.pkl','wb+') as f:\n",
    "    pickle.dump(gs,f)"
   ]
  },
  {
   "cell_type": "code",
   "execution_count": null,
   "metadata": {},
   "outputs": [],
   "source": []
  },
  {
   "cell_type": "code",
   "execution_count": null,
   "metadata": {},
   "outputs": [],
   "source": []
  }
 ],
 "metadata": {
  "kernelspec": {
   "display_name": "Python 3",
   "language": "python",
   "name": "python3"
  },
  "language_info": {
   "codemirror_mode": {
    "name": "ipython",
    "version": 3
   },
   "file_extension": ".py",
   "mimetype": "text/x-python",
   "name": "python",
   "nbconvert_exporter": "python",
   "pygments_lexer": "ipython3",
   "version": "3.6.5"
  }
 },
 "nbformat": 4,
 "nbformat_minor": 2
}
