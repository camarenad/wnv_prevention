{
 "cells": [
  {
   "cell_type": "markdown",
   "metadata": {},
   "source": [
    "# 4. Random Forest\n",
    "\n",
    "A Random Forest Classifier is a decision based ensemble method that uses a series of decision trees to determine the class of our input variables. It works by selecting a random set of features at each node then averaging them together. This helps reduce overfitting by not emphasizing any one particular feature over another. We felt this model would be good to implement, because decision trees make no assumptions about the spread of the data and are very quick to train. \n",
    "\n",
    "After spending a good amount of time searching through hyperparameters to find an optimum fit, we were able to construct a model that satisfied our requirements for production readyness. *Although our results with this model exhibited overfitting with a low amount power on unseen data*, it acheived a comprable `roc_auc` score to our highest scoring Logistic Regression model. Coupling that with ranked feature importance, which allows us to interpret how weather conditions are affecting the growth, we feel confident in utilizing this model to predict the presence of WNV in mosquito populations.\n",
    "\n",
    "*This is our production model*\n"
   ]
  },
  {
   "cell_type": "markdown",
   "metadata": {},
   "source": [
    "## Table of Contents\n",
    "\n",
    "1. [Running Pipeline & Gridsearching](#1)\n",
    "2. [Scoring](#2)\n",
    "3. [Feature Importances](#3)\n",
    "4. [Analysis](#4)"
   ]
  },
  {
   "cell_type": "code",
   "execution_count": 2,
   "metadata": {},
   "outputs": [],
   "source": [
    "import numpy as np\n",
    "import pandas as pd\n",
    "import pickle\n",
    "import seaborn as sns\n",
    "from treeinterpreter import treeinterpreter as ti\n",
    "from sklearn.preprocessing import StandardScaler\n",
    "from sklearn.pipeline import Pipeline\n",
    "from sklearn.model_selection import GridSearchCV, TimeSeriesSplit\n",
    "from sklearn.ensemble import RandomForestClassifier\n",
    "from sklearn import tree\n",
    "import matplotlib.pyplot as plt\n",
    "import warnings\n",
    "warnings.filterwarnings('ignore')"
   ]
  },
  {
   "cell_type": "markdown",
   "metadata": {},
   "source": [
    "#### Importing the Time Series split assets\n",
    "With n_splits set at 3"
   ]
  },
  {
   "cell_type": "code",
   "execution_count": 3,
   "metadata": {},
   "outputs": [],
   "source": [
    "X_train = pd.read_pickle('../assets/X_train.pkl')\n",
    "X_test = pd.read_pickle('../assets/X_test.pkl')\n",
    "y_train = pd.read_pickle('../assets/y_train.pkl')\n",
    "y_test = pd.read_pickle('../assets/y_test.pkl')"
   ]
  },
  {
   "cell_type": "code",
   "execution_count": 4,
   "metadata": {},
   "outputs": [
    {
     "data": {
      "text/plain": [
       "Index(['Latitude', 'Longitude', 'Month', 'Day_length_shift', 'Tavg_shift',\n",
       "       'Heat_shift', 'Cool_shift', 'Tmax_shift', 'Tmin_shift', 'Depart_shift',\n",
       "       'ResultSpeed_shift', 'ResultDir_shift', 'WetBulb_shift',\n",
       "       'Species_CULEX ERRATICUS', 'Species_CULEX PIPIENS',\n",
       "       'Species_CULEX PIPIENS/RESTUANS', 'Species_CULEX RESTUANS',\n",
       "       'Species_CULEX SALINARIUS', 'Species_CULEX TARSALIS',\n",
       "       'Species_CULEX TERRITANS'],\n",
       "      dtype='object')"
      ]
     },
     "execution_count": 4,
     "metadata": {},
     "output_type": "execute_result"
    }
   ],
   "source": [
    "X_train.columns"
   ]
  },
  {
   "cell_type": "markdown",
   "metadata": {},
   "source": [
    "<a name=\"1\"></a>\n",
    "## 1. Running a Pipeline and Gridsearching Hyperparameters"
   ]
  },
  {
   "cell_type": "markdown",
   "metadata": {},
   "source": [
    "### 1a. Running a pipeline\n",
    "With a standard scaler and a Random Forest Classifier, the pipeline expedites and streamlines these processes. We are setting are model to use 200 decision trees, and we are measuring information gain with entropy as opposed to gini. These optimal parameters were found after gridsearching several iterations."
   ]
  },
  {
   "cell_type": "code",
   "execution_count": 5,
   "metadata": {},
   "outputs": [],
   "source": [
    "pipe = Pipeline([\n",
    "    ('rfc',RandomForestClassifier(n_jobs=3,\n",
    "                                  n_estimators=200,\n",
    "                                  random_state=42,\n",
    "                                  criterion='entropy'))])"
   ]
  },
  {
   "cell_type": "markdown",
   "metadata": {},
   "source": [
    "### 1b. Setting the range of hyperparameters \n",
    "After extensive gridsearching, we believe to have found the optimal range for our parameters, which includes min samples split, and min impurity decrease.\n",
    "- `min_samples_split`: the minimum number of samples required to split an internal node.\n",
    "- `min_impurity_decrease`: A node will be split if the impurity decrease is equal to or greater than this value."
   ]
  },
  {
   "cell_type": "code",
   "execution_count": 6,
   "metadata": {},
   "outputs": [],
   "source": [
    "param_grid =  {\n",
    "    'rfc__min_samples_split': [10, 15, 20, 25, 30],\n",
    "    'rfc__min_impurity_decrease': np.linspace(.00001, .001, 20)\n",
    "}"
   ]
  },
  {
   "cell_type": "markdown",
   "metadata": {},
   "source": [
    "### 1c. Gridsearching with timeseries split\n",
    "\n",
    "We used `roc_auc` as our scoring metric. There are several reasons for this:\n",
    "\n",
    "1. ROC looks at the True Positive Rate vs. the False Positive Rate rate of our predictions. We need to optimize / minimize false negatives, as failing to detect WNV where it exists means we can't answer our problem statement.\n",
    "2. The score is scale invariant, meaning that we're being scored on the strength of our predictions, as opposed to a binary of either \"correct\" / \"incorrect\".\n",
    "\n",
    "Given the spatiotemporal nature of our data we opted to use a time-series split on our train and test set instead of a train test split. We set the n_splits at three which which works the following way:\n",
    "1. Train on fold 1+2 –>  Test on fold 3\n",
    "2. Compute the average of the accuracies of the 3 test folds (number of folds  – 1)"
   ]
  },
  {
   "cell_type": "code",
   "execution_count": 7,
   "metadata": {},
   "outputs": [],
   "source": [
    "np.random.seed(40)\n",
    "gs = GridSearchCV(pipe, \n",
    "                  param_grid=param_grid,\n",
    "                  verbose=1,\n",
    "                  scoring='roc_auc', \n",
    "                  cv=TimeSeriesSplit(),\n",
    "                  )"
   ]
  },
  {
   "cell_type": "code",
   "execution_count": 8,
   "metadata": {},
   "outputs": [
    {
     "name": "stdout",
     "output_type": "stream",
     "text": [
      "Fitting 3 folds for each of 100 candidates, totalling 300 fits\n"
     ]
    },
    {
     "name": "stderr",
     "output_type": "stream",
     "text": [
      "[Parallel(n_jobs=1)]: Using backend SequentialBackend with 1 concurrent workers.\n",
      "[Parallel(n_jobs=1)]: Done 300 out of 300 | elapsed:  2.3min finished\n"
     ]
    },
    {
     "data": {
      "text/plain": [
       "GridSearchCV(cv=TimeSeriesSplit(max_train_size=None, n_splits=3),\n",
       "       error_score='raise-deprecating',\n",
       "       estimator=Pipeline(memory=None,\n",
       "     steps=[('rfc', RandomForestClassifier(bootstrap=True, class_weight=None, criterion='entropy',\n",
       "            max_depth=None, max_features='auto', max_leaf_nodes=None,\n",
       "            min_impurity_decrease=0.0, min_impurity_split=None,\n",
       "            min_samples_leaf=1, min_samples_split=2,\n",
       "            min_weight_fraction_leaf=0.0, n_estimators=200, n_jobs=3,\n",
       "            oob_score=False, random_state=42, verbose=0, warm_start=False))]),\n",
       "       fit_params=None, iid='warn', n_jobs=None,\n",
       "       param_grid={'rfc__min_samples_split': [10, 15, 20, 25, 30], 'rfc__min_impurity_decrease': array([1.00000e-05, 6.21053e-05, 1.14211e-04, 1.66316e-04, 2.18421e-04,\n",
       "       2.70526e-04, 3.22632e-04, 3.74737e-04, 4.26842e-04, 4.78947e-04,\n",
       "       5.31053e-04, 5.83158e-04, 6.35263e-04, 6.87368e-04, 7.39474e-04,\n",
       "       7.91579e-04, 8.43684e-04, 8.95789e-04, 9.47895e-04, 1.00000e-03])},\n",
       "       pre_dispatch='2*n_jobs', refit=True, return_train_score='warn',\n",
       "       scoring='roc_auc', verbose=1)"
      ]
     },
     "execution_count": 8,
     "metadata": {},
     "output_type": "execute_result"
    }
   ],
   "source": [
    "gs.fit(X_train,y_train)"
   ]
  },
  {
   "cell_type": "markdown",
   "metadata": {},
   "source": [
    "<a name=\"2\"></a>\n",
    "## 2. Scoring\n",
    "\n",
    "While our data is relatively overfit to the Training set, the score here is comprable to what we received on our best Logistic Regression model (which scored the highest on our test data). Given that, we interpreted the outcome of our modeling with catious optimism. We feel confident that this model can be used to shape decisions regarding the frequency and location of pesticide application."
   ]
  },
  {
   "cell_type": "code",
   "execution_count": 9,
   "metadata": {},
   "outputs": [
    {
     "data": {
      "text/plain": [
       "0.960617127951614"
      ]
     },
     "execution_count": 9,
     "metadata": {},
     "output_type": "execute_result"
    }
   ],
   "source": [
    "gs.score(X_train,y_train)"
   ]
  },
  {
   "cell_type": "code",
   "execution_count": 10,
   "metadata": {
    "scrolled": true
   },
   "outputs": [
    {
     "data": {
      "text/plain": [
       "0.7234540691763693"
      ]
     },
     "execution_count": 10,
     "metadata": {},
     "output_type": "execute_result"
    }
   ],
   "source": [
    "gs.score(X_test,y_test)"
   ]
  },
  {
   "cell_type": "code",
   "execution_count": 11,
   "metadata": {},
   "outputs": [],
   "source": [
    "X_train_preds = gs.predict(X_train)"
   ]
  },
  {
   "cell_type": "code",
   "execution_count": 14,
   "metadata": {},
   "outputs": [],
   "source": [
    "preds = pd.DataFrame({\n",
    "    \"preds\":X_train_preds,\n",
    "    \"truth\":y_train\n",
    "})\n"
   ]
  },
  {
   "cell_type": "markdown",
   "metadata": {},
   "source": [
    "#### Predictions of WNV on our Train Dataset"
   ]
  },
  {
   "cell_type": "code",
   "execution_count": 15,
   "metadata": {},
   "outputs": [
    {
     "data": {
      "text/plain": [
       "preds     12\n",
       "truth    261\n",
       "dtype: int64"
      ]
     },
     "execution_count": 15,
     "metadata": {},
     "output_type": "execute_result"
    }
   ],
   "source": [
    "preds.sum()"
   ]
  },
  {
   "cell_type": "code",
   "execution_count": 16,
   "metadata": {},
   "outputs": [
    {
     "data": {
      "text/plain": [
       "{'rfc__min_impurity_decrease': 0.0002705263157894737,\n",
       " 'rfc__min_samples_split': 15}"
      ]
     },
     "execution_count": 16,
     "metadata": {},
     "output_type": "execute_result"
    }
   ],
   "source": [
    "gs.best_params_"
   ]
  },
  {
   "cell_type": "markdown",
   "metadata": {},
   "source": [
    "**Saving model to pickle**"
   ]
  },
  {
   "cell_type": "code",
   "execution_count": 17,
   "metadata": {},
   "outputs": [],
   "source": [
    "with open('../assets/rf_0925_303.pkl','wb+') as f:\n",
    "     pickle.dump(gs,f)"
   ]
  },
  {
   "cell_type": "markdown",
   "metadata": {},
   "source": [
    "<a name=\"3\"></a>\n",
    "## 3. Feature importances\n"
   ]
  },
  {
   "cell_type": "code",
   "execution_count": 18,
   "metadata": {},
   "outputs": [],
   "source": [
    "feat_importances = pd.DataFrame(gs.best_estimator_.named_steps['rfc'].feature_importances_, X_train.columns, columns=['importance'])"
   ]
  },
  {
   "cell_type": "code",
   "execution_count": 19,
   "metadata": {},
   "outputs": [
    {
     "data": {
      "text/html": [
       "<div>\n",
       "<style scoped>\n",
       "    .dataframe tbody tr th:only-of-type {\n",
       "        vertical-align: middle;\n",
       "    }\n",
       "\n",
       "    .dataframe tbody tr th {\n",
       "        vertical-align: top;\n",
       "    }\n",
       "\n",
       "    .dataframe thead th {\n",
       "        text-align: right;\n",
       "    }\n",
       "</style>\n",
       "<table border=\"1\" class=\"dataframe\">\n",
       "  <thead>\n",
       "    <tr style=\"text-align: right;\">\n",
       "      <th></th>\n",
       "      <th>importance</th>\n",
       "    </tr>\n",
       "  </thead>\n",
       "  <tbody>\n",
       "    <tr>\n",
       "      <th>Day_length_shift</th>\n",
       "      <td>0.160191</td>\n",
       "    </tr>\n",
       "    <tr>\n",
       "      <th>Longitude</th>\n",
       "      <td>0.146461</td>\n",
       "    </tr>\n",
       "    <tr>\n",
       "      <th>Latitude</th>\n",
       "      <td>0.112854</td>\n",
       "    </tr>\n",
       "    <tr>\n",
       "      <th>WetBulb_shift</th>\n",
       "      <td>0.086720</td>\n",
       "    </tr>\n",
       "    <tr>\n",
       "      <th>Month</th>\n",
       "      <td>0.080470</td>\n",
       "    </tr>\n",
       "    <tr>\n",
       "      <th>Tmin_shift</th>\n",
       "      <td>0.058307</td>\n",
       "    </tr>\n",
       "    <tr>\n",
       "      <th>ResultSpeed_shift</th>\n",
       "      <td>0.054231</td>\n",
       "    </tr>\n",
       "    <tr>\n",
       "      <th>Tavg_shift</th>\n",
       "      <td>0.050732</td>\n",
       "    </tr>\n",
       "    <tr>\n",
       "      <th>Depart_shift</th>\n",
       "      <td>0.048224</td>\n",
       "    </tr>\n",
       "    <tr>\n",
       "      <th>Cool_shift</th>\n",
       "      <td>0.045717</td>\n",
       "    </tr>\n",
       "    <tr>\n",
       "      <th>Tmax_shift</th>\n",
       "      <td>0.042980</td>\n",
       "    </tr>\n",
       "    <tr>\n",
       "      <th>ResultDir_shift</th>\n",
       "      <td>0.041827</td>\n",
       "    </tr>\n",
       "    <tr>\n",
       "      <th>Species_CULEX RESTUANS</th>\n",
       "      <td>0.022343</td>\n",
       "    </tr>\n",
       "    <tr>\n",
       "      <th>Species_CULEX PIPIENS</th>\n",
       "      <td>0.022047</td>\n",
       "    </tr>\n",
       "    <tr>\n",
       "      <th>Species_CULEX PIPIENS/RESTUANS</th>\n",
       "      <td>0.016258</td>\n",
       "    </tr>\n",
       "    <tr>\n",
       "      <th>Heat_shift</th>\n",
       "      <td>0.005292</td>\n",
       "    </tr>\n",
       "    <tr>\n",
       "      <th>Species_CULEX TERRITANS</th>\n",
       "      <td>0.004991</td>\n",
       "    </tr>\n",
       "    <tr>\n",
       "      <th>Species_CULEX SALINARIUS</th>\n",
       "      <td>0.000354</td>\n",
       "    </tr>\n",
       "    <tr>\n",
       "      <th>Species_CULEX ERRATICUS</th>\n",
       "      <td>0.000000</td>\n",
       "    </tr>\n",
       "    <tr>\n",
       "      <th>Species_CULEX TARSALIS</th>\n",
       "      <td>0.000000</td>\n",
       "    </tr>\n",
       "  </tbody>\n",
       "</table>\n",
       "</div>"
      ],
      "text/plain": [
       "                                importance\n",
       "Day_length_shift                  0.160191\n",
       "Longitude                         0.146461\n",
       "Latitude                          0.112854\n",
       "WetBulb_shift                     0.086720\n",
       "Month                             0.080470\n",
       "Tmin_shift                        0.058307\n",
       "ResultSpeed_shift                 0.054231\n",
       "Tavg_shift                        0.050732\n",
       "Depart_shift                      0.048224\n",
       "Cool_shift                        0.045717\n",
       "Tmax_shift                        0.042980\n",
       "ResultDir_shift                   0.041827\n",
       "Species_CULEX RESTUANS            0.022343\n",
       "Species_CULEX PIPIENS             0.022047\n",
       "Species_CULEX PIPIENS/RESTUANS    0.016258\n",
       "Heat_shift                        0.005292\n",
       "Species_CULEX TERRITANS           0.004991\n",
       "Species_CULEX SALINARIUS          0.000354\n",
       "Species_CULEX ERRATICUS           0.000000\n",
       "Species_CULEX TARSALIS            0.000000"
      ]
     },
     "execution_count": 19,
     "metadata": {},
     "output_type": "execute_result"
    }
   ],
   "source": [
    "feat_importances.sort_values('importance', ascending=False)"
   ]
  },
  {
   "cell_type": "markdown",
   "metadata": {},
   "source": [
    "#### Plotting Feature Importances"
   ]
  },
  {
   "cell_type": "code",
   "execution_count": 21,
   "metadata": {},
   "outputs": [
    {
     "data": {
      "image/png": "[encoded data removed]",
      "text/plain": [
       "<Figure size 1440x720 with 1 Axes>"
      ]
     },
     "metadata": {},
     "output_type": "display_data"
    }
   ],
   "source": [
    "plt.figure(figsize=(20,10))\n",
    "fig = sns.barplot(x='importance', \n",
    "            y=feat_importances.sort_values('importance', ascending=False).index, \n",
    "            data=feat_importances.sort_values('importance', ascending=False), \n",
    "            color='#94d1c8',\n",
    "            orient='horizontal')\n",
    "plt.xlabel(s='Importance', size='35')\n",
    "plt.xticks(size=20)\n",
    "plt.ylabel(s=\"Features\", size='35')\n",
    "plt.yticks(size=20)\n",
    "plt.tight_layout()\n",
    "# plt.savefig('../../images/feature_importance.png');"
   ]
  },
  {
   "cell_type": "markdown",
   "metadata": {},
   "source": [
    "#### Examining the Decision Path\n",
    "\n",
    "While feature importance is great to use in order to rate the absolute importance of each feature in our dataset, it doesn't tell us the effect that each feature has on every prediction.\n",
    "\n",
    "In order to develop a better idea of exactly what's happening, we employed the `treeinterpreter` [library](http://blog.datadive.net/random-forest-interpretation-with-scikit-learn/), which decomposes each prediction into a sum of contributions from each feature, along with the \"bias\" of the model (which is the percentage of observations in each class within our training set)."
   ]
  },
  {
   "cell_type": "code",
   "execution_count": 23,
   "metadata": {},
   "outputs": [],
   "source": [
    "rfc = gs.best_estimator_.named_steps['rfc']"
   ]
  },
  {
   "cell_type": "code",
   "execution_count": 64,
   "metadata": {},
   "outputs": [],
   "source": [
    "# with open('../../assets/rf_0925_303.pkl', 'rb+') as f:\n",
    "#     gs = pickle.load(f)"
   ]
  },
  {
   "cell_type": "markdown",
   "metadata": {},
   "source": [
    "Using `treeinterpreter` to decompose each observation into predictions, bias, and contributions"
   ]
  },
  {
   "cell_type": "code",
   "execution_count": 24,
   "metadata": {},
   "outputs": [],
   "source": [
    "prediction, bias, contributions = ti.predict(rfc, X_test)"
   ]
  },
  {
   "cell_type": "code",
   "execution_count": 25,
   "metadata": {},
   "outputs": [],
   "source": [
    "cols = X_test.columns"
   ]
  },
  {
   "cell_type": "markdown",
   "metadata": {},
   "source": [
    "#### Examining the First Three Observations with `treeinterpreter`"
   ]
  },
  {
   "cell_type": "code",
   "execution_count": 68,
   "metadata": {},
   "outputs": [
    {
     "name": "stdout",
     "output_type": "stream",
     "text": [
      "Observation 0\n",
      "Prediction [0.9949459 0.0050541]\n",
      "Bias (trainset mean) [0.95980719 0.04019281]\n",
      "Feature contributions:\n",
      "Latitude: [ 0.00247177 -0.00247177]\n",
      "Longitude: [ 0.00505124 -0.00505124]\n",
      "Month: [-0.00542658  0.00542658]\n",
      "Day_length_shift: [ 0.00065893 -0.00065893]\n",
      "Tavg_shift: [ 0.00737069 -0.00737069]\n",
      "Heat_shift: [ 0.00060363 -0.00060363]\n",
      "Cool_shift: [ 0.00735564 -0.00735564]\n",
      "Tmax_shift: [ 0.00194402 -0.00194402]\n",
      "Tmin_shift: [ 0.00474307 -0.00474307]\n",
      "Depart_shift: [ 0.00420852 -0.00420852]\n",
      "ResultSpeed_shift: [-0.00012321  0.00012321]\n",
      "ResultDir_shift: [-0.00325206  0.00325206]\n",
      "WetBulb_shift: [ 0.00520895 -0.00520895]\n",
      "Species_CULEX ERRATICUS: [0. 0.]\n",
      "Species_CULEX PIPIENS: [ 0.00022087 -0.00022087]\n",
      "Species_CULEX PIPIENS/RESTUANS: [ 0.00163492 -0.00163492]\n",
      "Species_CULEX RESTUANS: [ 0.00248115 -0.00248115]\n",
      "Species_CULEX SALINARIUS: [0. 0.]\n",
      "Species_CULEX TARSALIS: [0. 0.]\n",
      "Species_CULEX TERRITANS: [-1.28343824e-05  1.28343824e-05]\n",
      "--------------------\n",
      "Observation 1\n",
      "Prediction [0.99333813 0.00666187]\n",
      "Bias (trainset mean) [0.95980719 0.04019281]\n",
      "Feature contributions:\n",
      "Latitude: [ 0.00403712 -0.00403712]\n",
      "Longitude: [ 0.00870038 -0.00870038]\n",
      "Month: [-0.00545242  0.00545242]\n",
      "Day_length_shift: [ 0.00026712 -0.00026712]\n",
      "Tavg_shift: [ 0.00744474 -0.00744474]\n",
      "Heat_shift: [ 0.0004867 -0.0004867]\n",
      "Cool_shift: [ 0.00743413 -0.00743413]\n",
      "Tmax_shift: [ 0.00156946 -0.00156946]\n",
      "Tmin_shift: [ 0.00420297 -0.00420297]\n",
      "Depart_shift: [ 0.00421413 -0.00421413]\n",
      "ResultSpeed_shift: [-0.00024049  0.00024049]\n",
      "ResultDir_shift: [-0.00339312  0.00339312]\n",
      "WetBulb_shift: [ 0.00629813 -0.00629813]\n",
      "Species_CULEX ERRATICUS: [0. 0.]\n",
      "Species_CULEX PIPIENS: [ 0.00028587 -0.00028587]\n",
      "Species_CULEX PIPIENS/RESTUANS: [-0.0015151  0.0015151]\n",
      "Species_CULEX RESTUANS: [-0.00079583  0.00079583]\n",
      "Species_CULEX SALINARIUS: [0. 0.]\n",
      "Species_CULEX TARSALIS: [0. 0.]\n",
      "Species_CULEX TERRITANS: [-1.28343824e-05  1.28343824e-05]\n",
      "--------------------\n",
      "Observation 2\n",
      "Prediction [0.99555283 0.00444717]\n",
      "Bias (trainset mean) [0.95980719 0.04019281]\n",
      "Feature contributions:\n",
      "Latitude: [ 0.00347683 -0.00347683]\n",
      "Longitude: [ 0.00569566 -0.00569566]\n",
      "Month: [-0.00531026  0.00531026]\n",
      "Day_length_shift: [ 0.00035412 -0.00035412]\n",
      "Tavg_shift: [ 0.00701295 -0.00701295]\n",
      "Heat_shift: [ 0.00060363 -0.00060363]\n",
      "Cool_shift: [ 0.00734218 -0.00734218]\n",
      "Tmax_shift: [ 0.00170121 -0.00170121]\n",
      "Tmin_shift: [ 0.00418517 -0.00418517]\n",
      "Depart_shift: [ 0.00426116 -0.00426116]\n",
      "ResultSpeed_shift: [-4.83921585e-05  4.83921585e-05]\n",
      "ResultDir_shift: [-0.00333043  0.00333043]\n",
      "WetBulb_shift: [ 0.00535951 -0.00535951]\n",
      "Species_CULEX ERRATICUS: [0. 0.]\n",
      "Species_CULEX PIPIENS: [ 0.00033906 -0.00033906]\n",
      "Species_CULEX PIPIENS/RESTUANS: [ 0.00163492 -0.00163492]\n",
      "Species_CULEX RESTUANS: [ 0.00248115 -0.00248115]\n",
      "Species_CULEX SALINARIUS: [0. 0.]\n",
      "Species_CULEX TARSALIS: [0. 0.]\n",
      "Species_CULEX TERRITANS: [-1.28343824e-05  1.28343824e-05]\n",
      "--------------------\n"
     ]
    }
   ],
   "source": [
    "for i in range(len(X_test[:3])):\n",
    "    print(\"Observation\", i)\n",
    "    print(\"Prediction\", prediction[i])\n",
    "    print(\"Bias (trainset mean)\", bias[i])\n",
    "    print(\"Feature contributions:\")\n",
    "    for j,c in enumerate(contributions[i]):\n",
    "        print(f\"{cols[j]}: {c}\")\n",
    "    print(\"-\" * 20)"
   ]
  },
  {
   "cell_type": "markdown",
   "metadata": {},
   "source": [
    "<a name=\"4\"></a>\n",
    "## 4. Analysis:\n",
    "\n",
    "Our feature importances outline which features are most idicative of the presence or lack therof of WNV. Surprisingly, 3 non-directly weather related conditions are by far and away our most important features:\n",
    "\n",
    "- The presence of `Day_length` at the top confirms our prior about it's relation to the abundance of mosquitos. \n",
    "- With both `latitude` and `longitude` ranked highly, we can infer that the location of the trap makes a difference when it comes to the abundance of mosquitos (and therefore) the concentration of WNV. This could be due to the topographical difference in locations, where standing water or other bodies of water are more likely to be near certain traps, etc.\n",
    "\n",
    "Given that the vast majority of observations in our training data did not have WNV, each of our observations was heavily weighted towards not having WNV. This is somewhat dissappointing, as we could've minimized false negatives even more if our classes had been more evenly balanced.\n",
    "\n",
    "#### The Effect of Weather Related Features\n",
    "\n",
    "The most important weather related feature turned out to be `WetBulb`, which again makes a lot of \"common\" sense. The higher the `WetBulb` temperature, the more relative humidity. Of course, the more relative humidity, the greater the saturation of water in the air, and the greater potential for mosquitos (and WNV) to [spread](https://www.accuweather.com/en/weather-news/bite-me-weathers-impact-on-mos/34268).\n",
    "\n",
    "The remaining weather related features are all clustered with a similar importance (sans `Heat`), all in-between 0.04 & 0.06. Looking at each observation in `treeinterpreter`, these feature importances are only shifting the odds of an observation containing WNV ever so slightly. This shows us that while each feature has an effect on the prediction, no-single one of them could provide enough influence to shift a prediction from negative to positive. We see this as confirming that it's the sum of all mosquito-optimal weather conditions in concert that allow mosquitos to proliferate (and potentially spread disease).\n",
    "\n",
    "#### Takeways\n",
    "\n",
    "Through our research, we've discovered a number of weather related conditions that do effect the growth of mosquitos, and thereby the presence of WNV:\n",
    "\n",
    "- Out of all weather conditions, the level of moisture in the air provides the greatest influence on mosquito abundance.\n",
    "- The combination of \"optimal\" mosquito weather conditions (high `WetBulb`, `Tavg`, and a lack of `Resultspeed`) are what cause the largest gain in the presence of WNV.\n",
    "- While weather is important, location and day length are even more influential on mosquito abundance."
   ]
  }
 ],
 "metadata": {
  "kernelspec": {
   "display_name": "Python 3",
   "language": "python",
   "name": "python3"
  },
  "language_info": {
   "codemirror_mode": {
    "name": "ipython",
    "version": 3
   },
   "file_extension": ".py",
   "mimetype": "text/x-python",
   "name": "python",
   "nbconvert_exporter": "python",
   "pygments_lexer": "ipython3",
   "version": "3.6.5"
  }
 },
 "nbformat": 4,
 "nbformat_minor": 2
}
